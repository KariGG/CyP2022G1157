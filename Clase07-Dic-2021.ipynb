{
  "nbformat": 4,
  "nbformat_minor": 0,
  "metadata": {
    "colab": {
      "name": "Fundamentos4_CyP_1157.ipynb",
      "provenance": [],
      "authorship_tag": "ABX9TyN1zR+IUHW/V/depyuStWIJ",
      "include_colab_link": true
    },
    "kernelspec": {
      "name": "python3",
      "display_name": "Python 3"
    },
    "language_info": {
      "name": "python"
    }
  },
  "cells": [
    {
      "cell_type": "markdown",
      "metadata": {
        "id": "view-in-github",
        "colab_type": "text"
      },
      "source": [
        "<a href=\"https://colab.research.google.com/github/KariGG/CyP2022G1157/blob/main/Clase07-Dic-2021.ipynb\" target=\"_parent\"><img src=\"https://colab.research.google.com/assets/colab-badge.svg\" alt=\"Open In Colab\"/></a>"
      ]
    },
    {
      "cell_type": "markdown",
      "metadata": {
        "id": "-RMY_KtoUHhh"
      },
      "source": [
        "#Modularidad (funciones)\n",
        "Una función es una unidad de código reutilizable, además de un mecanismo para organizar código. La gran ventaja de emplear funciones es simplificar la programación.\n",
        "\n",
        "###Estructura\n",
        "Una función puede toamr cualquier cantidad de parámetros de entrada (de cualquier tipo) y retorna únicamente un solo valor.\n",
        "Un parámetro de entrada es un valor que recibe la función para realizar sus operaciones.\n",
        "\n",
        "Con una función se pueden hacer 2 cosas:\n",
        "1. definirila\n",
        "2. invocarla (ejecutarla)\n",
        "\n"
      ]
    },
    {
      "cell_type": "code",
      "metadata": {
        "id": "no_pmUqcXTC5"
      },
      "source": [
        "def sumar( op1 , op2):\n",
        "    res = op1 + op2\n",
        "    return res\n"
      ],
      "execution_count": null,
      "outputs": []
    },
    {
      "cell_type": "code",
      "metadata": {
        "colab": {
          "base_uri": "https://localhost:8080/"
        },
        "id": "fSWlJaEuYGiQ",
        "outputId": "d6627a1f-66e9-4f0e-e8d1-91ebe9d63690"
      },
      "source": [
        "res = sumar( 2 , 5 )\n",
        "print(res)"
      ],
      "execution_count": null,
      "outputs": [
        {
          "output_type": "stream",
          "name": "stdout",
          "text": [
            "7\n"
          ]
        }
      ]
    },
    {
      "cell_type": "code",
      "metadata": {
        "colab": {
          "base_uri": "https://localhost:8080/"
        },
        "id": "LYv6U7TjacU3",
        "outputId": "dfbeea95-8af3-41a2-eb98-e4bbd729dd8e"
      },
      "source": [
        "def imprimeCuadro():\n",
        "    print(\"* * *\")\n",
        "    print(\"* * *\")\n",
        "    print(\"* * *\")\n",
        "    #Por defecto hace: return None\n",
        "imprimeCuadro()"
      ],
      "execution_count": null,
      "outputs": [
        {
          "output_type": "stream",
          "name": "stdout",
          "text": [
            "* * *\n",
            "* * *\n",
            "* * *\n"
          ]
        }
      ]
    },
    {
      "cell_type": "markdown",
      "metadata": {
        "id": "AapGWVMba9kW"
      },
      "source": [
        "#Valor de retorno de una función\n",
        "###REGLA DE ORO\n",
        "Una función siempre retorna 1 solo valor, aun cuando el valor es el vacío"
      ]
    },
    {
      "cell_type": "code",
      "metadata": {
        "colab": {
          "base_uri": "https://localhost:8080/"
        },
        "id": "C_FeH2nMbOtu",
        "outputId": "0f9d6df5-3916-451a-a743-ab02d3dec98e"
      },
      "source": [
        "#invocar: sumar\n",
        "res = sumar(7,8)\n",
        "print(res)\n",
        "#invocar: pintar cuadro\n",
        "res = imprimeCuadro()\n",
        "print(res)"
      ],
      "execution_count": null,
      "outputs": [
        {
          "output_type": "stream",
          "name": "stdout",
          "text": [
            "15\n",
            "* * *\n",
            "* * *\n",
            "* * *\n",
            "None\n"
          ]
        }
      ]
    },
    {
      "cell_type": "markdown",
      "metadata": {
        "id": "vmTClQdsdcw-"
      },
      "source": [
        "#La palabra reservada None en Python\n",
        "Esta palabra reservada significa vacío, equivalente a la palabra 'void' del lenguaje C, C++ & Java.\n",
        "Se usa para indicar, ya sea un return vacío, o que se recibe como parámetro vacío"
      ]
    },
    {
      "cell_type": "code",
      "metadata": {
        "id": "f9bGBnC0d5Z9"
      },
      "source": [
        "def multiplicar( valor , veces ):\n",
        "    c = valor * veces\n",
        "    return c\n"
      ],
      "execution_count": null,
      "outputs": []
    },
    {
      "cell_type": "code",
      "metadata": {
        "colab": {
          "base_uri": "https://localhost:8080/"
        },
        "id": "HxZsxrVweH8n",
        "outputId": "d086d9a9-f380-45b5-e87f-af081b4f3dd5"
      },
      "source": [
        "resu = multiplicar( 5 , 5 )\n",
        "print(resu)"
      ],
      "execution_count": null,
      "outputs": [
        {
          "output_type": "stream",
          "name": "stdout",
          "text": [
            "25\n"
          ]
        }
      ]
    },
    {
      "cell_type": "code",
      "metadata": {
        "id": "eE7QWU-3fKqu"
      },
      "source": [
        "def multiplicar( valor , veces ):\n",
        "    if valor == None:\n",
        "        c = -1\n",
        "    else:\n",
        "        c = valor * veces\n",
        "    return c"
      ],
      "execution_count": null,
      "outputs": []
    },
    {
      "cell_type": "code",
      "metadata": {
        "colab": {
          "base_uri": "https://localhost:8080/"
        },
        "id": "Icf1zhjEfL9Y",
        "outputId": "53b246e4-2331-4293-a9ad-5ae77d3aad8c"
      },
      "source": [
        "resu = multiplicar( None, 5 )\n",
        "print(resu)"
      ],
      "execution_count": null,
      "outputs": [
        {
          "output_type": "stream",
          "name": "stdout",
          "text": [
            "-1\n"
          ]
        }
      ]
    },
    {
      "cell_type": "markdown",
      "metadata": {
        "id": "yr-pLnTvfsRU"
      },
      "source": [
        "#Parámetros y argumentos.\n",
        "Son conceptos relacionados y su diferencia está centrada en el momento que se emplea en una función\n",
        "\n",
        "Es decir: en la función 'sumar' (arriba) cuando se declara se le llama parámetro y cuando se invoca se le llama argumento"
      ]
    },
    {
      "cell_type": "markdown",
      "metadata": {
        "id": "RD0BHvadgame"
      },
      "source": [
        "#Argumentos posicionales\n",
        "En python es posible determinar a qué parámetros están dirigidos los argumentos, según su posición."
      ]
    },
    {
      "cell_type": "code",
      "metadata": {
        "id": "YnvgwxZ5fra6"
      },
      "source": [
        "def dividir (op1 , op2):\n",
        "    c = op1 / op2\n",
        "    return c"
      ],
      "execution_count": null,
      "outputs": []
    },
    {
      "cell_type": "code",
      "metadata": {
        "colab": {
          "base_uri": "https://localhost:8080/"
        },
        "id": "pEcrpCqwg5v9",
        "outputId": "70bb0606-5adc-4d51-b0a9-d7bffe169b1e"
      },
      "source": [
        "num1 = 25\n",
        "num2 = 5\n",
        "res = dividir(num1, num2)\n",
        "print(res)\n",
        "res = dividir(num2, num1)\n",
        "print(res)"
      ],
      "execution_count": null,
      "outputs": [
        {
          "output_type": "stream",
          "name": "stdout",
          "text": [
            "5.0\n",
            "0.2\n"
          ]
        }
      ]
    },
    {
      "cell_type": "markdown",
      "metadata": {
        "id": "9aPhCstihfE1"
      },
      "source": [
        "#Argumentos con palabras clave (keywords)\n",
        "Es la posibilidad de indicarle a la función en tiempo de ejecución a qué parámetro va dirigido a qué argumento de entrada.\n",
        "Sólo disponible en Python"
      ]
    },
    {
      "cell_type": "code",
      "metadata": {
        "colab": {
          "base_uri": "https://localhost:8080/"
        },
        "id": "CMOAA-_Zhe5-",
        "outputId": "c83812f8-d96e-4337-b161-31f0341f43c7"
      },
      "source": [
        "res = dividir( op2=num2 , op1=num1)\n",
        "print(res)"
      ],
      "execution_count": null,
      "outputs": [
        {
          "output_type": "stream",
          "name": "stdout",
          "text": [
            "5.0\n"
          ]
        }
      ]
    },
    {
      "cell_type": "code",
      "source": [
        ""
      ],
      "metadata": {
        "id": "FdQhW-m994A6"
      },
      "execution_count": null,
      "outputs": []
    },
    {
      "cell_type": "markdown",
      "source": [
        "-\"Argumento por defecto\n",
        "es la capacidad de las fuciones de estanblecer un valor por defecto (default9\n",
        "Si no se envia un argumento a dicho parametro, encotnces seasigna el que el programador asignó como default"
      ],
      "metadata": {
        "id": "trL180iB-CVe"
      }
    },
    {
      "cell_type": "code",
      "source": [
        "def dividir(op1, op2=1):\n",
        "    c = op1 / op2\n",
        "    return c\n",
        "print( dividir(25) )\n"
      ],
      "metadata": {
        "colab": {
          "base_uri": "https://localhost:8080/"
        },
        "id": "rDYe4C0b-mG_",
        "outputId": "599a741d-7bbd-42f6-820a-f1e57f96e6b2"
      },
      "execution_count": 1,
      "outputs": [
        {
          "output_type": "stream",
          "name": "stdout",
          "text": [
            "25.0\n"
          ]
        }
      ]
    },
    {
      "cell_type": "markdown",
      "source": [
        "este concepto se puede ejemplificar con la funcion print"
      ],
      "metadata": {
        "id": "XvnRKqdh_Gln"
      }
    },
    {
      "cell_type": "code",
      "source": [
        "help(print)"
      ],
      "metadata": {
        "colab": {
          "base_uri": "https://localhost:8080/"
        },
        "id": "OpkGFtlQ_oLG",
        "outputId": "3f433f47-5e91-44af-ee2a-1da95a67114a"
      },
      "execution_count": 2,
      "outputs": [
        {
          "output_type": "stream",
          "name": "stdout",
          "text": [
            "Help on built-in function print in module builtins:\n",
            "\n",
            "print(...)\n",
            "    print(value, ..., sep=' ', end='\\n', file=sys.stdout, flush=False)\n",
            "    \n",
            "    Prints the values to a stream, or to sys.stdout by default.\n",
            "    Optional keyword arguments:\n",
            "    file:  a file-like object (stream); defaults to the current sys.stdout.\n",
            "    sep:   string inserted between values, default a space.\n",
            "    end:   string appended after the last value, default a newline.\n",
            "    flush: whether to forcibly flush the stream.\n",
            "\n"
          ]
        }
      ]
    },
    {
      "cell_type": "code",
      "source": [
        "nombre = \"Kari\"\n",
        "edad = 24\n",
        "print(nombre , edad)\n",
        "print(nombre , edad, sep='\\n')\n",
        "print(nombre , edad, sep=',')\n",
        "print(nombre , edad, sep='+-+-+-+-+-')\n",
        "print(nombre , edad, sep='+++', end=' ')\n",
        "print(nombre , edad, end=' ')"
      ],
      "metadata": {
        "colab": {
          "base_uri": "https://localhost:8080/"
        },
        "id": "Ukq3pqdU_reO",
        "outputId": "3dcc74c6-f0df-4e09-b06d-72f43d2a2f13"
      },
      "execution_count": 9,
      "outputs": [
        {
          "output_type": "stream",
          "name": "stdout",
          "text": [
            "Kari 24\n",
            "Kari\n",
            "24\n",
            "Kari,24\n",
            "Kari+-+-+-+-+-24\n",
            "Kari+++24 Kari 24 "
          ]
        }
      ]
    },
    {
      "cell_type": "code",
      "source": [
        "def comanda(comensal = 1, primer=\"Consome\", segundo=\"Arroz\", tercero=\"Enchiladas\"):\n",
        "    print(f\"El Comensal {comensal} quiere:\")\n",
        "    print(\"\\t Entrada: \", primer)\n",
        "    print(\"\\t Medio: \", segundo)\n",
        "    print(\"\\t Plato fuerte: \", tercero)\n",
        "\n",
        "comanda()\n",
        "comanda(3, \"Ensalada\", \"Arroz blanco\", \"Espárragos al horno\")\n",
        "comanda(segundo=\"arroz blanco\",tercero=\"Esparragos al horno\",primer=\"Ensalada\",comensal=3)"
      ],
      "metadata": {
        "colab": {
          "base_uri": "https://localhost:8080/"
        },
        "id": "IqamNLgbBCiv",
        "outputId": "7ea87b0b-ddc3-4c4f-c9f4-2cb3ced23e74"
      },
      "execution_count": 25,
      "outputs": [
        {
          "output_type": "stream",
          "name": "stdout",
          "text": [
            "El Comensal 1 quiere:\n",
            "\t Entrada:  Consome\n",
            "\t Medio:  Arroz\n",
            "\t Plato fuerte:  Enchiladas\n",
            "El Comensal 3 quiere:\n",
            "\t Entrada:  Ensalada\n",
            "\t Medio:  Arroz blanco\n",
            "\t Plato fuerte:  Espárragos al horno\n",
            "El Comensal 3 quiere:\n",
            "\t Entrada:  Ensalada\n",
            "\t Medio:  arroz blanco\n",
            "\t Plato fuerte:  Esparragos al horno\n"
          ]
        }
      ]
    },
    {
      "cell_type": "markdown",
      "source": [
        "#Argumentos enviados en grupo en una tupla.\n",
        "Esto sirve para enviar multiples argumentos a una funcion empleando el comodín * .\n",
        "```\n",
        "def mifun(args*):\n",
        "    <cuerpo de la fun\n",
        "```"
      ],
      "metadata": {
        "id": "jvu9RJnSD3Td"
      }
    },
    {
      "cell_type": "code",
      "source": [
        "def comanda2( *opciones):\n",
        "    print(opciones)\n",
        "    print(f\"El Comensal {opciones[0]} quiere:\")\n",
        "    print(\"\\t Entrada: \", opciones[1])\n",
        "    print(\"\\t Medio: \", opciones[2])\n",
        "    print(\"\\t Plato fuerte: \", opciones[3])\n",
        "    print(\"indicaciones extra: \")\n",
        "    for instrucciones in opciones [4::]:\n",
        "        print(\"\\n\", instrucciones)\n",
        "comanda2(1, \"sopa de fideo\", \"arroz\", \"pechuga asada\", \"Arrachera\", \"La arrachera que aún se mueva\", \"Postre: Gelatina\")"
      ],
      "metadata": {
        "colab": {
          "base_uri": "https://localhost:8080/"
        },
        "id": "w6H40D9DD26e",
        "outputId": "cd678316-b0bf-41c3-bc7a-dc6619f7f6a3"
      },
      "execution_count": 26,
      "outputs": [
        {
          "output_type": "stream",
          "name": "stdout",
          "text": [
            "(1, 'sopa de fideo', 'arroz', 'pechuga asada', 'Arrachera', 'La arrachera que aún se mueva', 'Postre: Gelatina')\n",
            "El Comensal 1 quiere:\n",
            "\t Entrada:  sopa de fideo\n",
            "\t Medio:  arroz\n",
            "\t Plato fuerte:  pechuga asada\n",
            "indicaciones extra: \n",
            "\n",
            " Arrachera\n",
            "\n",
            " La arrachera que aún se mueva\n",
            "\n",
            " Postre: Gelatina\n"
          ]
        }
      ]
    },
    {
      "cell_type": "markdown",
      "source": [
        "#Argumentos enviados en grupo en un diccionario.\n",
        "Mismo concepto que el anterior pero se usa el comodín ** y se mapea a un diccionario.\n"
      ],
      "metadata": {
        "id": "nC7R3g2HG43M"
      }
    },
    {
      "cell_type": "code",
      "source": [
        "def comanda3( **opciones ):\n",
        "    print(opciones)\n",
        "    print(f\"El Comensal {opciones['comensal']} quiere:\")\n",
        "    print(\"\\t Entrada: \", opciones['primer'])\n",
        "    print(\"\\t Medio: \", opciones['segundo'])\n",
        "    print(\"\\t Plato fuerte: \", opciones['tercero'])\n",
        "    print(\"Indicaciones extra: \")\n",
        "   \n",
        "comanda3(segundo=\"arroz blanco\",tercero=\"Esparragos al horno\",primer=\"Ensalada\",comensal=3)\n"
      ],
      "metadata": {
        "colab": {
          "base_uri": "https://localhost:8080/"
        },
        "id": "iCwV89tyHCDV",
        "outputId": "974f7380-389a-4328-b506-2f18c20d5b85"
      },
      "execution_count": 31,
      "outputs": [
        {
          "output_type": "stream",
          "name": "stdout",
          "text": [
            "{'segundo': 'arroz blanco', 'tercero': 'Esparragos al horno', 'primer': 'Ensalada', 'comensal': 3}\n",
            "El Comensal 3 quiere:\n",
            "\t Entrada:  Ensalada\n",
            "\t Medio:  arroz blanco\n",
            "\t Plato fuerte:  Esparragos al horno\n",
            "indicaciones extra: \n"
          ]
        }
      ]
    },
    {
      "cell_type": "code",
      "source": [
        "def comanda3( **opciones ):\n",
        "    ops = opciones.keys()\n",
        "    print(ops)\n",
        "    for key in ops:\n",
        "        print(f\"{key} = {opciones[key]}\")\n",
        "comanda3(segundo=\"arroz blanco\",tercero=\"Esparragos al horno\",primer=\"Ensalada\",comensal=3)\n"
      ],
      "metadata": {
        "colab": {
          "base_uri": "https://localhost:8080/"
        },
        "id": "n0Z7DZC9I1i0",
        "outputId": "be0ed9d5-08d4-45ae-ae9a-ec4214c06852"
      },
      "execution_count": 37,
      "outputs": [
        {
          "output_type": "stream",
          "name": "stdout",
          "text": [
            "dict_keys(['segundo', 'tercero', 'primer', 'comensal'])\n",
            "segundo = arroz blanco\n",
            "tercero = Esparragos al horno\n",
            "primer = Ensalada\n",
            "comensal = 3\n"
          ]
        }
      ]
    },
    {
      "cell_type": "markdown",
      "source": [
        "#Modularidad y Bibliotecas.\n",
        "Todos los lenguajes de programación tienen la capacidad de compartir código entre la comunidad de desarrolladores..\n",
        "Para ello cada lenguaje establece un mecanismo para escribir y compartir bibliotecas."
      ],
      "metadata": {
        "id": "fHOUffzYJmtt"
      }
    },
    {
      "cell_type": "code",
      "source": [
        "#En color amarillo\n",
        "!pip install simple_chalk "
      ],
      "metadata": {
        "colab": {
          "base_uri": "https://localhost:8080/"
        },
        "id": "rOQEEgAyMDdF",
        "outputId": "4f1b457f-29ba-46a9-dac4-d4d2dbb03362"
      },
      "execution_count": 41,
      "outputs": [
        {
          "output_type": "stream",
          "name": "stdout",
          "text": [
            "Collecting simple_chalk\n",
            "  Downloading simple_chalk-0.1.0.tar.gz (13 kB)\n",
            "Building wheels for collected packages: simple-chalk\n",
            "  Building wheel for simple-chalk (setup.py) ... \u001b[?25l\u001b[?25hdone\n",
            "  Created wheel for simple-chalk: filename=simple_chalk-0.1.0-py3-none-any.whl size=22163 sha256=45d4c3c6d621a49e902d9eeb51aec6365fdd7812ae6c66da2ef9ff804cf41fcc\n",
            "  Stored in directory: /root/.cache/pip/wheels/24/e2/84/d54838032016039eef79df1137b91defaa6db068d825dfcdcd\n",
            "Successfully built simple-chalk\n",
            "Installing collected packages: simple-chalk\n",
            "Successfully installed simple-chalk-0.1.0\n"
          ]
        }
      ]
    },
    {
      "cell_type": "code",
      "source": [
        "from simple_chalk import chalk, magentaBright\n",
        "#Hola en color amarillo\n",
        "print(chalk.magentaBright(\"Hola en color amarillo\"))\n"
      ],
      "metadata": {
        "colab": {
          "base_uri": "https://localhost:8080/"
        },
        "id": "-3gvAPmrKwQf",
        "outputId": "a69f15e8-0798-4742-8d20-22085d08343a"
      },
      "execution_count": 50,
      "outputs": [
        {
          "output_type": "stream",
          "name": "stdout",
          "text": [
            "\u001b[95mHola en color amarillo\u001b[0m\n"
          ]
        }
      ]
    },
    {
      "cell_type": "markdown",
      "source": [
        "#¿Cómo escribo un módulo (bilbioteca)?\n",
        "Se define en un archivo de biblioteca.\n",
        "Cada lenjuage tiene su mecanismo, en el caso de Pyhton:\n"
      ],
      "metadata": {
        "id": "nmSZk-czPAWM"
      }
    },
    {
      "cell_type": "code",
      "source": [
        "!cat mi_modulo.py"
      ],
      "metadata": {
        "colab": {
          "base_uri": "https://localhost:8080/"
        },
        "id": "7c1JiVzAQbyR",
        "outputId": "6ee5c553-d5e0-4685-b9e8-97a8cd420dcb"
      },
      "execution_count": 51,
      "outputs": [
        {
          "output_type": "stream",
          "name": "stdout",
          "text": [
            "def sumar (a , b):\r\n",
            "    return a + b\r\n",
            "def mi_print(texto, final):\r\n",
            "    print(\"Super: \", texto, end=final)\r\n",
            "    "
          ]
        }
      ]
    },
    {
      "cell_type": "code",
      "source": [
        "import mi_modulo\n",
        "res = mi_modulo.sumar(7,5)\n",
        "print(res)\n",
        "mi_modulo.mi_print(\"Kari\", \"\\n\")"
      ],
      "metadata": {
        "colab": {
          "base_uri": "https://localhost:8080/"
        },
        "id": "O1P3ULAJQqMi",
        "outputId": "75c1dec4-752b-4367-8689-284218b2c2bd"
      },
      "execution_count": 54,
      "outputs": [
        {
          "output_type": "stream",
          "name": "stdout",
          "text": [
            "12\n",
            "Super:  Kari\n"
          ]
        }
      ]
    },
    {
      "cell_type": "code",
      "source": [
        "from mi_modulo import sumar\n",
        "res = sumar(5,8)\n",
        "print(res)"
      ],
      "metadata": {
        "colab": {
          "base_uri": "https://localhost:8080/"
        },
        "id": "16SnZmz5SI8N",
        "outputId": "80260702-8a47-46f4-8295-5a53e59d9f10"
      },
      "execution_count": 55,
      "outputs": [
        {
          "output_type": "stream",
          "name": "stdout",
          "text": [
            "13\n"
          ]
        }
      ]
    },
    {
      "cell_type": "code",
      "source": [
        "archivo = open(\"salida.txt\", \"wt\")\n",
        "archivo.write(\"Hola mundo\")\n",
        "archivo.close()"
      ],
      "metadata": {
        "id": "xR4vr_L8TYtC"
      },
      "execution_count": 56,
      "outputs": []
    },
    {
      "cell_type": "code",
      "source": [
        "!cat salida.txt"
      ],
      "metadata": {
        "colab": {
          "base_uri": "https://localhost:8080/"
        },
        "id": "wj8TKh0vThcB",
        "outputId": "539e3515-4896-4361-9299-a14551ceeadb"
      },
      "execution_count": 57,
      "outputs": [
        {
          "output_type": "stream",
          "name": "stdout",
          "text": [
            "Hola mundo"
          ]
        }
      ]
    }
  ]
}