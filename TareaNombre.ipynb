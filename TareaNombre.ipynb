{
  "nbformat": 4,
  "nbformat_minor": 0,
  "metadata": {
    "colab": {
      "name": "Tareas.ipynb",
      "provenance": [],
      "authorship_tag": "ABX9TyMeKLm5l51H1G+XEgoe4yeX",
      "include_colab_link": true
    },
    "kernelspec": {
      "name": "python3",
      "display_name": "Python 3"
    },
    "language_info": {
      "name": "python"
    }
  },
  "cells": [
    {
      "cell_type": "markdown",
      "metadata": {
        "id": "view-in-github",
        "colab_type": "text"
      },
      "source": [
        "<a href=\"https://colab.research.google.com/github/KariGG/CyP2022G1157/blob/Homework/TareaNombre.ipynb\" target=\"_parent\"><img src=\"https://colab.research.google.com/assets/colab-badge.svg\" alt=\"Open In Colab\"/></a>"
      ]
    },
    {
      "cell_type": "markdown",
      "metadata": {
        "id": "1mAL7dc2Wugt"
      },
      "source": [
        "##Tarea 21-Oct-21\n",
        "Con una sola función print POR LETRA van a escribir su primer nombre, como se muestra en la imagen adjunta\n"
      ]
    },
    {
      "cell_type": "code",
      "metadata": {
        "colab": {
          "base_uri": "https://localhost:8080/"
        },
        "id": "RMSWMsBfW74h",
        "outputId": "4421e32c-e5ea-4d18-ee69-1a0eecb0796e"
      },
      "source": [
        "K=\"  K   K \\n  K K   \\n  KK    \\n  K K   \\n  K   K \\n\"\n",
        "A=\"    A     \\n   A A    \\n  A   A   \\n A A A A  \\nA       A \\n\"\n",
        "R=\"  R R R  \\n  R    R \\n  R R R  \\n  R  R   \\n  R    R \\n\"\n",
        "I=\"    I \\n    I \\n    I \\n    I \\n    I \\n\"\n",
        "N=\" N    N \\n N N  N \\n N  N N \\n N   NN \\n N    N \\n\"\n",
        "print(K+A+R+I+N+A)\n",
        "print (f\"{A}{N}{I}{R}{A}{K}\")\n",
        "print(\"K   K      A      R R R   I  N    N      A \\nK K       A A     R    R  I  N N  N     A A\\nKK       A   A    R R R   I  N  N N    A   A\\nK K     A A A A   R  R    I  N   NN   A A A A\\nK   K  A       A  R    R  I  N    N  A       A\\n\")\n"
      ],
      "execution_count": null,
      "outputs": [
        {
          "output_type": "stream",
          "name": "stdout",
          "text": [
            "  K   K \n",
            "  K K   \n",
            "  KK    \n",
            "  K K   \n",
            "  K   K \n",
            "    A     \n",
            "   A A    \n",
            "  A   A   \n",
            " A A A A  \n",
            "A       A \n",
            "  R R R  \n",
            "  R    R \n",
            "  R R R  \n",
            "  R  R   \n",
            "  R    R \n",
            "    I \n",
            "    I \n",
            "    I \n",
            "    I \n",
            "    I \n",
            " N    N \n",
            " N N  N \n",
            " N  N N \n",
            " N   NN \n",
            " N    N \n",
            "    A     \n",
            "   A A    \n",
            "  A   A   \n",
            " A A A A  \n",
            "A       A \n",
            "\n",
            "    A     \n",
            "   A A    \n",
            "  A   A   \n",
            " A A A A  \n",
            "A       A \n",
            " N    N \n",
            " N N  N \n",
            " N  N N \n",
            " N   NN \n",
            " N    N \n",
            "    I \n",
            "    I \n",
            "    I \n",
            "    I \n",
            "    I \n",
            "  R R R  \n",
            "  R    R \n",
            "  R R R  \n",
            "  R  R   \n",
            "  R    R \n",
            "    A     \n",
            "   A A    \n",
            "  A   A   \n",
            " A A A A  \n",
            "A       A \n",
            "  K   K \n",
            "  K K   \n",
            "  KK    \n",
            "  K K   \n",
            "  K   K \n",
            "\n",
            "K   K      A      R R R   I  N    N      A \n",
            "K K       A A     R    R  I  N N  N     A A\n",
            "KK       A   A    R R R   I  N  N N    A   A\n",
            "K K     A A A A   R  R    I  N   NN   A A A A\n",
            "K   K  A       A  R    R  I  N    N  A       A\n",
            "\n"
          ]
        }
      ]
    }
  ]
}