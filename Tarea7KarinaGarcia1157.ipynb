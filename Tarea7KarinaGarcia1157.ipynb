{
  "nbformat": 4,
  "nbformat_minor": 0,
  "metadata": {
    "colab": {
      "name": "Tarea7KarinaGarcia1157.ipynb",
      "provenance": [],
      "collapsed_sections": [],
      "authorship_tag": "ABX9TyOwE3yT5TB3oGfZ6L0NMbea",
      "include_colab_link": true
    },
    "kernelspec": {
      "name": "python3",
      "display_name": "Python 3"
    },
    "language_info": {
      "name": "python"
    }
  },
  "cells": [
    {
      "cell_type": "markdown",
      "metadata": {
        "id": "view-in-github",
        "colab_type": "text"
      },
      "source": [
        "<a href=\"https://colab.research.google.com/github/KariGG/CyP2022G1157/blob/Homework/Tarea7KarinaGarcia1157.ipynb\" target=\"_parent\"><img src=\"https://colab.research.google.com/assets/colab-badge.svg\" alt=\"Open In Colab\"/></a>"
      ]
    },
    {
      "cell_type": "markdown",
      "metadata": {
        "id": "M5fZhq6dE0Xd"
      },
      "source": [
        "#3.1\n",
        "Dado como datos 270 números enteros, ob\u0002tenga la suma de los números impares y el promedio de los números pares."
      ]
    },
    {
      "cell_type": "code",
      "metadata": {
        "colab": {
          "base_uri": "https://localhost:8080/"
        },
        "id": "re2Mh6WFE36M",
        "outputId": "f90e37ec-03d8-4d31-8e9a-a3262eb379c5"
      },
      "source": [
        "import random\n",
        "SUMPAR = 0\n",
        "SUMIMP = 0\n",
        "CUEPAR = 0\n",
        "totalPROM = 0\n",
        "i = 1\n",
        "\n",
        "for i in range(1, 271):\n",
        "    \n",
        "    num = random.randrange(1000)\n",
        "\n",
        "    if num  != 0:\n",
        "        if ((-1)**num) > 0:\n",
        "            SUMPAR = SUMPAR + num #Suma los números pares\n",
        "            CUEPAR = CUEPAR + 1 #Hace la cuenta de cuántos números pares van\n",
        "        else:\n",
        "            SUMIMP = SUMIMP + num #Suma los números impares\n",
        "            totalPROM = totalPROM + 1 #Cuenta cuántos números impares van\n",
        "\n",
        "    #i = i+1\n",
        "\n",
        "PROPAR = SUMPAR / CUEPAR\n",
        "print(\"Promedio: \",PROPAR,\"\\nSuma: \",SUMIMP)\n",
        "\n",
        "print(f\"Pares: {CUEPAR}\\nImpares: {totalPROM}\")\n",
        "print(\"---Fin del programa---\")"
      ],
      "execution_count": 194,
      "outputs": [
        {
          "output_type": "stream",
          "name": "stdout",
          "text": [
            "Promedio:  518.8382352941177 \n",
            "Suma:  63192\n",
            "Pares: 136\n",
            "Impares: 134\n",
            "---Fin del programa---\n"
          ]
        }
      ]
    },
    {
      "cell_type": "markdown",
      "metadata": {
        "id": "tmRPHlPYZN35"
      },
      "source": [
        "#3.2\n",
        "Obtenga la suma e imprima los términos de la siguiente serie:\n",
        "2,5, 7, 10, 12,15, 17, . . 1 800"
      ]
    },
    {
      "cell_type": "code",
      "metadata": {
        "id": "E5_GF7psZTpJ"
      },
      "source": [
        "BAND = \"T\"\n",
        "SUMSER = 0\n",
        "suma = 0\n",
        "i = 2\n",
        "while i <= 1800:\n",
        "    SUMSER = SUMSER + 1\n",
        "    suma = suma + SUMSER\n",
        "    print(i)\n",
        "    if BAND == \"T\":\n",
        "        BAND = \"F\"\n",
        "        i = i + 3\n",
        "    else:\n",
        "        BAND = \"T\"\n",
        "        i = i + 2\n",
        "\n",
        "print(\"Total de nums: \",SUMSER)\n",
        "print(\"Suma total: \",suma)\n",
        "print(\"---Fin del programa---\")"
      ],
      "execution_count": null,
      "outputs": []
    },
    {
      "cell_type": "markdown",
      "metadata": {
        "id": "fb13vTfPfnpO"
      },
      "source": [
        "#3.3\n",
        "Lea un número entero N y calcule el resultado de la siguiente serie:\n",
        "1 - 1/2 + 1/3 - 1/4 +... +- 1/n"
      ]
    },
    {
      "cell_type": "code",
      "metadata": {
        "colab": {
          "base_uri": "https://localhost:8080/"
        },
        "id": "jlsFOuwugSJH",
        "outputId": "37aa1eee-4d76-4b6f-8d36-c4c257bb34c0"
      },
      "source": [
        "num = int(input(\"Dame un número entero: \"))\n",
        "SERIE = 1\n",
        "\n",
        "for x in range(1, num+1):\n",
        "    #print(x)\n",
        "    while x > 1:\n",
        "        if ((-1)**x) > 0:\n",
        "            #print(\"par\",(-1)**x). Si tiene denominador par se resta\n",
        "            SERIE = SERIE - ((1)/x)\n",
        "            print(f\"-1/{x} = \")\n",
        "            print(SERIE)\n",
        "            x = 0 #Para salir del while\n",
        "        else:\n",
        "            #print(\"impar\",(-1)**x). Si tiene denomidnador impar se suma\n",
        "            SERIE = SERIE + (1/x)\n",
        "            print(f\"+1/{x} = \")\n",
        "            print(SERIE)\n",
        "            x = 0\n",
        "    \n",
        "print(\"Resultado: \",SERIE) \n",
        "print(\"---Fin del programa---\")"
      ],
      "execution_count": 277,
      "outputs": [
        {
          "output_type": "stream",
          "name": "stdout",
          "text": [
            "Dame un número entero: 5\n",
            "-1/2 = \n",
            "0.5\n",
            "+1/3 = \n",
            "0.8333333333333333\n",
            "-1/4 = \n",
            "0.5833333333333333\n",
            "+1/5 = \n",
            "0.7833333333333332\n",
            "Resultado:  0.7833333333333332\n",
            "---Fin del programa---\n"
          ]
        }
      ]
    },
    {
      "cell_type": "code",
      "metadata": {
        "colab": {
          "base_uri": "https://localhost:8080/"
        },
        "id": "wgUO-F16xkRU",
        "outputId": "0583ee32-e4c1-4dbf-c516-3feb23576d46"
      },
      "source": [
        "num = int(input(\"Dame un número entero: \"))\n",
        "SERIE = 0\n",
        "BAND = \"T\"\n",
        "i = 1\n",
        "while i <= num:\n",
        "    if BAND == \"T\":\n",
        "        SERIE = SERIE + (1/i)\n",
        "        BAND = \"F\"\n",
        "    else:\n",
        "        SERIE = SERIE - (1/i)\n",
        "        BAND = \"T\"\n",
        "    i = i + 1\n",
        "\n",
        "print(SERIE)\n",
        "print(\"---Fin del programa---\")"
      ],
      "execution_count": 276,
      "outputs": [
        {
          "output_type": "stream",
          "name": "stdout",
          "text": [
            "Dame un número entero: 90\n",
            "0.6876224872971933\n",
            "---Fin del programa---\n"
          ]
        }
      ]
    },
    {
      "cell_type": "markdown",
      "metadata": {
        "id": "yFFG3K-Rzzl9"
      },
      "source": [
        "#3.4\n",
        "Calcule el aumento de sueldo para un grupo de empleados de una empresa te\u0002niendo en cuenta el siguiente criterio:\n",
        "- Si el sueldo es inferior a \\$1,000> Aumento 15%\n",
        "- Si el sueldo es mayor o igual a \\$1,000> Aumento 12%\n",
        "\n",
        "Imprima el sueldo nuevo del trabajador y el total de nómina de la empresa, considerando este nuevo aumento."
      ]
    },
    {
      "cell_type": "code",
      "metadata": {
        "colab": {
          "base_uri": "https://localhost:8080/"
        },
        "id": "aSjZBOMn0Wvh",
        "outputId": "c70c8ade-96e7-4c7b-d5aa-0f21c0fd3eb8"
      },
      "source": [
        "NOM = 0\n",
        "SUE = float(input(\"Dame un sueldo: \"))\n",
        "while SUE != -1:\n",
        "    if SUE < 1000:\n",
        "        NSUE = SUE * 1.15\n",
        "    else:\n",
        "        NSUE = SUE * 1.12\n",
        "    NOM = NOM + NSUE\n",
        "    print(\"Nuevo sueldo: \", NSUE)\n",
        "    SUE = float(input(\"Dame un sueldo: \"))\n",
        "print(\"Nómina: \", NOM)\n",
        "\n",
        "\n"
      ],
      "execution_count": 285,
      "outputs": [
        {
          "output_type": "stream",
          "name": "stdout",
          "text": [
            "Dame un sueldo: 855\n",
            "Nuevo sueldo:  983.2499999999999\n",
            "Dame un sueldo: 760.32\n",
            "Nuevo sueldo:  874.3679999999999\n",
            "Dame un sueldo: 1100.20\n",
            "Nuevo sueldo:  1232.2240000000002\n",
            "Dame un sueldo: 614\n",
            "Nuevo sueldo:  706.0999999999999\n",
            "Dame un sueldo: 2600\n",
            "Nuevo sueldo:  2912.0000000000005\n",
            "Dame un sueldo: 817.50\n",
            "Nuevo sueldo:  940.1249999999999\n",
            "Dame un sueldo: 1280.30\n",
            "Nuevo sueldo:  1433.9360000000001\n",
            "Dame un sueldo: 687\n",
            "Nuevo sueldo:  790.05\n",
            "Dame un sueldo: -1\n",
            "Nómina:  9872.053\n"
          ]
        }
      ]
    }
  ]
}