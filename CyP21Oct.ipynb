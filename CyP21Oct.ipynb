{
  "nbformat": 4,
  "nbformat_minor": 0,
  "metadata": {
    "colab": {
      "name": "CyP2022",
      "provenance": [],
      "collapsed_sections": [],
      "authorship_tag": "ABX9TyNdBzd0rGavGgjUkAeG1BTz",
      "include_colab_link": true
    },
    "kernelspec": {
      "name": "python3",
      "display_name": "Python 3"
    },
    "language_info": {
      "name": "python"
    }
  },
  "cells": [
    {
      "cell_type": "markdown",
      "metadata": {
        "id": "view-in-github",
        "colab_type": "text"
      },
      "source": [
        "<a href=\"https://colab.research.google.com/github/KariGG/CyP2022G1157/blob/main/CyP21Oct.ipynb\" target=\"_parent\"><img src=\"https://colab.research.google.com/assets/colab-badge.svg\" alt=\"Open In Colab\"/></a>"
      ]
    },
    {
      "cell_type": "code",
      "metadata": {
        "colab": {
          "base_uri": "https://localhost:8080/"
        },
        "id": "X4zrWcbw0qLh",
        "outputId": "7165821f-930b-42fb-d1d5-0243e95268d3"
      },
      "source": [
        "a = 0\n",
        "b = 0\n",
        "c = 0\n",
        "print(\"Dame un valor numérico\")\n",
        "a = int(input(\"Dame un valor numérico\")) #input regresa una cadena de caracteres\n",
        "b = int(input(\"Dame otro numérico\"))\n",
        "c = a+b\n",
        "print(c)\n",
        "c = a+a\n",
        "print(c)\n",
        "c = b+b\n",
        "print(c)\n"
      ],
      "execution_count": null,
      "outputs": [
        {
          "output_type": "stream",
          "name": "stdout",
          "text": [
            "Dame un valor numérico\n",
            "Dame un valor numérico5\n",
            "Dame otro numérico18\n",
            "23\n",
            "10\n",
            "36\n"
          ]
        }
      ]
    },
    {
      "cell_type": "code",
      "metadata": {
        "colab": {
          "base_uri": "https://localhost:8080/"
        },
        "id": "oH1nofdcXWP2",
        "outputId": "f32e788d-01e1-40fa-bb2f-d1576329b620"
      },
      "source": [
        "#String\n",
        "nombre = 'Kari'\n",
        "print(nombre)"
      ],
      "execution_count": null,
      "outputs": [
        {
          "output_type": "stream",
          "name": "stdout",
          "text": [
            "Kari\n"
          ]
        }
      ]
    },
    {
      "cell_type": "markdown",
      "metadata": {
        "id": "NHRD4BqgXZ31"
      },
      "source": [
        "#Tipo de dato en Python\n",
        "\n",
        "### Tipos Simples\n",
        "\n",
        "- str -----> String, cadena decaracteres\n",
        "- int -----> Numeros enteros + -\n",
        "- float ---> Numeros con notacion de punto flotante 3.1416\n",
        "- complex -> Numeros complejos\n",
        "- bool ----> Booleano (true / false)\n",
        "- byte ----> 8 bits\n",
        "\n",
        "### Tipos Estructurados / Compuestos\n",
        "\n",
        "- list --> Listas (Arreglos en otros lenguajes)\n",
        "- dict --> Diccionarios\n",
        "- set y frozenset --> Conjuntos\n",
        "- tuple -> Listas no mutables"
      ]
    },
    {
      "cell_type": "code",
      "metadata": {
        "colab": {
          "base_uri": "https://localhost:8080/"
        },
        "id": "6X63nPJDaEoE",
        "outputId": "65522a88-d67c-4136-c794-4d408999fb3c"
      },
      "source": [
        "import sys\n",
        "edad = 19\n",
        "print (\"Tu edad es:\", edad);\n",
        "# Comentario línea simple\n",
        "\n",
        "'''\n",
        "Comentario múltiple línea\n",
        "'''\n",
        "# TIPOS DE DATOS NUMÉRICOS\n",
        "\n",
        "sys.getsizeof(edad)\n",
        "\n",
        "#El tipo de dato INt utiliza diferente cantidad de bits según el lenguaje de porg.\n",
        "\n",
        "edad = edad +1\n",
        "print(edad)\n",
        "\n",
        "estatura = 1.56 #es un flotante\n",
        "print(estatura)\n",
        "print(sys.getsizeof(estatura))\n",
        "estatura = estatura + 0.1\n",
        "print(estatura)\n",
        "print(\"Tu estat.redondeada es:\", round(estatura,2)) #porque da un 1 al final que puede interferir en el cálculo\n",
        "\n",
        "edad +=1\n",
        "print(\"Tu nueva edad es:\", edad)\n",
        "\n",
        "edad = 21\n",
        "edad /= 2\n",
        "print(\"La mitad de edad es:\",edad)\n",
        "edad = 21\n",
        "edad = edad // 2\n",
        "print(\"(división entera)la mitad de edad sin decimal:\", edad)\n",
        "\n",
        "numero = edad / 2.0\n",
        "print (numero)\n",
        "numero *= 3\n",
        "print(numero)\n",
        "\n",
        "numero = 5\n",
        "numero **= 2 #En otros lenguajes es: 'numero = numero ** 2'\n",
        "print(numero)\n",
        "\n",
        "print(\"El tipo de dato de la variable numero es:\", type (numero))\n",
        "print(\"El tipo de dato de la variable numero es:\", type (numero/2.0))"
      ],
      "execution_count": null,
      "outputs": [
        {
          "output_type": "stream",
          "name": "stdout",
          "text": [
            "Tu edad es: 19\n",
            "20\n",
            "1.56\n",
            "24\n",
            "1.6600000000000001\n",
            "Tu estat.redondeada es: 1.66\n",
            "Tu nueva edad es: 21\n",
            "La mitad de edad es: 10.5\n",
            "(división entera)la mitad de edad sin decimal: 10\n",
            "5.0\n",
            "15.0\n",
            "25\n",
            "El tipo de dato de la variable numero es: <class 'int'>\n",
            "El tipo de dato de la variable numero es: <class 'float'>\n"
          ]
        }
      ]
    },
    {
      "cell_type": "code",
      "metadata": {
        "colab": {
          "base_uri": "https://localhost:8080/"
        },
        "id": "3xYDe4JvlvqR",
        "outputId": "7ec33960-a801-459b-d727-6542334f3f6a"
      },
      "source": [
        "numero = 21\n",
        "print(numero/2)\n",
        "print(numero//2)\n",
        "#El módulo da el residuo de la división\n",
        "print(numero%2)\n"
      ],
      "execution_count": null,
      "outputs": [
        {
          "output_type": "stream",
          "name": "stdout",
          "text": [
            "10.5\n",
            "10\n",
            "1\n"
          ]
        }
      ]
    },
    {
      "cell_type": "markdown",
      "metadata": {
        "id": "UNEHiiWjp-D6"
      },
      "source": [
        "#Tipo de dato String\n",
        "\n",
        "- Se maneja como un arreglo (tipo de dato compuesto)\n",
        "- Se puede acceder a los elementos del string por medio del índice del caracter\n",
        "- Mutable\n",
        "- Tiene métodos útiles (potentes)\n",
        "- slicing"
      ]
    },
    {
      "cell_type": "code",
      "metadata": {
        "colab": {
          "base_uri": "https://localhost:8080/"
        },
        "id": "FKq3rbV2qNbM",
        "outputId": "6beeeab7-a346-4929-d0ad-3a2a7fcfd81d"
      },
      "source": [
        "nombre = \"Kari\"\n",
        "carrera = \"Ingeniería en Computación\"\n",
        "frase = \"\"\"\n",
        "Je suis l'étoil\n",
        "qui vous manquait\n",
        "\"\"\"\n",
        "print (nombre)\n",
        "print (carrera)\n",
        "print (frase)\n",
        "\n",
        "#La función type de Python te devuelve el tipo de dato de una variable o entero\n",
        "print (type (frase))\n"
      ],
      "execution_count": null,
      "outputs": [
        {
          "output_type": "stream",
          "name": "stdout",
          "text": [
            "Kari\n",
            "Ingeniería en Computación\n",
            "\n",
            "Je suis l'étoil\n",
            "qui vous manquait\n",
            "\n",
            "<class 'str'>\n"
          ]
        }
      ]
    },
    {
      "cell_type": "markdown",
      "metadata": {
        "id": "IcixmEhGpdJ1"
      },
      "source": [
        "Una clase (class) es un tipo de dato compuesto"
      ]
    },
    {
      "cell_type": "code",
      "metadata": {
        "colab": {
          "base_uri": "https://localhost:8080/"
        },
        "id": "Ilt4HuYPo4rT",
        "outputId": "b0257426-87ba-4e60-cc65-fc4b6ffc45d3"
      },
      "source": [
        "carrera = \"Ingeniería en Computación\"\n",
        "print (carrera)\n",
        "print (carrera[2])\n"
      ],
      "execution_count": null,
      "outputs": [
        {
          "output_type": "stream",
          "name": "stdout",
          "text": [
            "Ingeniería en Computación\n",
            "g\n"
          ]
        }
      ]
    },
    {
      "cell_type": "markdown",
      "metadata": {
        "id": "IVPtRg9fr-l0"
      },
      "source": [
        "A la sintaxis escrita para elegir un elemento de un grupo de datos se le llama selector. En el caso de Strings y listas (lst) se usan: [] como selectores\n",
        "\n",
        "1. En todos los lenguajes los arreglos inician en 0\n",
        "2. En Python no existe el tipo de dato 'arreglo' (El concepto es sustituido por las listas)\n",
        "3. Los strings se comportan como un arreglo en la mayoría de los lenguajes\n",
        "4. En Python se acepta le indexado negativo, en otros lenguajes no"
      ]
    },
    {
      "cell_type": "code",
      "metadata": {
        "id": "w8hoGyxesgpy"
      },
      "source": [
        "carrera = \"Ingeniería en Computación\"\n",
        "print (carrera)\n",
        "print (carrera[8])\n",
        "print (carrera[-1]) #el núm de datos del arreglo -1\n",
        "print (carrera[13])\n",
        "\n",
        "#Adelanto de ciclo for\n",
        "for letra in carrera:\n",
        "  print(\"-->\",letra,\"<--\")\n"
      ],
      "execution_count": null,
      "outputs": []
    },
    {
      "cell_type": "markdown",
      "metadata": {
        "id": "iThuwaZCu7nr"
      },
      "source": [
        "#Slicing de cadenas\n",
        "Permite seleccionar subcadensa con el operador:\n",
        "### [inicio : stop : incremento]\n",
        "El stop no se incluye, por eso debemos agregar una posición extra.\n",
        "\n",
        "###Slicing y valores por defecto\n",
        "\n",
        "El inicio por defecto siempre será 0.\n",
        "El stop será el tamaño del arreglo (indexado positivo); y 0 en indexado negativo.\n",
        "El incremento por defecto es 1 (indexado positivo) Es de cuánto en cuánto va a avanzar"
      ]
    },
    {
      "cell_type": "code",
      "metadata": {
        "colab": {
          "base_uri": "https://localhost:8080/"
        },
        "id": "R8D_orwIvYYI",
        "outputId": "0b4be852-ff46-49b4-f22f-57733a742a96"
      },
      "source": [
        "carrera = \"Ingeniería en Computación\"\n",
        "print (carrera[0:10:1])\n",
        "print (carrera[:10:]) #Este toma los valores por defecto plt se pueden omitir\n",
        "print (carrera[-11 : -1 : 1])\n",
        "print (carrera[-11 :  : 1 ]) #El valor de stop por defecto es 0, entonces se puede omitir.\n",
        "\n",
        "#Ejercicio extra ;)\n",
        "\n",
        "carrera = \"Ingeniería en Computación\"\n",
        "print (carrera[0:10:2])\n",
        "print (carrera[-1:-12:-1])\n",
        "print (carrera[25:13:-1])\n",
        "\n"
      ],
      "execution_count": null,
      "outputs": [
        {
          "output_type": "stream",
          "name": "stdout",
          "text": [
            "Ingeniería\n",
            "Ingeniería\n",
            "Computació\n",
            "Computación\n",
            "Igneí\n",
            "nóicatupmoC\n",
            "nóicatupmoC\n"
          ]
        }
      ]
    },
    {
      "cell_type": "markdown",
      "metadata": {
        "id": "iID4Jv4m0jO0"
      },
      "source": [
        "#String y sus Métodos\n",
        "Todos los tipos de dato e Python son objetos POO\n",
        "####dir() & help() funicones para obtener ayuda del lenguaje Python\n",
        "\n",
        "##dir()\n",
        "Muestra las funciones de un tipo de dato como resumen\n",
        "##help()\n",
        "Muestra la misma ayuda pero a detalle\n",
        "\n",
        "Los métodos que inician con __ son privados de uso interno de la clase y no deberíamos usarlos. Todos los demás sí."
      ]
    },
    {
      "cell_type": "code",
      "metadata": {
        "colab": {
          "base_uri": "https://localhost:8080/"
        },
        "id": "zczebQMN0i-N",
        "outputId": "43f01d59-864a-43f6-ed39-816495ab2d6d"
      },
      "source": [
        "frutas = \"limóN ,fresA, manzana  , aguacate  \"\n",
        "print(frutas)\n",
        "print( frutas.capitalize() )\n",
        "print( frutas.upper() )\n",
        "print( frutas.casefold() )\n",
        "print( frutas.replace('a','4').replace('e', '3') )\n",
        "print( frutas.replace('a','4').upper() )\n",
        "print('.-..-.-.--.-.-.-.-.-.-.-.-.-.-.-.-.-.-')\n",
        "frutas = frutas.replace('a','4')\n",
        "print(frutas)\n",
        "\n",
        "frutas = \"limóN ,fresA, manzana   , aguacate  \"\n",
        "print(frutas.strip()) #quita los espacios al inicio y al final\n",
        "print(frutas.split()) #separa por espacios\n",
        "print(frutas.split(',')) #separa por comas\n",
        "print(frutas.index('móN')) #te dice en qué posición está\n",
        "\n",
        "\n",
        "\n",
        "# dir(frutas)"
      ],
      "execution_count": null,
      "outputs": [
        {
          "output_type": "stream",
          "name": "stdout",
          "text": [
            "limóN ,fresA, manzana  , aguacate  \n",
            "Limón ,fresa, manzana  , aguacate  \n",
            "LIMÓN ,FRESA, MANZANA  , AGUACATE  \n",
            "limón ,fresa, manzana  , aguacate  \n",
            "limóN ,fr3sA, m4nz4n4  , 4gu4c4t3  \n",
            "LIMÓN ,FRESA, M4NZ4N4  , 4GU4C4TE  \n",
            ".-..-.-.--.-.-.-.-.-.-.-.-.-.-.-.-.-.-\n",
            "limóN ,fresA, m4nz4n4  , 4gu4c4te  \n",
            "limóN ,fresA, manzana   , aguacate\n",
            "['limóN', ',fresA,', 'manzana', ',', 'aguacate']\n",
            "['limóN ', 'fresA', ' manzana   ', ' aguacate  ']\n",
            "2\n",
            "-1\n"
          ]
        }
      ]
    },
    {
      "cell_type": "code",
      "metadata": {
        "colab": {
          "base_uri": "https://localhost:8080/"
        },
        "id": "Vlq13hQ160Ld",
        "outputId": "06a1e669-b1e5-49ad-9595-65d0e17d251b"
      },
      "source": [
        "help(str.index)"
      ],
      "execution_count": 48,
      "outputs": [
        {
          "output_type": "stream",
          "name": "stdout",
          "text": [
            "Help on method_descriptor:\n",
            "\n",
            "index(...)\n",
            "    S.index(sub[, start[, end]]) -> int\n",
            "    \n",
            "    Return the lowest index in S where substring sub is found, \n",
            "    such that sub is contained within S[start:end].  Optional\n",
            "    arguments start and end are interpreted as in slice notation.\n",
            "    \n",
            "    Raises ValueError when the substring is not found.\n",
            "\n"
          ]
        }
      ]
    },
    {
      "cell_type": "markdown",
      "metadata": {
        "id": "b07ePXa08ej_"
      },
      "source": [
        "#String y caracteres de escape\n",
        "\n",
        "- \\\\\" --> \"\n",
        "- \\\\' --> '\n",
        "- \\n --> Salto de línea\n",
        "- \\t --> Tab: espacios a la izq.\n",
        "- \\uxxxx    --> Caracteres unicode de baja presición 16bits (2bytes)\n",
        "- \\Uxxxxxxxx--> Caracteres unicode extendido\n",
        "- \\\\\\ --> \\\\ \n",
        "\n",
        "Unicode https://unicode-table.com/es/blocks/\n"
      ]
    },
    {
      "cell_type": "code",
      "metadata": {
        "colab": {
          "base_uri": "https://localhost:8080/"
        },
        "id": "ILcBHkNe9RCy",
        "outputId": "471683ab-d3ba-4bdb-8675-83fbe242f70d"
      },
      "source": [
        "print(\" \\\"jose\\\" \")\n",
        "carrera = \"Diseño y \\nComunicación \\nVisual\"\n",
        "print(carrera)"
      ],
      "execution_count": 2,
      "outputs": [
        {
          "output_type": "stream",
          "name": "stdout",
          "text": [
            " \"jose\" \n",
            "Diseño y \n",
            "Comunicación \n",
            "Visual\n"
          ]
        }
      ]
    },
    {
      "cell_type": "markdown",
      "metadata": {
        "id": "wHd332NDt-wQ"
      },
      "source": [
        "#UNICODE"
      ]
    },
    {
      "cell_type": "code",
      "metadata": {
        "colab": {
          "base_uri": "https://localhost:8080/"
        },
        "id": "6-97ZpJmuAbN",
        "outputId": "94de99b0-384d-4b86-cd7b-0e60a913d436"
      },
      "source": [
        "print(\"\\u0065\")\n",
        "print(\"\\u0620\")\n",
        "\n",
        "print(\"\\U0001F602\")\n",
        "print(\"\\U00010057\")\n",
        "print(\"\\U0001F970\")"
      ],
      "execution_count": 9,
      "outputs": [
        {
          "output_type": "stream",
          "name": "stdout",
          "text": [
            "e\n",
            "ؠ\n",
            "😂\n",
            "𐁗\n",
            "🥰\n"
          ]
        }
      ]
    },
    {
      "cell_type": "markdown",
      "metadata": {
        "id": "P5UW0v-hy2BM"
      },
      "source": [
        "##Función Print\n",
        "Se emplea par adesplegar información en la salida estándar. Normalmente un monitor.\n",
        "- Formas de usar\n",
        "- Argumento default de print (end)\n",
        "- format()\n",
        "- operador f\" \""
      ]
    },
    {
      "cell_type": "code",
      "metadata": {
        "colab": {
          "base_uri": "https://localhost:8080/"
        },
        "id": "mLK2bc6izJki",
        "outputId": "45f64a22-cc09-49f7-caf6-365603c83760"
      },
      "source": [
        "nombre = \"Kari\"\n",
        "edad = 24\n",
        "casado = False\n",
        "estatura = 1.60\n",
        "# 1.- Con comas: (Concatena haciendo un casting \n",
        "#[Converir a string automático]. Agrega un espacio)\n",
        "print(\"♡ Con comas\")\n",
        "print(nombre, edad, casado, estatura)\n",
        "\n",
        "# 2.- Con símbolo de \"+\": (Concatenación en crudo)\n",
        "#print(nombre + edad + casado + estatura)\n",
        "print(\"\\n♡Con símbolo '+' \")\n",
        "print(\"  \"+ nombre + \" \" + str(edad) + \" \" + str(casado) + \" \" + str(estatura))\n",
        "\n",
        "\"\"\" Para tener a la salida:\n",
        "Name: Kari\n",
        "  Age: 24\n",
        "  Married: False\n",
        "  Size in m: 1.6 \"\"\"\n",
        "print(\"  \" + \"Name:\" + nombre + \"\\n\\t\" + \"Age: \" + str(edad)+ \"\\n\\t\" +\n",
        "      \"Married: \" + str(casado) + \"\\n\\t\" + \"Size in m: \" + str(estatura))\n",
        "# 3.- Dando formato a la salida con format:\n",
        "print(\"\\n♡Con el format\")\n",
        "\"\"\"print(\"Name: {1}\\n\\tAge: {2}\\n\\tMarried: {3} \\n\\tSize in m: {4}\".format (nombre, edad, casado, estatura))\n",
        "Los índices {n} indican la variable que se va a tomar del .format()\"\"\"\n",
        "print(\"  Name: {}\\n\\tAge: {}\\n\\tMarried: {} \\n\\tSize in m: {}\".format (nombre, edad, casado, estatura))\n",
        "print(\"  Name: {3}\\n\\tAge: {2}\\n\\tMarried: {1} \\n\\tSize in m: {0}\".format (nombre, edad, casado, estatura))\n",
        "\n",
        "# 4.- Con el operador f\" \"\n",
        "print(\"\\n♡Con el operador f\\\"  \\\"\")\n",
        "print(f\"  Name: {nombre}\\n\\tAge: {edad}\\n\\tMarried: {casado} \\n\\tSize in m: {estatura}\")\n",
        "\n",
        "# Cómo manejar el argumento (end)\n",
        "print(\"\\n♡Operador (end)\")\n",
        "print(f\"  Hola {nombre}\" , end=\"\") \n",
        "print(\", Cómo estás?\" , end=\"\\n\") #si end no tiene argumento, por default toma el salto de línea"
      ],
      "execution_count": 51,
      "outputs": [
        {
          "output_type": "stream",
          "name": "stdout",
          "text": [
            "♡ Con comas\n",
            "Kari 24 False 1.6\n",
            "\n",
            "♡Con símbolo '+' \n",
            "  Kari 24 False 1.6\n",
            "  Name:Kari\n",
            "\tAge: 24\n",
            "\tMarried: False\n",
            "\tSize in m: 1.6\n",
            "\n",
            "♡Con el format\n",
            "  Name: Kari\n",
            "\tAge: 24\n",
            "\tMarried: False \n",
            "\tSize in m: 1.6\n",
            "  Name: 1.6\n",
            "\tAge: False\n",
            "\tMarried: 24 \n",
            "\tSize in m: Kari\n",
            "\n",
            "♡Con el operador f\"  \"\n",
            "  Name: Kari\n",
            "\tAge: 24\n",
            "\tMarried: False \n",
            "\tSize in m: 1.6\n",
            "\n",
            "♡Operador (end)\n",
            "  Hola Kari, Cómo estás?\n"
          ]
        }
      ]
    },
    {
      "cell_type": "markdown",
      "metadata": {
        "id": "nL3hwXqB6_ua"
      },
      "source": [
        "##Tarea1\n",
        "\n",
        "Con una sóla función print, escribir nombre de la siguiente forma:\n",
        "\n",
        "(Una sóla función por letra)"
      ]
    },
    {
      "cell_type": "code",
      "metadata": {
        "id": "noVziQ4VzwNq"
      },
      "source": [
        "K   K      A      R R R   I  N    N      A\n",
        "K K       A A     R    R  I  N N  N     A A\n",
        "KK       A   A    R R R   I  N  N N    A   A\n",
        "K K     A A A A   R  R    I  N   NN   A A A A\n",
        "K   K  A       A  R    R  I  N    N  A       A"
      ],
      "execution_count": null,
      "outputs": []
    },
    {
      "cell_type": "code",
      "metadata": {
        "colab": {
          "base_uri": "https://localhost:8080/"
        },
        "id": "TO5r_XWQ99Xu",
        "outputId": "5c53438b-8c7d-4429-a5ca-65e323d22c2c"
      },
      "source": [
        "K=\"K   K \\nK K   \\nKK    \\nK K   \\nK   K \\n\"\n",
        "A=\"     A     \\n    A A    \\n   A   A   \\n  A A A A  \\n A       A \"\n",
        "print(K+A)\n",
        "print (f\"{K}{A}\")\n",
        "print(\"K   K      A      R R R   I  N    N      A \\nK K       A A     R    R  I  N N  N     A A\\nKK       A   A    R R R   I  N  N N    A   A\\nK K     A A A A   R  R    I  N   NN   A A A A\\nK   K  A       A  R    R  I  N    N  A       A\\n\")\n"
      ],
      "execution_count": 63,
      "outputs": [
        {
          "output_type": "stream",
          "name": "stdout",
          "text": [
            "K   K \n",
            "K K   \n",
            "KK    \n",
            "K K   \n",
            "K   K \n",
            "     A     \n",
            "    A A    \n",
            "   A   A   \n",
            "  A A A A  \n",
            " A       A \n",
            "K   K \n",
            "K K   \n",
            "KK    \n",
            "K K   \n",
            "K   K \n",
            "     A     \n",
            "    A A    \n",
            "   A   A   \n",
            "  A A A A  \n",
            " A       A \n",
            "K   K      A      R R R   I  N    N      A \n",
            "K K       A A     R    R  I  N N  N     A A\n",
            "KK       A   A    R R R   I  N  N N    A   A\n",
            "K K     A A A A   R  R    I  N   NN   A A A A\n",
            "K   K  A       A  R    R  I  N    N  A       A\n",
            "\n"
          ]
        }
      ]
    }
  ]
}