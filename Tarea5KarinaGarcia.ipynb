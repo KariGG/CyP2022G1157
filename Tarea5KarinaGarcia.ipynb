{
  "nbformat": 4,
  "nbformat_minor": 0,
  "metadata": {
    "colab": {
      "name": "Tarea5KarinaGarcia.ipynb",
      "provenance": [],
      "authorship_tag": "ABX9TyMtCszYwhXi+5ta4MiDI/wd",
      "include_colab_link": true
    },
    "kernelspec": {
      "name": "python3",
      "display_name": "Python 3"
    },
    "language_info": {
      "name": "python"
    }
  },
  "cells": [
    {
      "cell_type": "markdown",
      "metadata": {
        "id": "view-in-github",
        "colab_type": "text"
      },
      "source": [
        "<a href=\"https://colab.research.google.com/github/KariGG/CyP2022G1157/blob/Homework/Tarea5KarinaGarcia.ipynb\" target=\"_parent\"><img src=\"https://colab.research.google.com/assets/colab-badge.svg\" alt=\"Open In Colab\"/></a>"
      ]
    },
    {
      "cell_type": "markdown",
      "metadata": {
        "id": "y8Ge5sNlKp6G"
      },
      "source": [
        "# Tarea: ❤ Karina García González 1157 "
      ]
    },
    {
      "cell_type": "markdown",
      "metadata": {
        "id": "caQJOfklKvk8"
      },
      "source": [
        "#1\n",
        "Programa que pida 2 num enteros y que imprima en pantalla:\n",
        "    1. cúal es el num mayor\n",
        "    2. cuál es el num menor\n",
        "    3. o imprimir que los valores son iguales"
      ]
    },
    {
      "cell_type": "code",
      "metadata": {
        "colab": {
          "base_uri": "https://localhost:8080/"
        },
        "id": "uLMuDfO2d7Xe",
        "outputId": "d138a176-9f3f-4afd-afeb-0b50820a4825"
      },
      "source": [
        "int1 = int(input(\"Ingresa el valor 1: \"))\n",
        "int2 = int(input(\"Ingresa el valor 2: \"))\n",
        "\n",
        "if int1>int2:\n",
        "    print(int1, \"es mayor que \", int2)\n",
        "elif int2>int1:\n",
        "        print(int2, \"es mayor que \", int1)\n",
        "else :\n",
        "    print(\"Son iguales\")"
      ],
      "execution_count": 13,
      "outputs": [
        {
          "output_type": "stream",
          "name": "stdout",
          "text": [
            "Ingresa el valor 1: 50\n",
            "Ingresa el valor 2: 51\n",
            "51 es mayor que  50\n"
          ]
        }
      ]
    },
    {
      "cell_type": "markdown",
      "metadata": {
        "id": "R9AXttquiaqk"
      },
      "source": [
        "#2\n",
        "Hacer un programa que solicite 3 nums enteros diferentes entre sí y que imprima cuál de los 3 es el mayor \n"
      ]
    },
    {
      "cell_type": "code",
      "metadata": {
        "id": "XKAMF0oGK7R7",
        "colab": {
          "base_uri": "https://localhost:8080/"
        },
        "outputId": "750df931-3074-4456-c274-613b2342ef23"
      },
      "source": [
        "num1 = int(input(\"Por favor dame un número entero: \"))\n",
        "num2 = int(input(\"Por favor dame otro número entero: \"))\n",
        "num3 = int(input(\"Por favor dame uno más: \"))\n",
        "\n",
        "if num1 > num2:\n",
        "    mayor = num1\n",
        "else:\n",
        "    mayor = num2\n",
        "if mayor > num3:\n",
        "    mayor = mayor\n",
        "else:\n",
        "    mayor = num3\n",
        "if num1 == num2:\n",
        "    print(\"Los números deben ser difenetes\")\n",
        "elif num2 == num3:\n",
        "    print(\"Los números deben ser difenetes\")\n",
        "elif num1 == num3:\n",
        "    print(\"Los números deben ser difenetes\")\n",
        "else:\n",
        "    print(mayor,1 \" es el mayor\")\n",
        "\n"
      ],
      "execution_count": 103,
      "outputs": [
        {
          "output_type": "stream",
          "name": "stdout",
          "text": [
            "Por favor dame un número entero: 45354\n",
            "Por favor dame otro número entero: 454\n",
            "Por favor dame uno más: 223\n",
            "45354  es el mayor\n"
          ]
        }
      ]
    },
    {
      "cell_type": "markdown",
      "metadata": {
        "id": "O6WwQ_wSi1uk"
      },
      "source": [
        "#3\n",
        "Hacer un programa que solicite 3 nums enteros diferentes entre sí\n",
        "y que imprima cuál de los 3 es el menor"
      ]
    },
    {
      "cell_type": "code",
      "metadata": {
        "colab": {
          "base_uri": "https://localhost:8080/"
        },
        "id": "5O0Q4gKKi2wL",
        "outputId": "01c72442-23c3-4e70-9e2e-dfff2f58ed32"
      },
      "source": [
        "num1 = int(input(\"Por favor dame un número entero: \"))\n",
        "num2 = int(input(\"Por favor dame otro número entero: \"))\n",
        "num3 = int(input(\"Por favor dame uno más: \"))\n",
        "\n",
        "if num1 > num2:\n",
        "    menor = num2\n",
        "else:\n",
        "    menor = num1\n",
        "if menor > num3:\n",
        "    menor = num3\n",
        "else:\n",
        "    menor = menor\n",
        "if num1 == num2:\n",
        "    print(\"Los números deben ser difenetes\")\n",
        "elif num2 == num3:\n",
        "    print(\"Los números deben ser difenetes\")\n",
        "elif num1 == num3:\n",
        "    print(\"Los números deben ser difenetes\")\n",
        "else:\n",
        "    print(menor, \" es el menor\")"
      ],
      "execution_count": 104,
      "outputs": [
        {
          "output_type": "stream",
          "name": "stdout",
          "text": [
            "Por favor dame un número entero: 544\n",
            "Por favor dame otro número entero: 213\n",
            "Por favor dame uno más: 184\n",
            "184  es el menor\n"
          ]
        }
      ]
    },
    {
      "cell_type": "markdown",
      "metadata": {
        "id": "rgSKwwZkjmvz"
      },
      "source": [
        "#4\n",
        "Hacer un programa que solicite 4 nums enteros diferentes y que imprima \n",
        "a la salida cuál es el menor y cuál es el mayor"
      ]
    },
    {
      "cell_type": "code",
      "metadata": {
        "colab": {
          "base_uri": "https://localhost:8080/"
        },
        "id": "4I2xLGSQjnuD",
        "outputId": "841d0c57-2e8d-49ca-e20f-fa6ad7e23b96"
      },
      "source": [
        "num1 = int(input(\"Por favor dame un número entero: \"))\n",
        "num2 = int(input(\"Por favor dame otro número entero: \"))\n",
        "num3 = int(input(\"Por favor dame uno más: \"))\n",
        "num4 = int(input(\"Por favor dame el último: \"))\n",
        "\n",
        "#Se comparan los números y se asignan a otra variable según su posición en la recta\n",
        "if num1 > num2:\n",
        "    mayor = num1\n",
        "    menor = num2 \n",
        "else:\n",
        "    mayor = num2\n",
        "    menor = num1 \n",
        "\n",
        "if num3 > mayor:\n",
        "    mayor = num3\n",
        "elif num3 < menor:\n",
        "    menor = num3\n",
        "else:\n",
        "    mayor = mayor\n",
        "    menor = menor\n",
        "\n",
        "if num4 > mayor:\n",
        "    mayor = num4\n",
        "elif num4 < menor:\n",
        "    menor = num4\n",
        "else:\n",
        "    mayor = mayor\n",
        "\n",
        "#Por si hay iguales...\n",
        "if num1 == num2:\n",
        "    print(\"Los números deben ser difenetes\")\n",
        "elif num2 == num3:\n",
        "    print(\"Los números deben ser difenetes\")\n",
        "elif num1 == num3:\n",
        "    print(\"Los números deben ser difenetes\")\n",
        "elif num1 == num4:\n",
        "    print(\"Los números deben ser difenetes\")\n",
        "elif num2 == num4:\n",
        "    print(\"Los números deben ser difenetes\")\n",
        "elif num3 == num4:\n",
        "    print(\"Los números deben ser difenetes\")\n",
        "  #Resultado:\n",
        "else:\n",
        "    print(mayor, \" es el mayor y \", menor, \" es el menor\")"
      ],
      "execution_count": 157,
      "outputs": [
        {
          "output_type": "stream",
          "name": "stdout",
          "text": [
            "Por favor dame un número entero: -45\n",
            "Por favor dame otro número entero: 13\n",
            "Por favor dame uno más: 546\n",
            "Por favor dame el último: 1\n",
            "546  es el mayor y  -45  es el menor\n"
          ]
        }
      ]
    }
  ]
}