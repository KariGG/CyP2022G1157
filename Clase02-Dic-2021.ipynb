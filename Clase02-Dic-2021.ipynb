{
  "nbformat": 4,
  "nbformat_minor": 0,
  "metadata": {
    "colab": {
      "name": "Fundamentos4_CyP_1157.ipynb",
      "provenance": [],
      "authorship_tag": "ABX9TyNIaWWUoSldzpxbVJFk40nm",
      "include_colab_link": true
    },
    "kernelspec": {
      "name": "python3",
      "display_name": "Python 3"
    },
    "language_info": {
      "name": "python"
    }
  },
  "cells": [
    {
      "cell_type": "markdown",
      "metadata": {
        "id": "view-in-github",
        "colab_type": "text"
      },
      "source": [
        "<a href=\"https://colab.research.google.com/github/KariGG/CyP2022G1157/blob/main/Clase02-Dic-2021.ipynb\" target=\"_parent\"><img src=\"https://colab.research.google.com/assets/colab-badge.svg\" alt=\"Open In Colab\"/></a>"
      ]
    },
    {
      "cell_type": "markdown",
      "metadata": {
        "id": "-RMY_KtoUHhh"
      },
      "source": [
        "#Modularidad (funciones)\n",
        "Una función es una unidad de código reutilizable, además de un mecanismo para organizar código. La gran ventaja de emplear funciones es simplificar la programación.\n",
        "\n",
        "###Estructura\n",
        "Una función puede toamr cualquier cantidad de parámetros de entrada (de cualquier tipo) y retorna únicamente un solo valor.\n",
        "Un parámetro de entrada es un valor que recibe la función para realizar sus operaciones.\n",
        "\n",
        "Con una función se pueden hacer 2 cosas:\n",
        "1. definirila\n",
        "2. invocarla (ejecutarla)\n",
        "\n"
      ]
    },
    {
      "cell_type": "code",
      "metadata": {
        "id": "no_pmUqcXTC5"
      },
      "source": [
        "def sumar( op1 , op2):\n",
        "    res = op1 + op2\n",
        "    return res\n"
      ],
      "execution_count": 1,
      "outputs": []
    },
    {
      "cell_type": "code",
      "metadata": {
        "colab": {
          "base_uri": "https://localhost:8080/"
        },
        "id": "fSWlJaEuYGiQ",
        "outputId": "d6627a1f-66e9-4f0e-e8d1-91ebe9d63690"
      },
      "source": [
        "res = sumar( 2 , 5 )\n",
        "print(res)"
      ],
      "execution_count": 2,
      "outputs": [
        {
          "output_type": "stream",
          "name": "stdout",
          "text": [
            "7\n"
          ]
        }
      ]
    },
    {
      "cell_type": "code",
      "metadata": {
        "colab": {
          "base_uri": "https://localhost:8080/"
        },
        "id": "LYv6U7TjacU3",
        "outputId": "dfbeea95-8af3-41a2-eb98-e4bbd729dd8e"
      },
      "source": [
        "def imprimeCuadro():\n",
        "    print(\"* * *\")\n",
        "    print(\"* * *\")\n",
        "    print(\"* * *\")\n",
        "    #Por defecto hace: return None\n",
        "imprimeCuadro()"
      ],
      "execution_count": 3,
      "outputs": [
        {
          "output_type": "stream",
          "name": "stdout",
          "text": [
            "* * *\n",
            "* * *\n",
            "* * *\n"
          ]
        }
      ]
    },
    {
      "cell_type": "markdown",
      "metadata": {
        "id": "AapGWVMba9kW"
      },
      "source": [
        "#Valor de retorno de una función\n",
        "###REGLA DE ORO\n",
        "Una función siempre retorna 1 solo valor, aun cuando el valor es el vacío"
      ]
    },
    {
      "cell_type": "code",
      "metadata": {
        "colab": {
          "base_uri": "https://localhost:8080/"
        },
        "id": "C_FeH2nMbOtu",
        "outputId": "0f9d6df5-3916-451a-a743-ab02d3dec98e"
      },
      "source": [
        "#invocar: sumar\n",
        "res = sumar(7,8)\n",
        "print(res)\n",
        "#invocar: pintar cuadro\n",
        "res = imprimeCuadro()\n",
        "print(res)"
      ],
      "execution_count": 10,
      "outputs": [
        {
          "output_type": "stream",
          "name": "stdout",
          "text": [
            "15\n",
            "* * *\n",
            "* * *\n",
            "* * *\n",
            "None\n"
          ]
        }
      ]
    },
    {
      "cell_type": "markdown",
      "metadata": {
        "id": "vmTClQdsdcw-"
      },
      "source": [
        "#La palabra reservada None en Python\n",
        "Esta palabra reservada significa vacío, equivalente a la palabra 'void' del lenguaje C, C++ & Java.\n",
        "Se usa para indicar, ya sea un return vacío, o que se recibe como parámetro vacío"
      ]
    },
    {
      "cell_type": "code",
      "metadata": {
        "id": "f9bGBnC0d5Z9"
      },
      "source": [
        "def multiplicar( valor , veces ):\n",
        "    c = valor * veces\n",
        "    return c\n"
      ],
      "execution_count": 14,
      "outputs": []
    },
    {
      "cell_type": "code",
      "metadata": {
        "colab": {
          "base_uri": "https://localhost:8080/"
        },
        "id": "HxZsxrVweH8n",
        "outputId": "d086d9a9-f380-45b5-e87f-af081b4f3dd5"
      },
      "source": [
        "resu = multiplicar( 5 , 5 )\n",
        "print(resu)"
      ],
      "execution_count": 15,
      "outputs": [
        {
          "output_type": "stream",
          "name": "stdout",
          "text": [
            "25\n"
          ]
        }
      ]
    },
    {
      "cell_type": "code",
      "metadata": {
        "id": "eE7QWU-3fKqu"
      },
      "source": [
        "def multiplicar( valor , veces ):\n",
        "    if valor == None:\n",
        "        c = -1\n",
        "    else:\n",
        "        c = valor * veces\n",
        "    return c"
      ],
      "execution_count": null,
      "outputs": []
    },
    {
      "cell_type": "code",
      "metadata": {
        "colab": {
          "base_uri": "https://localhost:8080/"
        },
        "id": "Icf1zhjEfL9Y",
        "outputId": "53b246e4-2331-4293-a9ad-5ae77d3aad8c"
      },
      "source": [
        "resu = multiplicar( None, 5 )\n",
        "print(resu)"
      ],
      "execution_count": 16,
      "outputs": [
        {
          "output_type": "stream",
          "name": "stdout",
          "text": [
            "-1\n"
          ]
        }
      ]
    },
    {
      "cell_type": "markdown",
      "metadata": {
        "id": "yr-pLnTvfsRU"
      },
      "source": [
        "#Parámetros y argumentos.\n",
        "Son conceptos relacionados y su diferencia está centrada en el momento que se emplea en una función\n",
        "\n",
        "Es decir: en la función 'sumar' (arriba) cuando se declara se le llama parámetro y cuando se invoca se le llama argumento"
      ]
    },
    {
      "cell_type": "markdown",
      "metadata": {
        "id": "RD0BHvadgame"
      },
      "source": [
        "#Argumentos posicionales\n",
        "En python es posible determinar a qué parámetros están dirigidos los argumentos, según su posición."
      ]
    },
    {
      "cell_type": "code",
      "metadata": {
        "id": "YnvgwxZ5fra6"
      },
      "source": [
        "def dividir (op1 , op2):\n",
        "    c = op1 / op2\n",
        "    return c"
      ],
      "execution_count": 17,
      "outputs": []
    },
    {
      "cell_type": "code",
      "metadata": {
        "colab": {
          "base_uri": "https://localhost:8080/"
        },
        "id": "pEcrpCqwg5v9",
        "outputId": "70bb0606-5adc-4d51-b0a9-d7bffe169b1e"
      },
      "source": [
        "num1 = 25\n",
        "num2 = 5\n",
        "res = dividir(num1, num2)\n",
        "print(res)\n",
        "res = dividir(num2, num1)\n",
        "print(res)"
      ],
      "execution_count": 19,
      "outputs": [
        {
          "output_type": "stream",
          "name": "stdout",
          "text": [
            "5.0\n",
            "0.2\n"
          ]
        }
      ]
    },
    {
      "cell_type": "markdown",
      "metadata": {
        "id": "9aPhCstihfE1"
      },
      "source": [
        "#Argumentos con palabras clave (keywords)\n",
        "Es la posibilidad de indicarle a la función en tiempo de ejecución a qué parámetro va dirigido un argumento de entrada.\n",
        "Sólo disponible en Pythin"
      ]
    },
    {
      "cell_type": "code",
      "metadata": {
        "colab": {
          "base_uri": "https://localhost:8080/"
        },
        "id": "CMOAA-_Zhe5-",
        "outputId": "c83812f8-d96e-4337-b161-31f0341f43c7"
      },
      "source": [
        "res = dividir( op2=num2 , op1=num1)\n",
        "print(res)"
      ],
      "execution_count": 20,
      "outputs": [
        {
          "output_type": "stream",
          "name": "stdout",
          "text": [
            "5.0\n"
          ]
        }
      ]
    }
  ]
}