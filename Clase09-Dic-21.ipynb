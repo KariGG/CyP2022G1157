{
  "nbformat": 4,
  "nbformat_minor": 0,
  "metadata": {
    "colab": {
      "name": "Fundamentos4_CyP_1157.ipynb",
      "provenance": [],
      "collapsed_sections": [],
      "authorship_tag": "ABX9TyOWET5ytWsXLT4/1wTP5PTV",
      "include_colab_link": true
    },
    "kernelspec": {
      "name": "python3",
      "display_name": "Python 3"
    },
    "language_info": {
      "name": "python"
    }
  },
  "cells": [
    {
      "cell_type": "markdown",
      "metadata": {
        "id": "view-in-github",
        "colab_type": "text"
      },
      "source": [
        "<a href=\"https://colab.research.google.com/github/KariGG/CyP2022G1157/blob/main/Clase09-Dic-21.ipynb\" target=\"_parent\"><img src=\"https://colab.research.google.com/assets/colab-badge.svg\" alt=\"Open In Colab\"/></a>"
      ]
    },
    {
      "cell_type": "markdown",
      "metadata": {
        "id": "-RMY_KtoUHhh"
      },
      "source": [
        "#Modularidad (funciones)\n",
        "Una función es una unidad de código reutilizable, además de un mecanismo para organizar código. La gran ventaja de emplear funciones es simplificar la programación.\n",
        "\n",
        "###Estructura\n",
        "Una función puede toamr cualquier cantidad de parámetros de entrada (de cualquier tipo) y retorna únicamente un solo valor.\n",
        "Un parámetro de entrada es un valor que recibe la función para realizar sus operaciones.\n",
        "\n",
        "Con una función se pueden hacer 2 cosas:\n",
        "1. definirila\n",
        "2. invocarla (ejecutarla)\n",
        "\n"
      ]
    },
    {
      "cell_type": "code",
      "metadata": {
        "id": "no_pmUqcXTC5"
      },
      "source": [
        "def sumar( op1 , op2):\n",
        "    res = op1 + op2\n",
        "    return res\n"
      ],
      "execution_count": null,
      "outputs": []
    },
    {
      "cell_type": "code",
      "metadata": {
        "colab": {
          "base_uri": "https://localhost:8080/"
        },
        "id": "fSWlJaEuYGiQ",
        "outputId": "d6627a1f-66e9-4f0e-e8d1-91ebe9d63690"
      },
      "source": [
        "res = sumar( 2 , 5 )\n",
        "print(res)"
      ],
      "execution_count": null,
      "outputs": [
        {
          "output_type": "stream",
          "name": "stdout",
          "text": [
            "7\n"
          ]
        }
      ]
    },
    {
      "cell_type": "code",
      "metadata": {
        "colab": {
          "base_uri": "https://localhost:8080/"
        },
        "id": "LYv6U7TjacU3",
        "outputId": "dfbeea95-8af3-41a2-eb98-e4bbd729dd8e"
      },
      "source": [
        "def imprimeCuadro():\n",
        "    print(\"* * *\")\n",
        "    print(\"* * *\")\n",
        "    print(\"* * *\")\n",
        "    #Por defecto hace: return None\n",
        "imprimeCuadro()"
      ],
      "execution_count": null,
      "outputs": [
        {
          "output_type": "stream",
          "name": "stdout",
          "text": [
            "* * *\n",
            "* * *\n",
            "* * *\n"
          ]
        }
      ]
    },
    {
      "cell_type": "markdown",
      "metadata": {
        "id": "AapGWVMba9kW"
      },
      "source": [
        "#Valor de retorno de una función\n",
        "###REGLA DE ORO\n",
        "Una función siempre retorna 1 solo valor, aun cuando el valor es el vacío"
      ]
    },
    {
      "cell_type": "code",
      "metadata": {
        "colab": {
          "base_uri": "https://localhost:8080/"
        },
        "id": "C_FeH2nMbOtu",
        "outputId": "0f9d6df5-3916-451a-a743-ab02d3dec98e"
      },
      "source": [
        "#invocar: sumar\n",
        "res = sumar(7,8)\n",
        "print(res)\n",
        "#invocar: pintar cuadro\n",
        "res = imprimeCuadro()\n",
        "print(res)"
      ],
      "execution_count": null,
      "outputs": [
        {
          "output_type": "stream",
          "name": "stdout",
          "text": [
            "15\n",
            "* * *\n",
            "* * *\n",
            "* * *\n",
            "None\n"
          ]
        }
      ]
    },
    {
      "cell_type": "markdown",
      "metadata": {
        "id": "vmTClQdsdcw-"
      },
      "source": [
        "#La palabra reservada None en Python\n",
        "Esta palabra reservada significa vacío, equivalente a la palabra 'void' del lenguaje C, C++ & Java.\n",
        "Se usa para indicar, ya sea un return vacío, o que se recibe como parámetro vacío"
      ]
    },
    {
      "cell_type": "code",
      "metadata": {
        "id": "f9bGBnC0d5Z9"
      },
      "source": [
        "def multiplicar( valor , veces ):\n",
        "    c = valor * veces\n",
        "    return c\n"
      ],
      "execution_count": null,
      "outputs": []
    },
    {
      "cell_type": "code",
      "metadata": {
        "colab": {
          "base_uri": "https://localhost:8080/"
        },
        "id": "HxZsxrVweH8n",
        "outputId": "d086d9a9-f380-45b5-e87f-af081b4f3dd5"
      },
      "source": [
        "resu = multiplicar( 5 , 5 )\n",
        "print(resu)"
      ],
      "execution_count": null,
      "outputs": [
        {
          "output_type": "stream",
          "name": "stdout",
          "text": [
            "25\n"
          ]
        }
      ]
    },
    {
      "cell_type": "code",
      "metadata": {
        "id": "eE7QWU-3fKqu"
      },
      "source": [
        "def multiplicar( valor , veces ):\n",
        "    if valor == None:\n",
        "        c = -1\n",
        "    else:\n",
        "        c = valor * veces\n",
        "    return c"
      ],
      "execution_count": null,
      "outputs": []
    },
    {
      "cell_type": "code",
      "metadata": {
        "colab": {
          "base_uri": "https://localhost:8080/"
        },
        "id": "Icf1zhjEfL9Y",
        "outputId": "53b246e4-2331-4293-a9ad-5ae77d3aad8c"
      },
      "source": [
        "resu = multiplicar( None, 5 )\n",
        "print(resu)"
      ],
      "execution_count": null,
      "outputs": [
        {
          "output_type": "stream",
          "name": "stdout",
          "text": [
            "-1\n"
          ]
        }
      ]
    },
    {
      "cell_type": "markdown",
      "metadata": {
        "id": "yr-pLnTvfsRU"
      },
      "source": [
        "#Parámetros y argumentos.\n",
        "Son conceptos relacionados y su diferencia está centrada en el momento que se emplea en una función\n",
        "\n",
        "Es decir: en la función 'sumar' (arriba) cuando se declara se le llama parámetro y cuando se invoca se le llama argumento"
      ]
    },
    {
      "cell_type": "markdown",
      "metadata": {
        "id": "RD0BHvadgame"
      },
      "source": [
        "#Argumentos posicionales\n",
        "En python es posible determinar a qué parámetros están dirigidos los argumentos, según su posición."
      ]
    },
    {
      "cell_type": "code",
      "metadata": {
        "id": "YnvgwxZ5fra6"
      },
      "source": [
        "def dividir (op1 , op2):\n",
        "    c = op1 / op2\n",
        "    return c"
      ],
      "execution_count": null,
      "outputs": []
    },
    {
      "cell_type": "code",
      "metadata": {
        "colab": {
          "base_uri": "https://localhost:8080/"
        },
        "id": "pEcrpCqwg5v9",
        "outputId": "70bb0606-5adc-4d51-b0a9-d7bffe169b1e"
      },
      "source": [
        "num1 = 25\n",
        "num2 = 5\n",
        "res = dividir(num1, num2)\n",
        "print(res)\n",
        "res = dividir(num2, num1)\n",
        "print(res)"
      ],
      "execution_count": null,
      "outputs": [
        {
          "output_type": "stream",
          "name": "stdout",
          "text": [
            "5.0\n",
            "0.2\n"
          ]
        }
      ]
    },
    {
      "cell_type": "markdown",
      "metadata": {
        "id": "9aPhCstihfE1"
      },
      "source": [
        "#Argumentos con palabras clave (keywords)\n",
        "Es la posibilidad de indicarle a la función en tiempo de ejecución a qué parámetro va dirigido a qué argumento de entrada.\n",
        "Sólo disponible en Python"
      ]
    },
    {
      "cell_type": "code",
      "metadata": {
        "colab": {
          "base_uri": "https://localhost:8080/"
        },
        "id": "CMOAA-_Zhe5-",
        "outputId": "c83812f8-d96e-4337-b161-31f0341f43c7"
      },
      "source": [
        "res = dividir( op2=num2 , op1=num1)\n",
        "print(res)"
      ],
      "execution_count": null,
      "outputs": [
        {
          "output_type": "stream",
          "name": "stdout",
          "text": [
            "5.0\n"
          ]
        }
      ]
    },
    {
      "cell_type": "code",
      "source": [
        ""
      ],
      "metadata": {
        "id": "FdQhW-m994A6"
      },
      "execution_count": null,
      "outputs": []
    },
    {
      "cell_type": "markdown",
      "source": [
        "-\"Argumento por defecto\n",
        "es la capacidad de las fuciones de estanblecer un valor por defecto (default9\n",
        "Si no se envia un argumento a dicho parametro, encotnces seasigna el que el programador asignó como default"
      ],
      "metadata": {
        "id": "trL180iB-CVe"
      }
    },
    {
      "cell_type": "code",
      "source": [
        "def dividir(op1, op2=1):\n",
        "    c = op1 / op2\n",
        "    return c\n",
        "print( dividir(25) )\n"
      ],
      "metadata": {
        "colab": {
          "base_uri": "https://localhost:8080/"
        },
        "id": "rDYe4C0b-mG_",
        "outputId": "599a741d-7bbd-42f6-820a-f1e57f96e6b2"
      },
      "execution_count": null,
      "outputs": [
        {
          "output_type": "stream",
          "name": "stdout",
          "text": [
            "25.0\n"
          ]
        }
      ]
    },
    {
      "cell_type": "markdown",
      "source": [
        "este concepto se puede ejemplificar con la funcion print"
      ],
      "metadata": {
        "id": "XvnRKqdh_Gln"
      }
    },
    {
      "cell_type": "code",
      "source": [
        "help(print)"
      ],
      "metadata": {
        "colab": {
          "base_uri": "https://localhost:8080/"
        },
        "id": "OpkGFtlQ_oLG",
        "outputId": "3f433f47-5e91-44af-ee2a-1da95a67114a"
      },
      "execution_count": null,
      "outputs": [
        {
          "output_type": "stream",
          "name": "stdout",
          "text": [
            "Help on built-in function print in module builtins:\n",
            "\n",
            "print(...)\n",
            "    print(value, ..., sep=' ', end='\\n', file=sys.stdout, flush=False)\n",
            "    \n",
            "    Prints the values to a stream, or to sys.stdout by default.\n",
            "    Optional keyword arguments:\n",
            "    file:  a file-like object (stream); defaults to the current sys.stdout.\n",
            "    sep:   string inserted between values, default a space.\n",
            "    end:   string appended after the last value, default a newline.\n",
            "    flush: whether to forcibly flush the stream.\n",
            "\n"
          ]
        }
      ]
    },
    {
      "cell_type": "code",
      "source": [
        "nombre = \"Kari\"\n",
        "edad = 24\n",
        "print(nombre , edad)\n",
        "print(nombre , edad, sep='\\n')\n",
        "print(nombre , edad, sep=',')\n",
        "print(nombre , edad, sep='+-+-+-+-+-')\n",
        "print(nombre , edad, sep='+++', end=' ')\n",
        "print(nombre , edad, end=' ')"
      ],
      "metadata": {
        "colab": {
          "base_uri": "https://localhost:8080/"
        },
        "id": "Ukq3pqdU_reO",
        "outputId": "3dcc74c6-f0df-4e09-b06d-72f43d2a2f13"
      },
      "execution_count": null,
      "outputs": [
        {
          "output_type": "stream",
          "name": "stdout",
          "text": [
            "Kari 24\n",
            "Kari\n",
            "24\n",
            "Kari,24\n",
            "Kari+-+-+-+-+-24\n",
            "Kari+++24 Kari 24 "
          ]
        }
      ]
    },
    {
      "cell_type": "code",
      "source": [
        "def comanda(comensal = 1, primer=\"Consome\", segundo=\"Arroz\", tercero=\"Enchiladas\"):\n",
        "    print(f\"El Comensal {comensal} quiere:\")\n",
        "    print(\"\\t Entrada: \", primer)\n",
        "    print(\"\\t Medio: \", segundo)\n",
        "    print(\"\\t Plato fuerte: \", tercero)\n",
        "\n",
        "comanda()\n",
        "comanda(3, \"Ensalada\", \"Arroz blanco\", \"Espárragos al horno\")\n",
        "comanda(segundo=\"arroz blanco\",tercero=\"Esparragos al horno\",primer=\"Ensalada\",comensal=3)"
      ],
      "metadata": {
        "colab": {
          "base_uri": "https://localhost:8080/"
        },
        "id": "IqamNLgbBCiv",
        "outputId": "7ea87b0b-ddc3-4c4f-c9f4-2cb3ced23e74"
      },
      "execution_count": null,
      "outputs": [
        {
          "output_type": "stream",
          "name": "stdout",
          "text": [
            "El Comensal 1 quiere:\n",
            "\t Entrada:  Consome\n",
            "\t Medio:  Arroz\n",
            "\t Plato fuerte:  Enchiladas\n",
            "El Comensal 3 quiere:\n",
            "\t Entrada:  Ensalada\n",
            "\t Medio:  Arroz blanco\n",
            "\t Plato fuerte:  Espárragos al horno\n",
            "El Comensal 3 quiere:\n",
            "\t Entrada:  Ensalada\n",
            "\t Medio:  arroz blanco\n",
            "\t Plato fuerte:  Esparragos al horno\n"
          ]
        }
      ]
    },
    {
      "cell_type": "markdown",
      "source": [
        "#Argumentos enviados en grupo en una tupla.\n",
        "Esto sirve para enviar multiples argumentos a una funcion empleando el comodín * .\n",
        "```\n",
        "def mifun(args*):\n",
        "    <cuerpo de la fun\n",
        "```"
      ],
      "metadata": {
        "id": "jvu9RJnSD3Td"
      }
    },
    {
      "cell_type": "code",
      "source": [
        "def comanda2( *opciones):\n",
        "    print(opciones)\n",
        "    print(f\"El Comensal {opciones[0]} quiere:\")\n",
        "    print(\"\\t Entrada: \", opciones[1])\n",
        "    print(\"\\t Medio: \", opciones[2])\n",
        "    print(\"\\t Plato fuerte: \", opciones[3])\n",
        "    print(\"indicaciones extra: \")\n",
        "    for instrucciones in opciones [4::]:\n",
        "        print(\"\\n\", instrucciones)\n",
        "comanda2(1, \"sopa de fideo\", \"arroz\", \"pechuga asada\", \"Arrachera\", \"La arrachera que aún se mueva\", \"Postre: Gelatina\")"
      ],
      "metadata": {
        "colab": {
          "base_uri": "https://localhost:8080/"
        },
        "id": "w6H40D9DD26e",
        "outputId": "cd678316-b0bf-41c3-bc7a-dc6619f7f6a3"
      },
      "execution_count": null,
      "outputs": [
        {
          "output_type": "stream",
          "name": "stdout",
          "text": [
            "(1, 'sopa de fideo', 'arroz', 'pechuga asada', 'Arrachera', 'La arrachera que aún se mueva', 'Postre: Gelatina')\n",
            "El Comensal 1 quiere:\n",
            "\t Entrada:  sopa de fideo\n",
            "\t Medio:  arroz\n",
            "\t Plato fuerte:  pechuga asada\n",
            "indicaciones extra: \n",
            "\n",
            " Arrachera\n",
            "\n",
            " La arrachera que aún se mueva\n",
            "\n",
            " Postre: Gelatina\n"
          ]
        }
      ]
    },
    {
      "cell_type": "markdown",
      "source": [
        "#Argumentos enviados en grupo en un diccionario.\n",
        "Mismo concepto que el anterior pero se usa el comodín ** y se mapea a un diccionario.\n"
      ],
      "metadata": {
        "id": "nC7R3g2HG43M"
      }
    },
    {
      "cell_type": "code",
      "source": [
        "def comanda3( **opciones ):\n",
        "    print(opciones)\n",
        "    print(f\"El Comensal {opciones['comensal']} quiere:\")\n",
        "    print(\"\\t Entrada: \", opciones['primer'])\n",
        "    print(\"\\t Medio: \", opciones['segundo'])\n",
        "    print(\"\\t Plato fuerte: \", opciones['tercero'])\n",
        "    print(\"Indicaciones extra: \")\n",
        "   \n",
        "comanda3(segundo=\"arroz blanco\",tercero=\"Esparragos al horno\",primer=\"Ensalada\",comensal=3)\n"
      ],
      "metadata": {
        "colab": {
          "base_uri": "https://localhost:8080/"
        },
        "id": "iCwV89tyHCDV",
        "outputId": "974f7380-389a-4328-b506-2f18c20d5b85"
      },
      "execution_count": null,
      "outputs": [
        {
          "output_type": "stream",
          "name": "stdout",
          "text": [
            "{'segundo': 'arroz blanco', 'tercero': 'Esparragos al horno', 'primer': 'Ensalada', 'comensal': 3}\n",
            "El Comensal 3 quiere:\n",
            "\t Entrada:  Ensalada\n",
            "\t Medio:  arroz blanco\n",
            "\t Plato fuerte:  Esparragos al horno\n",
            "indicaciones extra: \n"
          ]
        }
      ]
    },
    {
      "cell_type": "code",
      "source": [
        "def comanda3( **opciones ):\n",
        "    ops = opciones.keys()\n",
        "    print(ops)\n",
        "    for key in ops:\n",
        "        print(f\"{key} = {opciones[key]}\")\n",
        "comanda3(segundo=\"arroz blanco\",tercero=\"Esparragos al horno\",primer=\"Ensalada\",comensal=3)\n"
      ],
      "metadata": {
        "colab": {
          "base_uri": "https://localhost:8080/"
        },
        "id": "n0Z7DZC9I1i0",
        "outputId": "be0ed9d5-08d4-45ae-ae9a-ec4214c06852"
      },
      "execution_count": null,
      "outputs": [
        {
          "output_type": "stream",
          "name": "stdout",
          "text": [
            "dict_keys(['segundo', 'tercero', 'primer', 'comensal'])\n",
            "segundo = arroz blanco\n",
            "tercero = Esparragos al horno\n",
            "primer = Ensalada\n",
            "comensal = 3\n"
          ]
        }
      ]
    },
    {
      "cell_type": "markdown",
      "source": [
        "#Modularidad y Bibliotecas.\n",
        "Todos los lenguajes de programación tienen la capacidad de compartir código entre la comunidad de desarrolladores..\n",
        "Para ello cada lenguaje establece un mecanismo para escribir y compartir bibliotecas."
      ],
      "metadata": {
        "id": "fHOUffzYJmtt"
      }
    },
    {
      "cell_type": "code",
      "source": [
        "#En color amarillo\n",
        "!pip install simple_chalk "
      ],
      "metadata": {
        "colab": {
          "base_uri": "https://localhost:8080/"
        },
        "id": "rOQEEgAyMDdF",
        "outputId": "4f1b457f-29ba-46a9-dac4-d4d2dbb03362"
      },
      "execution_count": null,
      "outputs": [
        {
          "output_type": "stream",
          "name": "stdout",
          "text": [
            "Collecting simple_chalk\n",
            "  Downloading simple_chalk-0.1.0.tar.gz (13 kB)\n",
            "Building wheels for collected packages: simple-chalk\n",
            "  Building wheel for simple-chalk (setup.py) ... \u001b[?25l\u001b[?25hdone\n",
            "  Created wheel for simple-chalk: filename=simple_chalk-0.1.0-py3-none-any.whl size=22163 sha256=45d4c3c6d621a49e902d9eeb51aec6365fdd7812ae6c66da2ef9ff804cf41fcc\n",
            "  Stored in directory: /root/.cache/pip/wheels/24/e2/84/d54838032016039eef79df1137b91defaa6db068d825dfcdcd\n",
            "Successfully built simple-chalk\n",
            "Installing collected packages: simple-chalk\n",
            "Successfully installed simple-chalk-0.1.0\n"
          ]
        }
      ]
    },
    {
      "cell_type": "code",
      "source": [
        "from simple_chalk import chalk, magentaBright\n",
        "#Hola en color amarillo\n",
        "print(chalk.magentaBright(\"Hola en color amarillo\"))\n"
      ],
      "metadata": {
        "colab": {
          "base_uri": "https://localhost:8080/"
        },
        "id": "-3gvAPmrKwQf",
        "outputId": "a69f15e8-0798-4742-8d20-22085d08343a"
      },
      "execution_count": null,
      "outputs": [
        {
          "output_type": "stream",
          "name": "stdout",
          "text": [
            "\u001b[95mHola en color amarillo\u001b[0m\n"
          ]
        }
      ]
    },
    {
      "cell_type": "markdown",
      "source": [
        "#¿Cómo escribo un módulo (bilbioteca)?\n",
        "Se define en un archivo de biblioteca.\n",
        "Cada lenjuage tiene su mecanismo, en el caso de Pyhton:\n"
      ],
      "metadata": {
        "id": "nmSZk-czPAWM"
      }
    },
    {
      "cell_type": "code",
      "source": [
        "!cat mi_modulo.py"
      ],
      "metadata": {
        "colab": {
          "base_uri": "https://localhost:8080/"
        },
        "id": "7c1JiVzAQbyR",
        "outputId": "6ee5c553-d5e0-4685-b9e8-97a8cd420dcb"
      },
      "execution_count": null,
      "outputs": [
        {
          "output_type": "stream",
          "name": "stdout",
          "text": [
            "def sumar (a , b):\r\n",
            "    return a + b\r\n",
            "def mi_print(texto, final):\r\n",
            "    print(\"Super: \", texto, end=final)\r\n",
            "    "
          ]
        }
      ]
    },
    {
      "cell_type": "code",
      "source": [
        "import mi_modulo\n",
        "res = mi_modulo.sumar(7,5)\n",
        "print(res)\n",
        "mi_modulo.mi_print(\"Kari\", \"\\n\")"
      ],
      "metadata": {
        "colab": {
          "base_uri": "https://localhost:8080/"
        },
        "id": "O1P3ULAJQqMi",
        "outputId": "75c1dec4-752b-4367-8689-284218b2c2bd"
      },
      "execution_count": null,
      "outputs": [
        {
          "output_type": "stream",
          "name": "stdout",
          "text": [
            "12\n",
            "Super:  Kari\n"
          ]
        }
      ]
    },
    {
      "cell_type": "code",
      "source": [
        "from mi_modulo import sumar\n",
        "res = sumar(5,8)\n",
        "print(res)"
      ],
      "metadata": {
        "colab": {
          "base_uri": "https://localhost:8080/"
        },
        "id": "16SnZmz5SI8N",
        "outputId": "80260702-8a47-46f4-8295-5a53e59d9f10"
      },
      "execution_count": null,
      "outputs": [
        {
          "output_type": "stream",
          "name": "stdout",
          "text": [
            "13\n"
          ]
        }
      ]
    },
    {
      "cell_type": "code",
      "source": [
        "archivo = open(\"salida.txt\", \"wt\")\n",
        "archivo.write(\"Hola mundo\")\n",
        "archivo.close()"
      ],
      "metadata": {
        "id": "xR4vr_L8TYtC"
      },
      "execution_count": null,
      "outputs": []
    },
    {
      "cell_type": "code",
      "source": [
        "!cat salida.txt"
      ],
      "metadata": {
        "id": "wj8TKh0vThcB",
        "outputId": "539e3515-4896-4361-9299-a14551ceeadb",
        "colab": {
          "base_uri": "https://localhost:8080/"
        }
      },
      "execution_count": null,
      "outputs": [
        {
          "output_type": "stream",
          "name": "stdout",
          "text": [
            "Hola mundo"
          ]
        }
      ]
    },
    {
      "cell_type": "markdown",
      "source": [
        "Para abriur un archivo, ya sea para lectura o escritura, se usa la función open\n",
        "```\n",
        "open(fileobj , 'xy')\n",
        "```\n",
        "El primer argumento 'File Object' es el nombre del archivo a abrir. El segundo argumento de  está formado par un par de letras. \n",
        "- La primera establece el tipo de apertura del archivo:\n",
        "    1. **r** Lectura\n",
        "    1. **w** Escritura\n",
        "    1. **x** Escritura exclusiva, es decir sólo en el caso que el archivo no exista.\n",
        "    1. **a** Append ( )\n",
        "\n",
        "- El segundo caracter indica el formato del archivo:\n",
        "    1. **t** formato de texto\n",
        "    1. **b** formato binario"
      ],
      "metadata": {
        "id": "qtRhAe-cP0hh"
      }
    },
    {
      "cell_type": "code",
      "source": [
        "archivo = open(\"ejemplo1.txt\", \"wt\")\n",
        "\n",
        "for x in range(10):\n",
        "    archivo.write(\"Hola Mundo\" + str(x)+\"\\n\")\n",
        "cont = archivo.write(\"Otra cosa\")\n",
        "archivo .close()\n",
        "\n",
        "print(\"Caracteres escritos: \", cont)"
      ],
      "metadata": {
        "colab": {
          "base_uri": "https://localhost:8080/"
        },
        "id": "Q-Zv4YppRBMK",
        "outputId": "2ab05704-081b-4a2f-9ea1-ece613ad9923"
      },
      "execution_count": null,
      "outputs": [
        {
          "output_type": "stream",
          "name": "stdout",
          "text": [
            "Caracteres escritos:  9\n"
          ]
        }
      ]
    },
    {
      "cell_type": "markdown",
      "source": [
        "#Función 'write'\n",
        "Escribe datos en un archivo abierto para escritura, para ello utiliza un cursor (apuntador) al siguiente byte dentro del archivo.\n",
        "\n",
        "Cuando el archivo se abre, se crea este apuntador y se posiciona para moverse de forma automática cada vez que escribimos.\n",
        "\n",
        "La función write regresa un valor entero que indica el número de caracteres de un archivo."
      ],
      "metadata": {
        "id": "44poMLLkR3sI"
      }
    },
    {
      "cell_type": "markdown",
      "source": [
        "#Lectura de un archivo\n",
        "Para leer un archivo con programación se puede emplear una de tres opciones (funciones):\n",
        "\n",
        "1. read( ) - Lee todo el archivo y lo regresa como texto.\n",
        "1. readline( ) - Lee una sola línea (hasta encontrar el siguiente 'salto de línea') y la regresa como string\n",
        "1. readlines( ) - Lee todo el archivo y lo regresa como una lista de texto separada por saltos de línea.\n"
      ],
      "metadata": {
        "id": "YULUSITSTRMo"
      }
    },
    {
      "cell_type": "code",
      "source": [
        "!cat ejemplo1.txt"
      ],
      "metadata": {
        "id": "MNE-1FwIULU4"
      },
      "execution_count": null,
      "outputs": []
    },
    {
      "cell_type": "code",
      "source": [
        "archivo1 = open(\"ejemplo1.txt\", \"rt\")\n",
        "datos = archivo1.read()\n",
        "print(\"-->\", datos, \"<--\")"
      ],
      "metadata": {
        "id": "WrWWEAULUVF4"
      },
      "execution_count": null,
      "outputs": []
    },
    {
      "cell_type": "code",
      "source": [
        "archivo1 = open(\"ejemplo1.txt\", \"rt\")\n",
        "datos = archivo1.read()\n",
        "separados = datos.split(\"\\n\")\n",
        "print(separados)\n",
        "for index in range(len(separados)):\n",
        "    if index %2 == 0:m\n",
        "        print(separados[index].upper())\n",
        "    else:\n",
        "        print(separados[index].lower())"
      ],
      "metadata": {
        "id": "G_LWYouxVIAa"
      },
      "execution_count": null,
      "outputs": []
    },
    {
      "cell_type": "code",
      "source": [
        "archivo2 = open(\"ejemplo1.txt\")\n",
        "linea = archivo2.readline()\n",
        "for x in range(11):\n",
        "    if x % 2 == 0:\n",
        "        print(archivo2.readline().upper(), end=\"\")\n",
        "    else:\n",
        "         print(archivo2.readline().lower(), end=\"\")"
      ],
      "metadata": {
        "id": "EluqhYoPYgJ5"
      },
      "execution_count": null,
      "outputs": []
    },
    {
      "cell_type": "code",
      "source": [
        "archivo3 = open(\"ejemplo1.txt\", \"rt\")\n",
        "lineas = archivo3.readlines()\n",
        "print(lineas)\n",
        "for texto in lineas:\n",
        "    print(texto.rstrip())\n"
      ],
      "metadata": {
        "id": "d0pz_oZ-bXXR"
      },
      "execution_count": null,
      "outputs": []
    },
    {
      "cell_type": "code",
      "source": [
        "ejercicio = open(\"ejemplo2.txt\", \"rt\")\n",
        "lineas = ejercicio.readlines()\n",
        "suma = 0\n",
        "for linea in lineas[:len(lineas):]: #recorre\n",
        "    print(linea)\n",
        "    for numero in linea.strip().split(\",\"):\n",
        "        print(numero.strip())\n",
        "        suma += int(numero.strip())\n",
        "print(\"Suma: \",suma)"
      ],
      "metadata": {
        "colab": {
          "base_uri": "https://localhost:8080/"
        },
        "id": "pInRwVKZeayF",
        "outputId": "071a6332-b1c8-4720-c55b-7cbc9122f0fb"
      },
      "execution_count": null,
      "outputs": [
        {
          "output_type": "stream",
          "name": "stdout",
          "text": [
            "   1   , 2,   3, 4 ,  5\n",
            "\n",
            "1\n",
            "2\n",
            "3\n",
            "4\n",
            "5\n",
            "    10  , 20 , 30      ,  40\n",
            "\n",
            "10\n",
            "20\n",
            "30\n",
            "40\n",
            "     100   , 200    , 300\n",
            "100\n",
            "200\n",
            "300\n",
            "Suma:  715\n"
          ]
        }
      ]
    },
    {
      "cell_type": "markdown",
      "source": [
        "![image.png](data:image/png;base64,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)"
      ],
      "metadata": {
        "id": "E_utZiX4ikra"
      }
    }
  ]
}