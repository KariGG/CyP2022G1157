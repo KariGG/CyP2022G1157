{
  "nbformat": 4,
  "nbformat_minor": 0,
  "metadata": {
    "colab": {
      "name": "Fundamentos2_CyP_1157.ipynb",
      "provenance": [],
      "collapsed_sections": [],
      "authorship_tag": "ABX9TyOSjLJE2vV9HELDhkDbnpzk",
      "include_colab_link": true
    },
    "kernelspec": {
      "name": "python3",
      "display_name": "Python 3"
    },
    "language_info": {
      "name": "python"
    }
  },
  "cells": [
    {
      "cell_type": "markdown",
      "metadata": {
        "id": "view-in-github",
        "colab_type": "text"
      },
      "source": [
        "<a href=\"https://colab.research.google.com/github/KariGG/CyP2022G1157/blob/main/Clase18-Nov-2021.ipynb\" target=\"_parent\"><img src=\"https://colab.research.google.com/assets/colab-badge.svg\" alt=\"Open In Colab\"/></a>"
      ]
    },
    {
      "cell_type": "markdown",
      "metadata": {
        "id": "6twtuwDLFdW0"
      },
      "source": [
        "#Tipos de dato estructurado en Python\n",
        "\n",
        "1. Listas\n",
        "2. Tuplas\n",
        "3. Diccionarips\n",
        "4. Conjuntos (opcional)"
      ]
    },
    {
      "cell_type": "markdown",
      "metadata": {
        "id": "VT9G_fePFwNs"
      },
      "source": [
        "##Listas\n",
        "- Tipo de dato que agrupa valores.\n",
        "- Estructura secuencial\n",
        "- Se declara con de 2 formas:\n",
        "    - Usando []\n",
        "    - Usando list()\n",
        "- Puede contener tipos de dato diversos, en otros lenguajes de programación eso no es posible de forma directa.\n",
        "- Los elementos internos se seleccionan con []\n",
        "- Soporta slicing\n",
        "- SON MUTABLES (puede cambiar su valor)\n",
        "- GENERADORES [var for x in range(10)]\n",
        "- Al ser una clase contiene muchos métodos útiles"
      ]
    },
    {
      "cell_type": "code",
      "metadata": {
        "colab": {
          "base_uri": "https://localhost:8080/"
        },
        "id": "7DkO3ssTFtr-",
        "outputId": "71c98d71-e9ad-424d-adc0-3d2fa403cd80"
      },
      "source": [
        "numeros = [10,5,2,3,1]\n",
        "print (numeros)\n",
        "\n",
        "num2 = list()\n",
        "num2.append(10)\n",
        "num2.append(5)\n",
        "num2.append(2)\n",
        "num2.append(3)\n",
        "num2.append(1)\n",
        "print(num2)\n",
        "numeros[2]=20\n",
        "numeros[-1]=33\n",
        "print (numeros)"
      ],
      "execution_count": null,
      "outputs": [
        {
          "output_type": "stream",
          "name": "stdout",
          "text": [
            "[10, 5, 2, 3, 1]\n",
            "[10, 5, 2, 3, 1]\n",
            "[10, 5, 20, 3, 33]\n"
          ]
        }
      ]
    },
    {
      "cell_type": "code",
      "metadata": {
        "colab": {
          "base_uri": "https://localhost:8080/"
        },
        "id": "7L_S-3AZIhNj",
        "outputId": "96fffdcd-d073-4d6c-bc72-ae924a267a70"
      },
      "source": [
        "# Tipos diversos\n",
        "cosas=[12, 2, True, \"Kari\", 1.57, [\"Kiwi\", \"Piña\", \"Fresa\"]]\n",
        "print(cosas)\n",
        "print(cosas[1])\n",
        "print(cosas[4])\n",
        "print(cosas[5][1])\n",
        "print(cosas[3][1:3])"
      ],
      "execution_count": null,
      "outputs": [
        {
          "output_type": "stream",
          "name": "stdout",
          "text": [
            "[12, 2, True, 'Kari', 1.57, ['Kiwi', 'Piña', 'Fresa']]\n",
            "2\n",
            "1.57\n",
            "Piña\n",
            "ar\n"
          ]
        }
      ]
    },
    {
      "cell_type": "code",
      "metadata": {
        "colab": {
          "base_uri": "https://localhost:8080/"
        },
        "id": "Y4Eh-x-AL4Gk",
        "outputId": "e9077125-643e-4503-bb20-aa9716717fda"
      },
      "source": [
        "nums = [1,2,3,4,5,6,7,8,9,10,11]\n",
        "print(nums)\n",
        "#Slicing\n",
        "#1. print del 4 al 8\n",
        "print(nums[3:8])\n",
        "#2. print del 9 al 10\n",
        "print(nums[8:10])\n",
        "print(nums[-3:-1])\n",
        "#3. print lista en orden inverso\n",
        "print(nums[::-1])"
      ],
      "execution_count": null,
      "outputs": [
        {
          "output_type": "stream",
          "name": "stdout",
          "text": [
            "[1, 2, 3, 4, 5, 6, 7, 8, 9, 10, 11]\n",
            "[4, 5, 6, 7, 8]\n",
            "[9, 10]\n",
            "[9, 10]\n",
            "[11, 10, 9, 8, 7, 6, 5, 4, 3, 2, 1]\n"
          ]
        }
      ]
    },
    {
      "cell_type": "code",
      "metadata": {
        "colab": {
          "base_uri": "https://localhost:8080/"
        },
        "id": "syQm_TwTPosB",
        "outputId": "db5bf153-b4f7-4e7e-b058-f68652e3792c"
      },
      "source": [
        "#Crear lista con generador\n",
        "\n",
        "generada = [x for x in range(101)]\n",
        "deTantoNtanto = [x*3 for x in range(101)]\n",
        "print(generada)\n",
        "print(deTantoNtanto)"
      ],
      "execution_count": null,
      "outputs": [
        {
          "output_type": "stream",
          "name": "stdout",
          "text": [
            "[0, 1, 2, 3, 4, 5, 6, 7, 8, 9, 10, 11, 12, 13, 14, 15, 16, 17, 18, 19, 20, 21, 22, 23, 24, 25, 26, 27, 28, 29, 30, 31, 32, 33, 34, 35, 36, 37, 38, 39, 40, 41, 42, 43, 44, 45, 46, 47, 48, 49, 50, 51, 52, 53, 54, 55, 56, 57, 58, 59, 60, 61, 62, 63, 64, 65, 66, 67, 68, 69, 70, 71, 72, 73, 74, 75, 76, 77, 78, 79, 80, 81, 82, 83, 84, 85, 86, 87, 88, 89, 90, 91, 92, 93, 94, 95, 96, 97, 98, 99, 100]\n",
            "[0, 3, 6, 9, 12, 15, 18, 21, 24, 27, 30, 33, 36, 39, 42, 45, 48, 51, 54, 57, 60, 63, 66, 69, 72, 75, 78, 81, 84, 87, 90, 93, 96, 99, 102, 105, 108, 111, 114, 117, 120, 123, 126, 129, 132, 135, 138, 141, 144, 147, 150, 153, 156, 159, 162, 165, 168, 171, 174, 177, 180, 183, 186, 189, 192, 195, 198, 201, 204, 207, 210, 213, 216, 219, 222, 225, 228, 231, 234, 237, 240, 243, 246, 249, 252, 255, 258, 261, 264, 267, 270, 273, 276, 279, 282, 285, 288, 291, 294, 297, 300]\n"
          ]
        }
      ]
    },
    {
      "cell_type": "markdown",
      "metadata": {
        "id": "1WJWiV2HQc_G"
      },
      "source": [
        "# Función range()\n",
        "Función range tiene los mismos componentes que slicing.\n",
        "inicio, stop, incremento\n",
        "range(1, 101, 1"
      ]
    },
    {
      "cell_type": "code",
      "metadata": {
        "colab": {
          "base_uri": "https://localhost:8080/"
        },
        "id": "E6XybNfMRcf_",
        "outputId": "14721d4e-9950-4aa6-ee5c-1904bcb4d889"
      },
      "source": [
        "funcRange = [x for x in range(50,101,2)]\n",
        "print(funcRange)"
      ],
      "execution_count": null,
      "outputs": [
        {
          "output_type": "stream",
          "name": "stdout",
          "text": [
            "[50, 52, 54, 56, 58, 60, 62, 64, 66, 68, 70, 72, 74, 76, 78, 80, 82, 84, 86, 88, 90, 92, 94, 96, 98, 100]\n"
          ]
        }
      ]
    },
    {
      "cell_type": "markdown",
      "metadata": {
        "id": "LkFg2LbGQ3Vw"
      },
      "source": [
        "#Métodos disponibles de las lista\n",
        "\n"
      ]
    },
    {
      "cell_type": "code",
      "metadata": {
        "colab": {
          "base_uri": "https://localhost:8080/"
        },
        "id": "dI9BbtOCRTn_",
        "outputId": "695885e6-cee6-48d3-bf9a-a07469a20bc7"
      },
      "source": [
        "dir(list)"
      ],
      "execution_count": null,
      "outputs": [
        {
          "output_type": "execute_result",
          "data": {
            "text/plain": [
              "['__add__',\n",
              " '__class__',\n",
              " '__contains__',\n",
              " '__delattr__',\n",
              " '__delitem__',\n",
              " '__dir__',\n",
              " '__doc__',\n",
              " '__eq__',\n",
              " '__format__',\n",
              " '__ge__',\n",
              " '__getattribute__',\n",
              " '__getitem__',\n",
              " '__gt__',\n",
              " '__hash__',\n",
              " '__iadd__',\n",
              " '__imul__',\n",
              " '__init__',\n",
              " '__init_subclass__',\n",
              " '__iter__',\n",
              " '__le__',\n",
              " '__len__',\n",
              " '__lt__',\n",
              " '__mul__',\n",
              " '__ne__',\n",
              " '__new__',\n",
              " '__reduce__',\n",
              " '__reduce_ex__',\n",
              " '__repr__',\n",
              " '__reversed__',\n",
              " '__rmul__',\n",
              " '__setattr__',\n",
              " '__setitem__',\n",
              " '__sizeof__',\n",
              " '__str__',\n",
              " '__subclasshook__',\n",
              " 'append',\n",
              " 'clear',\n",
              " 'copy',\n",
              " 'count',\n",
              " 'extend',\n",
              " 'index',\n",
              " 'insert',\n",
              " 'pop',\n",
              " 'remove',\n",
              " 'reverse',\n",
              " 'sort']"
            ]
          },
          "metadata": {},
          "execution_count": 47
        }
      ]
    },
    {
      "cell_type": "code",
      "metadata": {
        "colab": {
          "base_uri": "https://localhost:8080/"
        },
        "id": "E4jnRf6pSuRH",
        "outputId": "d736ff10-f9bd-43df-e6bf-569a8d1598d5"
      },
      "source": [
        "nums = [4,1,2,3,8,45]\n",
        "print(nums)\n",
        "nums.append(99)\n",
        "print(nums)\n",
        "\n",
        "#Vaciar lista\n",
        "nums.clear()\n",
        "print(nums)\n",
        "nums = [] #de preferencia hacerlo con clear\n",
        "print(nums)\n",
        "\n",
        "frutas = [\"Kiwi\", \"Piña\", \"Fresa\"]\n",
        "copia = frutas #Hace referencia a la ubicación de la lista, por eso se afecta también\n",
        "print(frutas)\n",
        "print(copia)\n",
        "frutas.append(\"Banana\")\n",
        "print(frutas)\n",
        "print(copia)\n",
        "\n",
        "colores =[\"Pink\", \"Blue\", \"Green\", \"Grey\"]\n",
        "copia2 = colores.copy() #Copia tal cual, como si fuera otra variable, por eso no se modifica\n",
        "print(colores)\n",
        "print(copia2)\n",
        "colores.append(\"Yellow\")\n",
        "print(colores)\n",
        "print(copia2)\n",
        "\n",
        "numbers =[x for x in range(101)]\n",
        "print (\"Número de veces que aparece el 2=\", numbers.count(2))\n",
        "\n",
        "#Agregar a la lista\n",
        "nombres = [\"John\", \"Kari\", \"Tom\"]\n",
        "otrosNombres = [\"Emily\", \"Susan\", \"Pam\"]\n",
        "print (nombres)\n",
        "print(otrosNombres)\n",
        "nombres = nombres + otrosNombres\n",
        "print (nombres)\n",
        "print(otrosNombres)\n",
        "\n",
        "#Lo mismo con el método extend\n",
        "otrosNombres.extend([\"Mike\", \"Kevin\",\"Zealand\"])\n",
        "print(otrosNombres)\n",
        "\n",
        "#Índice\n",
        "print(\"Tom está en la posición= \", nombres.index(\"Tom\"))\n",
        "\n",
        "#Insertar valores en cualquier posición y mueve los demás a la izq.\n",
        "otrosNombres.insert(4, \"Iván\")\n",
        "print(otrosNombres)\n",
        "\n",
        "#Pop quita el último elemento y te lo regresa en otra variable\n",
        "resultado = otrosNombres.pop()\n",
        "print(otrosNombres)\n",
        "print(resultado)\n"
      ],
      "execution_count": null,
      "outputs": [
        {
          "output_type": "stream",
          "name": "stdout",
          "text": [
            "[4, 1, 2, 3, 8, 45]\n",
            "[4, 1, 2, 3, 8, 45, 99]\n",
            "[]\n",
            "[]\n",
            "['Kiwi', 'Piña', 'Fresa']\n",
            "['Kiwi', 'Piña', 'Fresa']\n",
            "['Kiwi', 'Piña', 'Fresa', 'Banana']\n",
            "['Kiwi', 'Piña', 'Fresa', 'Banana']\n",
            "['Pink', 'Blue', 'Green', 'Grey']\n",
            "['Pink', 'Blue', 'Green', 'Grey']\n",
            "['Pink', 'Blue', 'Green', 'Grey', 'Yellow']\n",
            "['Pink', 'Blue', 'Green', 'Grey']\n",
            "Número de veces que aparece el 2= 1\n",
            "['John', 'Kari', 'Tom']\n",
            "['Emily', 'Susan', 'Pam']\n",
            "['John', 'Kari', 'Tom', 'Emily', 'Susan', 'Pam']\n",
            "['Emily', 'Susan', 'Pam']\n",
            "['Emily', 'Susan', 'Pam', 'Mike', 'Kevin', 'Zealand']\n",
            "Tom está en la posición=  2\n",
            "['Emily', 'Susan', 'Pam', 'Mike', 'Iván', 'Kevin', 'Zealand']\n",
            "['Emily', 'Susan', 'Pam', 'Mike', 'Iván', 'Kevin']\n",
            "Zealand\n"
          ]
        }
      ]
    },
    {
      "cell_type": "markdown",
      "metadata": {
        "id": "hv1BCGSVxDaS"
      },
      "source": [
        "#Tuplas\n",
        "###Características\n",
        "- Datos agrupados\n",
        "- Se declara usando:\n",
        "  - ()\n",
        "  - tuple()\n",
        "- Estructura secuencial, indexada a partir de 0\n",
        "- Pueden tener de 0 a n elementos\n",
        "- NO SON MUTABLES (No se puede eliminar y/o cambiar)\n",
        "- Son buenas para almacenar información de consulta\n",
        "- Pueden alamacenar info. de diferentes tipos de dato\n",
        "- Pueden estar anidadas\n",
        "- Tienen métodos útiles\n",
        "\n",
        "#Métodos de las tuplas()\n",
        "Son los mismos de las listas pero los que ***no involucren mutabilidad***"
      ]
    },
    {
      "cell_type": "code",
      "metadata": {
        "colab": {
          "base_uri": "https://localhost:8080/"
        },
        "id": "xf0vN5a9xcLi",
        "outputId": "1cb2ddd0-a7b4-45e0-c054-9b044b289c31"
      },
      "source": [
        "info = (\"CottonCandy\" , \"morningstar\" , \"123.232.1.12\")\n",
        "print(info)\n",
        "print (info[1])\n",
        "#info[1] = \"patitoRS\" << no va a funcionar porque no es mutable\n",
        "\n",
        "cash = (0,1,2,3,4,5,6,7,8,9,10,11,12,13,14,15)\n",
        "print(cash)\n",
        "print(cash[5:11])\n",
        "\n",
        "cosas = ( info, cash )\n",
        "print(cosas)\n",
        "print(cosas[1][5:11])\n",
        "print(cosas[0][2][4:7])\n",
        "print(cosas[0][2][-8:-5])"
      ],
      "execution_count": null,
      "outputs": [
        {
          "output_type": "stream",
          "name": "stdout",
          "text": [
            "('CottonCandy', 'morningstar', '123.232.1.12')\n",
            "morningstar\n",
            "(0, 1, 2, 3, 4, 5, 6, 7, 8, 9, 10, 11, 12, 13, 14, 15)\n",
            "(5, 6, 7, 8, 9, 10)\n",
            "(('CottonCandy', 'morningstar', '123.232.1.12'), (0, 1, 2, 3, 4, 5, 6, 7, 8, 9, 10, 11, 12, 13, 14, 15))\n",
            "(5, 6, 7, 8, 9, 10)\n",
            "232\n",
            "232\n"
          ]
        }
      ]
    },
    {
      "cell_type": "markdown",
      "metadata": {
        "id": "hsSdh22_20zw"
      },
      "source": [
        "# Diccionarios\n",
        "### Características:\n",
        "\n",
        "- Agrupan datos de forma no lineal\n",
        "- Se declaran con: \n",
        "  - { } \"\"\"Se recomienda éste\"\"\"\n",
        "  - dict()\n",
        "- Formado por pares del tipo llave:valor. Los valores internos de un diccionario van a ser pares (llave & valor) donde:\n",
        "  - llave es de tipo string (forever)\n",
        "  - valor puede ser de cualquier tipo de dato, incluyendo los diccionarios\n",
        "- Se seleccionan con la llave de la forma: [\"idLlave\"]\n",
        "- Son mutables y anidables\n",
        "- Son equivalentes al tipo de dato JSON del lenguaje JavaScript"
      ]
    },
    {
      "cell_type": "code",
      "metadata": {
        "colab": {
          "base_uri": "https://localhost:8080/"
        },
        "id": "Lm-ZBlS14e_p",
        "outputId": "804303d9-11d4-4fb2-b461-282775f4c4c8"
      },
      "source": [
        "student = { \"name\" : \"Kari\" }\n",
        "print (student)\n",
        "print (student [\"name\"])\n",
        "student = {\"name\":\"Kari\", \"acc\":\"332211\", \"age\":\"24\"}\n",
        "print (\"Students age:\",student [\"age\"], \"years old\")\n",
        "\n",
        "print (student [\"name\"].upper())\n",
        "\n",
        "student2 = dict() #={}\n",
        "student2 [\"name\"] = \"Kevin\"\n",
        "print(student2)\n",
        "student2 [\"acc\"] = \"889944\"\n",
        "student2 [\"age2\"] = 48\n",
        "print(student)\n",
        "print(student2)\n",
        "\n",
        "student2 [\"age2\"] = student2 [\"age2\"] + 1\n",
        "print(student2[\"age2\"])"
      ],
      "execution_count": null,
      "outputs": [
        {
          "output_type": "stream",
          "name": "stdout",
          "text": [
            "{'name': 'Kari'}\n",
            "Kari\n",
            "Students age: 24 years old\n",
            "KARI\n",
            "{'name': 'Kevin'}\n",
            "{'name': 'Kari', 'acc': '332211', 'age': '24'}\n",
            "{'name': 'Kevin', 'acc': '889944', 'age2': 48}\n",
            "49\n"
          ]
        }
      ]
    },
    {
      "cell_type": "code",
      "metadata": {
        "colab": {
          "base_uri": "https://localhost:8080/"
        },
        "id": "IoGtIfCZ8Q33",
        "outputId": "27a97d17-ec80-49b6-d7f4-1497cbb655a0"
      },
      "source": [
        "client = {\"id\":\"CCK21\", \n",
        "          \"name\" : \"Candy Morningstar\",\n",
        "          \"tels\":\"cel = 5519166181 local = 5512345678\"}\n",
        "print(client)\n",
        "\n",
        "client = {\"id\":\"CCK21\", \n",
        "          \"name\" : {\n",
        "              \"firstName\" : [\"Cotton\" , \"Candy\"],\n",
        "              \"lastName\" : \"Morningstar\"\n",
        "            },\n",
        "          \"tels\": {\"cel\" : \"5519166181\", \n",
        "                   \"local\" : \"5512345678\",\n",
        "                   \"work\" : \"5544226688\"\n",
        "            },\n",
        "          \"products\" : {\n",
        "              \"savingsAcc\" : { \"accNumber\" : \"242021\", \"savings\" : 2000000.5},\n",
        "              \"cards\" : [\n",
        "                              {\"type\": \"Credit\", \"limit\": 50000000},\n",
        "                              {\"type\": \"Debit\", \"amount\" : 50000},\n",
        "                              {\"type\": \"Lite\", \"limit\": 250000},\n",
        "                              {\"type\": \"Black\"},\n",
        "                              \n",
        "                ]\n",
        "            },\n",
        "          \"direction\" : {\n",
        "              \"street\" : \"5th Avenue\",\n",
        "              \"num\" : 562,\n",
        "              \"appartment\" : 25,\n",
        "              \"state\" : {\n",
        "                  \"name\" : \"New York\",\n",
        "                  \"code\" : 364\n",
        "                }\n",
        "           }\n",
        "        }\n",
        "print(client)\n",
        "print(client [\"tels\"][\"cel\"])\n",
        "print(\"Your savings:\", client [\"products\"][\"savingsAcc\"][\"savings\"])\n",
        "print(\"Your Lite card credit limit is:\", client [\"products\"][\"cards\"][2][\"limit\"])\n",
        "print(\"Your state is:\", client [\"direction\"][\"state\"][\"name\"].upper())\n",
        "client [\"products\"][\"savingsAcc\"][\"savings\"]-= 1500\n",
        "print(\"Your savings:\", client [\"products\"][\"savingsAcc\"][\"savings\"])\n",
        "#print(cliente[\"productos\"][\"ahorro\"][\"ahorro\"]-1500)\n"
      ],
      "execution_count": null,
      "outputs": [
        {
          "output_type": "stream",
          "name": "stdout",
          "text": [
            "{'id': 'CCK21', 'name': 'Candy Morningstar', 'tels': 'cel = 5519166181 local = 5512345678'}\n",
            "{'id': 'CCK21', 'name': {'firstName': ['Cotton', 'Candy'], 'lastName': 'Morningstar'}, 'tels': {'cel': '5519166181', 'local': '5512345678', 'work': '5544226688'}, 'products': {'savingsAcc': {'accNumber': '242021', 'savings': 2000000.5}, 'cards': [{'type': 'Credit', 'limit': 50000000}, {'type': 'Debit', 'amount': 50000}, {'type': 'Lite', 'limit': 250000}, {'type': 'Black'}]}, 'direction': {'street': '5th Avenue', 'num': 562, 'appartment': 25, 'state': {'name': 'New York', 'code': 364}}}\n",
            "5519166181\n",
            "Your savings: 2000000.5\n",
            "Your Lite card credit limit is: 250000\n",
            "Your state is: NEW YORK\n",
            "Your savings: 1998500.5\n"
          ]
        }
      ]
    },
    {
      "cell_type": "code",
      "metadata": {
        "colab": {
          "base_uri": "https://localhost:8080/"
        },
        "id": "x-TJmKIQJJ8q",
        "outputId": "acd2f56f-22e1-4acb-eaed-a6a0545d3e23"
      },
      "source": [
        "#Ejercicio\n",
        "\n",
        "movie= {\"name\" : \"Avengers\",\n",
        "        \"characters\": [\n",
        "               \"Iron Man\",\n",
        "                \"Captain America\",\n",
        "                \"Thor\",\n",
        "                \"Hulk\",\n",
        "                \"Black Widow\",\n",
        "                \"Hawkeye\"],\n",
        "        \"cast\":{\n",
        "                \"Iron Man\" : \"RDJ mailov <3\",\n",
        "                \"Captain America\" : \"Chris Evans\",\n",
        "                \"Thor\" : \"Chris Hemsworth\",\n",
        "                \"Hulk\" : \"Mark Ruffalo\",\n",
        "                \"Black Widow\" : \"Scarlett Johanson\",\n",
        "                \"Hawkeye\" : \"Jeremy Renner\"\n",
        "             },\n",
        "        \"directors\" : [\"Joe Russo\", \"Anthony Russo\", \"Joss Whedon\", \"Cate Shortland\"],\n",
        "        \"resumen\" : \"Es una película de superhéroes estadounidense de 2012 basada en el equipo de superhéroes homónimo de Marvel Comics, producida por Marvel Studios y distribuida por Walt Disney Studios Motion Pictures, en colaboración con Paramount Pictures.N 1​ Es la sexta película del Universo cinematográfico de Marvel (MCU). \"\n",
        "        }\n",
        "print(movie)"
      ],
      "execution_count": null,
      "outputs": [
        {
          "output_type": "stream",
          "name": "stdout",
          "text": [
            "{'name': 'Avengers', 'characters': ['Iron Man', 'Captain America', 'Thor', 'Hulk', 'Black Widow', 'Hawkeye'], 'cast': {'Iron Man': 'RDJ', 'Captain America': 'Chris Evans'}, 'directors': ['Joe Russo', 'Anthony Russo', 'Joss Whedon', 'Cate Shortland'], 'resumen': 'Es una película de superhéroes estadounidense de 2012 basada en el equipo de superhéroes homónimo de Marvel Comics, producida por Marvel Studios y distribuida por Walt Disney Studios Motion Pictures, en colaboración con Paramount Pictures.N 1\\u200b Es la sexta película del Universo cinematográfico de Marvel (MCU). '}\n"
          ]
        }
      ]
    },
    {
      "cell_type": "markdown",
      "metadata": {
        "id": "z3Ix_aziMlKG"
      },
      "source": [
        "#Estructuras de **Control de Programación**\n",
        "\n",
        "\n",
        "###A nivel de programación general\n",
        "\n",
        "Se puede crear cualquier tipo de algoritmo empleando solamente 3 estructuras de control:\n",
        "\n",
        "> 1. Secuencia\n",
        "  - Representación de la memoria de programa (Arquitectura Vonn Neumann).\n",
        "  - Representación de cómo se ejecuta en el hardware.\n",
        "\n",
        "> 2. Selección\n",
        "  - Es la estructura de control que decide si un bloque de programa se ejecuta o no. También permite seleccionar ejecutar un bloque entre un conjunto de opciones.\n",
        "  - En resumen tenemos: Selección simple, selección con bifuración y selección múltiple.\n",
        "\n",
        "> 3. Repetición\n",
        "  - Este tipo de estructura nos permite automatizar, la ejecución repetitiva de código mientras ciertas condiciones se cumplan. Tenemos 3 variantes de esta estructura en TODOS los lenguajes de programación:\n",
        "    - **for** (desde ... hasta)\n",
        "    - **while** (haz mientras...)\n",
        "    - **do - while** (haz y luego validas mientras... )\n",
        "\n"
      ]
    },
    {
      "cell_type": "markdown",
      "metadata": {
        "id": "aO8kKDKeSbN1"
      },
      "source": [
        "#Selección Simple\n",
        "\n",
        "La estructura if:\n",
        "```\n",
        "if <CONDICION> :\n",
        "  <CUERPO DEL IF>\n",
        "```\n",
        "Si la condición se cumple, se pasa al cuerpo del if\n",
        "\n",
        "**Para establecer el cuerpo de una estructura de control en Python se usan los tabuladores** a la izq. \n",
        "\n",
        "En otros programas como java, C y C++ se usan { }\n",
        "```\n",
        "int edad=0;\n",
        "printf(\"Dame tu edad\");\n",
        "scanf(\"%i\", &edad);\n",
        "if (edad >=18){\n",
        "    printf(\"Eres mayor de edad\");\n",
        "    }\n",
        "printf(\"Fin de programa\")\n",
        "```\n"
      ]
    },
    {
      "cell_type": "code",
      "metadata": {
        "colab": {
          "base_uri": "https://localhost:8080/"
        },
        "id": "sY2MCnMfSB81",
        "outputId": "d3ed7eef-04ba-41c2-cd31-742ffb4d4f75"
      },
      "source": [
        "#Selección Simple\n",
        "\n",
        "age = int(input(\"What's your age? \"))\n",
        "print(f\"You are {age} years old\")\n",
        "\n",
        "if age >= 21 : \n",
        "  print(\"You're old enough\") #El tabulador de aquí indica que esta línea pertenece al if\n",
        "else : print(\"Bye bye\")\n",
        "\n",
        "print (\"End of program\")"
      ],
      "execution_count": null,
      "outputs": [
        {
          "output_type": "stream",
          "name": "stdout",
          "text": [
            "What's your age? 29\n",
            "You are 29 years old\n",
            "You're old enoguh\n",
            "End of program\n"
          ]
        }
      ]
    },
    {
      "cell_type": "code",
      "metadata": {
        "colab": {
          "base_uri": "https://localhost:8080/"
        },
        "id": "L0vgj7fLWa5E",
        "outputId": "c00e8cac-e08c-43a6-edaa-3f3d768ddfee"
      },
      "source": [
        "CAL = float(input(\"Cuál es la calificación? \"))\n",
        "if CAL >8 :\n",
        "    print(\"Aprobado\")"
      ],
      "execution_count": null,
      "outputs": [
        {
          "output_type": "stream",
          "name": "stdout",
          "text": [
            "Cuál es la calificación? 8.5\n",
            "Aprobado\n"
          ]
        }
      ]
    },
    {
      "cell_type": "code",
      "metadata": {
        "colab": {
          "base_uri": "https://localhost:8080/"
        },
        "id": "_YVeBTQ_Xn4F",
        "outputId": "c17cc995-3ad3-4efb-9ae7-9a4042df9117"
      },
      "source": [
        "SUE = float(input(\"Cuál es el sueldo? \"))\n",
        "if SUE<1000 :\n",
        "    AUM = SUE*1.15\n",
        "    print(AUM)\n"
      ],
      "execution_count": null,
      "outputs": [
        {
          "output_type": "stream",
          "name": "stdout",
          "text": [
            "Cuál es el sueldo? 875.50\n",
            "1006.8249999999999\n"
          ]
        }
      ]
    },
    {
      "cell_type": "markdown",
      "metadata": {
        "id": "mdzxNwdcGtEg"
      },
      "source": [
        "#Estructura de seleccion con bifurcacion (if- else)\n",
        "Esta estructura selecciona una de 2 opciones de ejecución; se ejecuta un bloque si la condición se cumple o se ejecuta otro bloque  si la condición no se cumple\n",
        "```\n",
        "if < condicion>:\n",
        "    <bloque de ejecución>\n",
        "else: \n",
        "    <bloque de ejecución alterno>\n",
        "```"
      ]
    },
    {
      "cell_type": "code",
      "metadata": {
        "colab": {
          "base_uri": "https://localhost:8080/"
        },
        "id": "7PUpEg_tHht1",
        "outputId": "9ff98ce3-7dc0-4584-8277-f78d7380ede3"
      },
      "source": [
        "edad = int (input(\"Dame tu edad:\"))\n",
        "print (f\"Tecleaste {edad} años\")\n",
        "if edad >= 18:\n",
        "    print(\"Eres mayor de edad, ten tu cheve\")\n",
        "else:\n",
        "    print(\"Eres menor de edad, ten tu Boing\")\n",
        "print(\"Fin del programa\")\n"
      ],
      "execution_count": 4,
      "outputs": [
        {
          "output_type": "stream",
          "name": "stdout",
          "text": [
            "Dame tu edad:25\n",
            "Tecleaste 25 años\n",
            "Eres mayor de edad, ten tu cheve\n",
            "Fin del programa\n"
          ]
        }
      ]
    },
    {
      "cell_type": "code",
      "metadata": {
        "colab": {
          "base_uri": "https://localhost:8080/"
        },
        "id": "mW06Z41SJLXx",
        "outputId": "f22d76aa-25c1-4f1e-dacd-d9cfdb8b4cc6"
      },
      "source": [
        "'''Ejercicio Programa para que pida edad y dinero y si tienes + de 18 y dinero suficiente \n",
        "para comprar una cerveza te la compras, si no no.'''\n",
        "\n",
        "edad = int (input(\"Dame tu edad:\"))\n",
        "dinero = int (input(\"¿Cuánto dinero tienes?\"))\n",
        "if edad >= 18:\n",
        "    if dinero >=35:\n",
        "        print(\"Eres mayor de edad y tienes dinero, ten tu cheve\")\n",
        "    else:\n",
        "        print(\"No tienes suficiente dinero\")\n",
        "else:\n",
        "    print(\"Eres menor de edad, ten tu Boing\")\n",
        "print(\"Fin del programa\")\n",
        "\n",
        "\n",
        "\n",
        "edad = int (input(\"Dame tu edad:\"))\n",
        "dinero = int (input(\"¿Cuánto dinero tienes?\"))\n",
        "if edad >= 18:\n",
        "    if dinero >=35:\n",
        "        print(\"Eres mayor de edad y tienes dinero, ten tu cheve ;)\")\n",
        "    else:\n",
        "        print(\"No tienes suficiente dinero\")\n",
        "else:\n",
        "    if dinero >=36:\n",
        "        print(\"Eres menor de edad, y te alcanza para un Boing\")\n",
        "    else:\n",
        "        print(\"Ni tienes la edad ni tienes el dinero, te regalo un chicle :)\")\n",
        "print(\"Fin del programa\")\n",
        "\n",
        "''' El código anterior se puede simplificar usando una palabra reservada\n",
        "especial que existe en algunos lenguajes de programación: elif '''\n",
        "\n",
        "edad = int (input(\"Dame tu edad:\"))\n",
        "dinero = int (input(\"¿Cuánto dinero tienes?\"))\n",
        "if edad >= 18:\n",
        "    if dinero >=35:\n",
        "        print(\"Eres mayor de edad y tienes dinero, ten tu cheve ;)\")\n",
        "    else:\n",
        "        print(\"No tienes suficiente dinero\")\n",
        "elif: if dinero >=36:\n",
        "    print(\"Eres menor de edad, y te alcanza para un Boing\")\n",
        "else:\n",
        "    print(\"Ni tienes la edad ni tienes el dinero, te regalo un chicle :)\")\n",
        "    \n",
        "print(\"Fin del programa\")\n",
        "\n"
      ],
      "execution_count": 7,
      "outputs": [
        {
          "output_type": "stream",
          "name": "stdout",
          "text": [
            "Dame tu edad:15\n",
            "¿Cuánto dinero tienes?35\n",
            "Eres menor de edad, ten tu Boing\n",
            "Fin del programa\n",
            "Dame tu edad:20\n",
            "¿Cuánto dinero tienes?50\n",
            "Eres mayor de edad y tienes dinero, ten tu cheve ;)\n",
            "Fin del programa\n"
          ]
        }
      ]
    },
    {
      "cell_type": "code",
      "metadata": {
        "colab": {
          "base_uri": "https://localhost:8080/"
        },
        "id": "EJ7D3bl8Owhz",
        "outputId": "7be98617-de1b-42bd-bd50-2e74ced90eee"
      },
      "source": [
        "#Ejercicio de calificacion\n",
        "cal = float(input(\"¿Cuál es la calificación?\"))\n",
        "if cal >=8:\n",
        "    print(\"Aprobado\")\n",
        "else:\n",
        "    print(\"Reprobado\")"
      ],
      "execution_count": 10,
      "outputs": [
        {
          "output_type": "stream",
          "name": "stdout",
          "text": [
            "¿Cuál es la calificación?56\n",
            "Aprobado\n"
          ]
        }
      ]
    },
    {
      "cell_type": "code",
      "metadata": {
        "colab": {
          "base_uri": "https://localhost:8080/"
        },
        "id": "9_zESMZxQBt2",
        "outputId": "2f975ed5-2ff8-4331-817c-8f633126f557"
      },
      "source": [
        "#Ejercicio 2.4 sueldo\n",
        "SUE = float(input(\"¿cuál es el sueldo?\"))\n",
        "if SUE < 1000:\n",
        "    AUM = SUE *0.15\n",
        "    NSUE = SUE + AUM\n",
        "    print(NSUE)\n",
        "else:\n",
        "    AUM = SUE *0.12\n",
        "    NSUE = SUE + AUM\n",
        "    print(NSUE)"
      ],
      "execution_count": 9,
      "outputs": [
        {
          "output_type": "stream",
          "name": "stdout",
          "text": [
            "¿cuál es el sueldo?12\n",
            "13.8\n"
          ]
        }
      ]
    },
    {
      "cell_type": "markdown",
      "metadata": {
        "id": "qRXFOk_UQBO8"
      },
      "source": [
        "#Ejercicio\n",
        "Hacer un programa que solicite día de la semana en un valor numérico entero del 1 al 7 (avisar al usuario si proporcionó un valor fuera del rango)\n",
        "\n",
        "### Imprimirá el día de la semana correspondiente al número dado.\n",
        "\n",
        "\n"
      ]
    },
    {
      "cell_type": "code",
      "metadata": {
        "colab": {
          "base_uri": "https://localhost:8080/",
          "height": 131
        },
        "id": "IhxeTB_KSVZJ",
        "outputId": "947d4d3d-33c4-400f-d5fc-08aaa6a8f824"
      },
      "source": [
        "''' Compañero X\n",
        "numero = int(input(\"Dame un valor del 1 al 7\"))\n",
        "if numero == 1:\n",
        "    print(\"Hoy es lunes\")\n",
        "elif numero == 2:\n",
        "    print(\"Hoy es Martes\")\n",
        "elif numero == 3:\n",
        "    print(\"Hoy es Miercoles\")\n",
        "elif numero == 4:\n",
        "    print(\"Hoy es Jueves\")\n",
        "elif numero == 5:\n",
        "    print(\"Hoy es viernes\")\n",
        "elif numero == 6:\n",
        "    print(\"Hoy es Sabado\")\n",
        "elif numero == 7:\n",
        "    print(\"Hoy es Domingo\")\n",
        "'''\n",
        "''' Moi\n",
        "dias = {\"lunes\":1, \n",
        "        \"martes\":2, \n",
        "        \"miércoles\":3, \n",
        "        \"jueves\":4, \n",
        "        \"viernes\":5, \n",
        "        \"sábado\":6, \n",
        "        \"domingo\":7}\n",
        "dia = int(input(\"Dame un día con valor numérico:\"))\n",
        "\n",
        "if dia >=1 and dia <=7:\n",
        "    print(dias[dia])\n",
        "else:\n",
        "    print(\"error\")\n",
        "if dia >7  :\n",
        "    \n",
        "    print(\"porfavor ingresa un valor entre 1 y 7\")\n",
        "elif dia <=0:\n",
        "    print(\"porfavor ingresa un valor entre 1 y 7\")\n",
        "'''\n",
        "#Profe\n",
        "\n",
        "dia = int(input(\"ingresa num\"))\n",
        "print(f\"Capturaste el num {dia}\")\n",
        "\n",
        "if dia >=1 and dia <=7:\n",
        "    else:\n",
        "    if dia ==1:\n",
        "        print(\"Lunes\")\n",
        "        else:\n",
        "            if dia ==2:\n",
        "                print(\"Martes\")\n",
        "            else:\n",
        "                if dia ==3:\n",
        "                print(\"Martes\")\n",
        "                else:\n",
        "                    if dia ==4:\n",
        "                    print(\"Martes\")\n",
        "                    else:\n",
        "                        if dia ==5:\n",
        "                        print(\"Martes\")\n",
        "                        else:\n",
        "                            if dia ==6:\n",
        "                            print(\"Martes\")\n",
        "                            else:\n",
        "                                print(\"Domingo\")\n",
        "\n",
        "    print(número inválido)\n",
        "    '''\n",
        "if dia >=1 and dia <=7:\n",
        "   if dia ==1:\n",
        "           print(\"Lunes\")\n",
        "   if dia ==2:\n",
        "           print(\"Lunes\")\n",
        "   if dia ==3:\n",
        "           print(\"Lunes\")\n",
        "   if dia ==4:\n",
        "           print(\"Lunes\")\n",
        "   if dia ==5:\n",
        "           print(\"Lunes\")\n",
        "           '''"
      ],
      "execution_count": 46,
      "outputs": [
        {
          "output_type": "error",
          "ename": "SyntaxError",
          "evalue": "ignored",
          "traceback": [
            "\u001b[0;36m  File \u001b[0;32m\"<ipython-input-46-7c54e029fbcf>\"\u001b[0;36m, line \u001b[0;32m46\u001b[0m\n\u001b[0;31m    else:\u001b[0m\n\u001b[0m       ^\u001b[0m\n\u001b[0;31mSyntaxError\u001b[0m\u001b[0;31m:\u001b[0m invalid syntax\n"
          ]
        }
      ]
    },
    {
      "cell_type": "code",
      "metadata": {
        "colab": {
          "base_uri": "https://localhost:8080/",
          "height": 105
        },
        "id": "8v8ySzGBZmSw",
        "outputId": "e2e51da8-5b4f-4021-bd7a-d209d84495ee"
      },
      "source": [
        "''' Programa que pida 2 num enteros y que imprima en pantalla:\n",
        "1. cúal es el num mayor\n",
        "2. cuál es el num menor\n",
        "3. o imprimir que los valores son iguales\n",
        "'''\n",
        "int1 = int(input(\"Ingresa el valor 1: \"))\n",
        "int2 = int(input(\"Ingresa el valor 2: \"))\n",
        "\n",
        "if int1 > int2:\n",
        "    print(int1, \"es mayor que \", int2)\n",
        "else:\n",
        "    print(\"Son iguales\")\n",
        "    \n",
        "    \n",
        "    \n",
        "\n",
        "\n",
        "\n",
        "'''\n",
        "1. Hacer un programa que solicite 3 nums enteros diferentes entre sí\n",
        "y que imprima cuál de los 3 es el mayor '''\n",
        "\n",
        "'''\n",
        "2. Hacer un programa que solicite 3 nums enteros diferentes entre sí\n",
        "y que imprima cuál de los 3 es el menor'''\n",
        "\n",
        "'''\n",
        "3. Hacer un programa que solicite 4 nums enteros diferentes y que imprima \n",
        "a la salida cuál es el menor y cuál es el mayor'''"
      ],
      "execution_count": 58,
      "outputs": [
        {
          "output_type": "stream",
          "name": "stdout",
          "text": [
            "Ingresa el valor 1: 7\n",
            "Ingresa el valor 2: 8\n",
            "Son iguales\n"
          ]
        },
        {
          "output_type": "execute_result",
          "data": {
            "application/vnd.google.colaboratory.intrinsic+json": {
              "type": "string"
            },
            "text/plain": [
              "'\\n3. Hacer un programa que solicite 4 nums enteros diferentes y que imprima \\na la salida cuál es el menor y cuál es el mayor'"
            ]
          },
          "metadata": {},
          "execution_count": 58
        }
      ]
    },
    {
      "cell_type": "markdown",
      "metadata": {
        "id": "2gvEeBGIb1tJ"
      },
      "source": [
        "#Selección múiltiple\n",
        "En python no existe la estructura de selección switch, en su lugar se emplea la palabra reservada:\n",
        "\n",
        "## ```elif <condicion>```"
      ]
    },
    {
      "cell_type": "code",
      "metadata": {
        "colab": {
          "base_uri": "https://localhost:8080/"
        },
        "id": "bpOzM9s-c09R",
        "outputId": "cfa2be79-a520-4070-ba03-c81350665014"
      },
      "source": [
        "NUM = int(input(\"Dame un núm entre 1 y 3: \"))\n",
        "V = float(input(\"Dame un valor float: \"))\n",
        "VAL = 0\n",
        "if NUM == 1:\n",
        "    VAL = 100 * V\n",
        "elif NUM == 2:\n",
        "    VAL = 100 ** V\n",
        "elif NUM == 3:\n",
        "    VAL = 100 / V\n",
        "else: \n",
        "    VAL = 0\n",
        "print(VAL)\n"
      ],
      "execution_count": 59,
      "outputs": [
        {
          "output_type": "stream",
          "name": "stdout",
          "text": [
            "Dame un núm entre 1 y 3: 1\n",
            "Dame un valor float: 5\n",
            "500.0\n"
          ]
        }
      ]
    },
    {
      "cell_type": "code",
      "metadata": {
        "id": "69ApXbOidl_0"
      },
      "source": [
        "#Tarea ejercicios hasta pàg"
      ],
      "execution_count": null,
      "outputs": []
    }
  ]
}