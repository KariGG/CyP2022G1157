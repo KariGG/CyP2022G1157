{
  "nbformat": 4,
  "nbformat_minor": 0,
  "metadata": {
    "colab": {
      "name": "Fundamentos2_CyP_1157.ipynb",
      "provenance": [],
      "authorship_tag": "ABX9TyMlF1cTPl5IRvQb/kX98qXo",
      "include_colab_link": true
    },
    "kernelspec": {
      "name": "python3",
      "display_name": "Python 3"
    },
    "language_info": {
      "name": "python"
    }
  },
  "cells": [
    {
      "cell_type": "markdown",
      "metadata": {
        "id": "view-in-github",
        "colab_type": "text"
      },
      "source": [
        "<a href=\"https://colab.research.google.com/github/KariGG/CyP2022G1157/blob/main/CyP04Nov.ipynb\" target=\"_parent\"><img src=\"https://colab.research.google.com/assets/colab-badge.svg\" alt=\"Open In Colab\"/></a>"
      ]
    },
    {
      "cell_type": "markdown",
      "metadata": {
        "id": "6twtuwDLFdW0"
      },
      "source": [
        "#Tipos de dato estructurado en Python\n",
        "\n",
        "1. Listas\n",
        "2. Tuplas\n",
        "3. Diccionarips\n",
        "4. Conjuntos (opcional)"
      ]
    },
    {
      "cell_type": "markdown",
      "metadata": {
        "id": "VT9G_fePFwNs"
      },
      "source": [
        "##Listas\n",
        "- Tipo de dato que agrupa valores.\n",
        "- Estructura secuencial\n",
        "- Se declara con de 2 formas:\n",
        "    - Usando []\n",
        "    - Usando list()\n",
        "- Puede contener tipos de dato diversos, en otros lenguajes de programación eso no es posible de forma directa.\n",
        "- Los elementos internos se seleccionan con []\n",
        "- Soporta slicing\n",
        "- SON MUTABLES (puede cambiar su valor)\n",
        "- GENERADORES [var for x in range(10)]\n",
        "- Al ser una clase contiene muchos métodos útiles"
      ]
    },
    {
      "cell_type": "code",
      "metadata": {
        "colab": {
          "base_uri": "https://localhost:8080/"
        },
        "id": "7DkO3ssTFtr-",
        "outputId": "71c98d71-e9ad-424d-adc0-3d2fa403cd80"
      },
      "source": [
        "numeros = [10,5,2,3,1]\n",
        "print (numeros)\n",
        "\n",
        "num2 = list()\n",
        "num2.append(10)\n",
        "num2.append(5)\n",
        "num2.append(2)\n",
        "num2.append(3)\n",
        "num2.append(1)\n",
        "print(num2)\n",
        "numeros[2]=20\n",
        "numeros[-1]=33\n",
        "print (numeros)"
      ],
      "execution_count": 27,
      "outputs": [
        {
          "output_type": "stream",
          "name": "stdout",
          "text": [
            "[10, 5, 2, 3, 1]\n",
            "[10, 5, 2, 3, 1]\n",
            "[10, 5, 20, 3, 33]\n"
          ]
        }
      ]
    },
    {
      "cell_type": "code",
      "metadata": {
        "colab": {
          "base_uri": "https://localhost:8080/"
        },
        "id": "7L_S-3AZIhNj",
        "outputId": "96fffdcd-d073-4d6c-bc72-ae924a267a70"
      },
      "source": [
        "# Tipos diversos\n",
        "cosas=[12, 2, True, \"Kari\", 1.57, [\"Kiwi\", \"Piña\", \"Fresa\"]]\n",
        "print(cosas)\n",
        "print(cosas[1])\n",
        "print(cosas[4])\n",
        "print(cosas[5][1])\n",
        "print(cosas[3][1:3])"
      ],
      "execution_count": 24,
      "outputs": [
        {
          "output_type": "stream",
          "name": "stdout",
          "text": [
            "[12, 2, True, 'Kari', 1.57, ['Kiwi', 'Piña', 'Fresa']]\n",
            "2\n",
            "1.57\n",
            "Piña\n",
            "ar\n"
          ]
        }
      ]
    },
    {
      "cell_type": "code",
      "metadata": {
        "colab": {
          "base_uri": "https://localhost:8080/"
        },
        "id": "Y4Eh-x-AL4Gk",
        "outputId": "e9077125-643e-4503-bb20-aa9716717fda"
      },
      "source": [
        "nums = [1,2,3,4,5,6,7,8,9,10,11]\n",
        "print(nums)\n",
        "#Slicing\n",
        "#1. print del 4 al 8\n",
        "print(nums[3:8])\n",
        "#2. print del 9 al 10\n",
        "print(nums[8:10])\n",
        "print(nums[-3:-1])\n",
        "#3. print lista en orden inverso\n",
        "print(nums[::-1])"
      ],
      "execution_count": 42,
      "outputs": [
        {
          "output_type": "stream",
          "name": "stdout",
          "text": [
            "[1, 2, 3, 4, 5, 6, 7, 8, 9, 10, 11]\n",
            "[4, 5, 6, 7, 8]\n",
            "[9, 10]\n",
            "[9, 10]\n",
            "[11, 10, 9, 8, 7, 6, 5, 4, 3, 2, 1]\n"
          ]
        }
      ]
    },
    {
      "cell_type": "code",
      "metadata": {
        "colab": {
          "base_uri": "https://localhost:8080/"
        },
        "id": "syQm_TwTPosB",
        "outputId": "db5bf153-b4f7-4e7e-b058-f68652e3792c"
      },
      "source": [
        "#Crear lista con generador\n",
        "\n",
        "generada = [x for x in range(101)]\n",
        "deTantoNtanto = [x*3 for x in range(101)]\n",
        "print(generada)\n",
        "print(deTantoNtanto)"
      ],
      "execution_count": 44,
      "outputs": [
        {
          "output_type": "stream",
          "name": "stdout",
          "text": [
            "[0, 1, 2, 3, 4, 5, 6, 7, 8, 9, 10, 11, 12, 13, 14, 15, 16, 17, 18, 19, 20, 21, 22, 23, 24, 25, 26, 27, 28, 29, 30, 31, 32, 33, 34, 35, 36, 37, 38, 39, 40, 41, 42, 43, 44, 45, 46, 47, 48, 49, 50, 51, 52, 53, 54, 55, 56, 57, 58, 59, 60, 61, 62, 63, 64, 65, 66, 67, 68, 69, 70, 71, 72, 73, 74, 75, 76, 77, 78, 79, 80, 81, 82, 83, 84, 85, 86, 87, 88, 89, 90, 91, 92, 93, 94, 95, 96, 97, 98, 99, 100]\n",
            "[0, 3, 6, 9, 12, 15, 18, 21, 24, 27, 30, 33, 36, 39, 42, 45, 48, 51, 54, 57, 60, 63, 66, 69, 72, 75, 78, 81, 84, 87, 90, 93, 96, 99, 102, 105, 108, 111, 114, 117, 120, 123, 126, 129, 132, 135, 138, 141, 144, 147, 150, 153, 156, 159, 162, 165, 168, 171, 174, 177, 180, 183, 186, 189, 192, 195, 198, 201, 204, 207, 210, 213, 216, 219, 222, 225, 228, 231, 234, 237, 240, 243, 246, 249, 252, 255, 258, 261, 264, 267, 270, 273, 276, 279, 282, 285, 288, 291, 294, 297, 300]\n"
          ]
        }
      ]
    },
    {
      "cell_type": "markdown",
      "metadata": {
        "id": "1WJWiV2HQc_G"
      },
      "source": [
        "# Función range()\n",
        "Función range tiene los mismos componentes que slicing.\n",
        "inicio, stop, incremento\n",
        "range(1, 101, 1"
      ]
    },
    {
      "cell_type": "code",
      "metadata": {
        "colab": {
          "base_uri": "https://localhost:8080/"
        },
        "id": "E6XybNfMRcf_",
        "outputId": "14721d4e-9950-4aa6-ee5c-1904bcb4d889"
      },
      "source": [
        "funcRange = [x for x in range(50,101,2)]\n",
        "print(funcRange)"
      ],
      "execution_count": 58,
      "outputs": [
        {
          "output_type": "stream",
          "name": "stdout",
          "text": [
            "[50, 52, 54, 56, 58, 60, 62, 64, 66, 68, 70, 72, 74, 76, 78, 80, 82, 84, 86, 88, 90, 92, 94, 96, 98, 100]\n"
          ]
        }
      ]
    },
    {
      "cell_type": "markdown",
      "metadata": {
        "id": "LkFg2LbGQ3Vw"
      },
      "source": [
        "#Métodos disponibles de las lista\n",
        "\n"
      ]
    },
    {
      "cell_type": "code",
      "metadata": {
        "colab": {
          "base_uri": "https://localhost:8080/"
        },
        "id": "dI9BbtOCRTn_",
        "outputId": "695885e6-cee6-48d3-bf9a-a07469a20bc7"
      },
      "source": [
        "dir(list)"
      ],
      "execution_count": 47,
      "outputs": [
        {
          "output_type": "execute_result",
          "data": {
            "text/plain": [
              "['__add__',\n",
              " '__class__',\n",
              " '__contains__',\n",
              " '__delattr__',\n",
              " '__delitem__',\n",
              " '__dir__',\n",
              " '__doc__',\n",
              " '__eq__',\n",
              " '__format__',\n",
              " '__ge__',\n",
              " '__getattribute__',\n",
              " '__getitem__',\n",
              " '__gt__',\n",
              " '__hash__',\n",
              " '__iadd__',\n",
              " '__imul__',\n",
              " '__init__',\n",
              " '__init_subclass__',\n",
              " '__iter__',\n",
              " '__le__',\n",
              " '__len__',\n",
              " '__lt__',\n",
              " '__mul__',\n",
              " '__ne__',\n",
              " '__new__',\n",
              " '__reduce__',\n",
              " '__reduce_ex__',\n",
              " '__repr__',\n",
              " '__reversed__',\n",
              " '__rmul__',\n",
              " '__setattr__',\n",
              " '__setitem__',\n",
              " '__sizeof__',\n",
              " '__str__',\n",
              " '__subclasshook__',\n",
              " 'append',\n",
              " 'clear',\n",
              " 'copy',\n",
              " 'count',\n",
              " 'extend',\n",
              " 'index',\n",
              " 'insert',\n",
              " 'pop',\n",
              " 'remove',\n",
              " 'reverse',\n",
              " 'sort']"
            ]
          },
          "metadata": {},
          "execution_count": 47
        }
      ]
    },
    {
      "cell_type": "code",
      "metadata": {
        "colab": {
          "base_uri": "https://localhost:8080/"
        },
        "id": "E4jnRf6pSuRH",
        "outputId": "d736ff10-f9bd-43df-e6bf-569a8d1598d5"
      },
      "source": [
        "nums = [4,1,2,3,8,45]\n",
        "print(nums)\n",
        "nums.append(99)\n",
        "print(nums)\n",
        "#Vaciar lista\n",
        "nums.clear()\n",
        "print(nums)\n",
        "nums = [] #de preferencia hacerlo con clear\n",
        "print(nums)\n",
        "\n",
        "frutas = [\"Kiwi\", \"Piña\", \"Fresa\"]\n",
        "copia = frutas #Hace referencia a la ubicación de la lista, por eso se afecta también\n",
        "print(frutas)\n",
        "print(copia)\n",
        "frutas.append(\"Banana\")\n",
        "print(frutas)\n",
        "print(copia)\n",
        "\n",
        "colores =[\"Pink\", \"Blue\", \"Green\", \"Grey\"]\n",
        "copia2 = colores.copy() #Copia tal cual, como si fuera otra variable, por eso no se modifica\n",
        "print(colores)\n",
        "print(copia2)\n",
        "colores.append(\"Yellow\")\n",
        "print(colores)\n",
        "print(copia2)\n",
        "\n",
        "numbers =[x for x in range(101)]\n",
        "print (\"Número de veces que aparece el 2=\", numbers.count(2))\n",
        "\n",
        "#Agregar a la lista\n",
        "nombres = [\"John\", \"Kari\", \"Tom\"]\n",
        "otrosNombres = [\"Emily\", \"Susan\", \"Pam\"]\n",
        "print (nombres)\n",
        "print(otrosNombres)\n",
        "nombres = nombres + otrosNombres\n",
        "print (nombres)\n",
        "print(otrosNombres)\n",
        "#Lo mismo con el método extend\n",
        "otrosNombres.extend([\"Mike\", \"Kevin\",\"Zealand\"])\n",
        "print(otrosNombres)\n",
        "\n",
        "#Índice\n",
        "print(\"Tom está en la posición= \", nombres.index(\"Tom\"))\n",
        "\n",
        "#Insertar valores en cualquier posición y mueve los demás a la izq.\n",
        "otrosNombres.insert(4, \"Iván\")\n",
        "print(otrosNombres)\n",
        "\n",
        "#Pop quita el último elemento y te lo regresa en otra variable\n",
        "resultado = otrosNombres.pop()\n",
        "print(otrosNombres)\n",
        "print(resultado)\n"
      ],
      "execution_count": 71,
      "outputs": [
        {
          "output_type": "stream",
          "name": "stdout",
          "text": [
            "[4, 1, 2, 3, 8, 45]\n",
            "[4, 1, 2, 3, 8, 45, 99]\n",
            "[]\n",
            "[]\n",
            "['Kiwi', 'Piña', 'Fresa']\n",
            "['Kiwi', 'Piña', 'Fresa']\n",
            "['Kiwi', 'Piña', 'Fresa', 'Banana']\n",
            "['Kiwi', 'Piña', 'Fresa', 'Banana']\n",
            "['Pink', 'Blue', 'Green', 'Grey']\n",
            "['Pink', 'Blue', 'Green', 'Grey']\n",
            "['Pink', 'Blue', 'Green', 'Grey', 'Yellow']\n",
            "['Pink', 'Blue', 'Green', 'Grey']\n",
            "Número de veces que aparece el 2= 1\n",
            "['John', 'Kari', 'Tom']\n",
            "['Emily', 'Susan', 'Pam']\n",
            "['John', 'Kari', 'Tom', 'Emily', 'Susan', 'Pam']\n",
            "['Emily', 'Susan', 'Pam']\n",
            "['Emily', 'Susan', 'Pam', 'Mike', 'Kevin', 'Zealand']\n",
            "Tom está en la posición=  2\n",
            "['Emily', 'Susan', 'Pam', 'Mike', 'Iván', 'Kevin', 'Zealand']\n",
            "['Emily', 'Susan', 'Pam', 'Mike', 'Iván', 'Kevin']\n",
            "Zealand\n"
          ]
        }
      ]
    }
  ]
}