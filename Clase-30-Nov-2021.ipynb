{
  "nbformat": 4,
  "nbformat_minor": 0,
  "metadata": {
    "colab": {
      "name": "Fundamentos3_CyP_1157.ipynb",
      "provenance": [],
      "authorship_tag": "ABX9TyNszjDp9I346qO8UKXTyy0I",
      "include_colab_link": true
    },
    "kernelspec": {
      "name": "python3",
      "display_name": "Python 3"
    },
    "language_info": {
      "name": "python"
    }
  },
  "cells": [
    {
      "cell_type": "markdown",
      "metadata": {
        "id": "view-in-github",
        "colab_type": "text"
      },
      "source": [
        "<a href=\"https://colab.research.google.com/github/KariGG/CyP2022G1157/blob/main/Clase-30-Nov-2021.ipynb\" target=\"_parent\"><img src=\"https://colab.research.google.com/assets/colab-badge.svg\" alt=\"Open In Colab\"/></a>"
      ]
    },
    {
      "cell_type": "code",
      "metadata": {
        "id": "_0ZrkvbFFPbB"
      },
      "source": [
        ""
      ],
      "execution_count": null,
      "outputs": []
    },
    {
      "cell_type": "markdown",
      "metadata": {
        "id": "QbIvAz_VFnY4"
      },
      "source": [
        "#Repetición:\n",
        "\n",
        "Este tipo de estructura nos permite automatizar, la ejecución repetitiva de código mientras ciertas condiciones se cumplan. Tenemos 3 variantes de esta estructura en TODOS los lenguajes de programación:\n",
        "   - **for** (desde ... hasta)\n",
        "   - **while** (haz mientras...)\n",
        "   - **do - while** (haz y luego validas mientras... )\n",
        "\n",
        "##For con Python\n",
        "\n",
        "```\n",
        "for j in range(10):\n",
        "    print(f\"Hola {j }\")\n",
        "\n",
        "\n",
        "```\n",
        "\n",
        "##For con C y/o Java\n",
        "```\n",
        "for( int j=0 ; j>10 ; j=j+1 ){\n",
        "    printf(\"Hola %i \\n\", j );\n",
        "\n",
        "```\n",
        "\n",
        "En todos los lenguajes de programación existe un tipo especial de for conocido como **for-each**\n",
        "\n",
        "## For-each\n",
        "```\n",
        "for color in colores\n",
        "    print(f\"Este es el color {color}\")\n",
        "```"
      ]
    },
    {
      "cell_type": "code",
      "metadata": {
        "colab": {
          "base_uri": "https://localhost:8080/"
        },
        "id": "uxUUjrhFH06F",
        "outputId": "1b1d2c88-019e-4f03-8b1a-32edb9364678"
      },
      "source": [
        "#fncion range()\n",
        "# range(<inicio>,<stop>,<incremento>) \n",
        "'''\n",
        "x = range(0,10,2)\n",
        "print(x)\n",
        "\n",
        "for j in range(10): # range(1,10) -->iterador de 0 a 10 --> 0,1,2,3,4,5,6,7,8,9\n",
        "    print(f\"Hola {j}\")\n",
        "print(\"-.-.-.-.-.-.-.-.-.-.-.-.\")\n",
        "for j in range(0,10,2): # range(1,10) -->iterador de 0 a 10 --> 0,2,4,6,8\n",
        "    print(f\"Hola {j}\")'''\n",
        "\n",
        "\n",
        "frutas = [\"Uva\",\"Manzana\",\"Pera\",\"Piña\",\"Sandía\"]\n",
        "\n",
        "for index in range(5):\n",
        "    print(frutas[index])\n",
        "\n",
        "'''\n",
        "imprimir:\n",
        "+++++\n",
        "+++++\n",
        "+++++\n",
        "+++++\n",
        "+++++\n",
        "\n",
        "+\n",
        "++\n",
        "+++\n",
        "++++\n",
        "+++++\n",
        "'''\n",
        "\n",
        "\n",
        "for x in range(5):\n",
        "    print(\"+++++\")\n",
        "\n",
        "\n",
        "for i in range(6):\n",
        "    for j in range(i):\n",
        "        print(\"+\",end=\"\")\n",
        "    \n",
        "    print()\n",
        "\n"
      ],
      "execution_count": null,
      "outputs": [
        {
          "output_type": "stream",
          "name": "stdout",
          "text": [
            "Uva\n",
            "Manzana\n",
            "Pera\n",
            "Piña\n",
            "Sandía\n",
            "\n",
            "+\n",
            "++\n",
            "+++\n",
            "++++\n",
            "+++++\n"
          ]
        }
      ]
    },
    {
      "cell_type": "code",
      "metadata": {
        "colab": {
          "base_uri": "https://localhost:8080/"
        },
        "id": "gwgYXmwOPCQF",
        "outputId": "b0c4fbd1-d0be-494e-b5f4-33a543880ec2"
      },
      "source": [
        "#ejemplo 3.3\n",
        "CUECER = 0\n",
        "NUM = 0\n",
        "N = int(input(\"valor mayor que 1: \"))       #Va a capturar la cantidad de valores \n",
        "for I in range( 1, N+1, 1): #N+1 por el stop          #del num. ingresado. \n",
        "    N = int(input(\"valor mayor numérico: \"))\n",
        "    if N == 0:\n",
        "            CUECER += 1\n",
        "\n",
        "print(\"CUECER= \", CUECER)"
      ],
      "execution_count": null,
      "outputs": [
        {
          "output_type": "stream",
          "name": "stdout",
          "text": [
            "valor mayor que 1: 1\n",
            "valor mayor numérico: 0\n",
            "CUECER=  1\n"
          ]
        }
      ]
    },
    {
      "cell_type": "code",
      "metadata": {
        "colab": {
          "base_uri": "https://localhost:8080/"
        },
        "id": "CKoPOL6fQtuN",
        "outputId": "4e9106c9-0c64-4456-81ce-f0c88daab385"
      },
      "source": [
        "'''Estructura for que pinte la tabla del 7\n",
        "7 x 1 = 7\n",
        "7 x 2 = 14\n",
        "'''\n",
        "n = 7\n",
        "for i in range(2):\n",
        "    x = n * i\n",
        "    print(f\"{n} x {i} = {x}\")\n"
      ],
      "execution_count": null,
      "outputs": [
        {
          "output_type": "stream",
          "name": "stdout",
          "text": [
            "7 x 0 = 0\n",
            "7 x 1 = 7\n"
          ]
        }
      ]
    },
    {
      "cell_type": "code",
      "metadata": {
        "id": "496DhnFPR4M7"
      },
      "source": [
        "''' Mande msj: dame un num entre 1 y 5\n",
        "'''\n",
        "n = int(input(\"Dame un num entre 1 y 5: \"))\n",
        "if n > 0 and n <= 5:\n",
        "    f = int(input(f\"Dame un valor entre {n} y 10: \"))\n",
        "    if f >= n and n <=10:\n",
        "        for i in range(n, f+1): #+1 porque el stop no se incluye el stop ()llegaría a un núm anterior\n",
        "            for j in range(1, 11):\n",
        "                print(f\"{i} x {j} = \", i*j)\n",
        "            print(\"-.-.-.-.-.-.-\")\n",
        "    else:\n",
        "    print(\"Valor fuera de rango\")\n",
        "else:\n",
        "    print(\"Valor fuera de rango\")"
      ],
      "execution_count": null,
      "outputs": []
    },
    {
      "cell_type": "markdown",
      "metadata": {
        "id": "AS0CTEQeWneZ"
      },
      "source": [
        "#Generadores de listas\n",
        "Notación especial de Python que permite crear una lista de tamaño específico con valores iniciales\n"
      ]
    },
    {
      "cell_type": "code",
      "metadata": {
        "colab": {
          "base_uri": "https://localhost:8080/"
        },
        "id": "ZMsv-lA8VmcB",
        "outputId": "ab0dc6e3-8c9d-4b87-c387-581622359421"
      },
      "source": [
        "numeros = [ 0 for x in range(5) ]\n",
        "print(numeros)\n",
        "#Empleando la variable de control x para el valor inicial\n",
        "numeros = [ x for x in range(5) ]\n",
        "print(numeros)\n",
        "numeros = [ x for x in range(0,101,10) ]\n",
        "print(numeros)\n",
        "print(\"-.-.-.-.-\") \n",
        "#compañero X\n",
        "numeros = [ (x+1)*10 for x in range(10) ]\n",
        "print(numeros)\n",
        "print(\"-.-.-.-.-\")\n",
        "#Prof\n",
        "numeros = [ x*10 for x in range(1,11) ]\n",
        "print(numeros)"
      ],
      "execution_count": null,
      "outputs": [
        {
          "output_type": "stream",
          "name": "stdout",
          "text": [
            "[0, 0, 0, 0, 0]\n",
            "[0, 1, 2, 3, 4]\n",
            "[0, 10, 20, 30, 40, 50, 60, 70, 80, 90, 100]\n",
            "-.-.-.-.-\n",
            "[10, 20, 30, 40, 50, 60, 70, 80, 90, 100]\n",
            "-.-.-.-.-\n",
            "[10, 20, 30, 40, 50, 60, 70, 80, 90, 100]\n"
          ]
        }
      ]
    },
    {
      "cell_type": "code",
      "metadata": {
        "colab": {
          "base_uri": "https://localhost:8080/"
        },
        "id": "DcJ9VNN_YRoJ",
        "outputId": "4a4c8cee-055a-44ba-e1ff-7487a71f4125"
      },
      "source": [
        "''' Calcular promedio de edades'''\n",
        "\n",
        "edades = [0 for x in range(5)]\n",
        "suma=0\n",
        "\n",
        "for x in range(5):\n",
        "    edades[x] = int(input(\"Dame la edad: \"))\n",
        "    suma= suma+edades[x]\n",
        "print(edades)\n",
        "print(suma)\n",
        "print(\"Promedio: \", suma/5)"
      ],
      "execution_count": null,
      "outputs": [
        {
          "output_type": "stream",
          "name": "stdout",
          "text": [
            "Dame la edad: 56\n",
            "Dame la edad: 31\n",
            "Dame la edad: 25\n",
            "Dame la edad: 12\n",
            "Dame la edad: 68\n",
            "[56, 31, 25, 12, 68]\n",
            "192\n",
            "Promedio:  38.4\n"
          ]
        }
      ]
    },
    {
      "cell_type": "code",
      "metadata": {
        "colab": {
          "base_uri": "https://localhost:8080/"
        },
        "id": "r0bGSRj8cRMw",
        "outputId": "e7ea00ed-9912-4fe7-c35b-6993fba0b993"
      },
      "source": [
        "import random\n",
        "print(random.random())\n",
        "print(random.uniform(5,11))\n",
        "val = round(random.uniform(5,11) , 2)\n",
        "print(val)\n",
        "\n",
        "valores = [round(random.uniform(5,11), 2) for x in range(20)]\n",
        "print(valores)"
      ],
      "execution_count": null,
      "outputs": [
        {
          "output_type": "stream",
          "name": "stdout",
          "text": [
            "0.26422332596457765\n",
            "5.783625145761498\n",
            "6.24\n",
            "[8.59, 9.03, 9.9, 9.8, 8.06, 9.44, 9.22, 10.85, 7.77, 9.66, 6.18, 6.31, 10.18, 7.26, 6.09, 10.91, 8.37, 10.07, 5.04, 10.72]\n"
          ]
        }
      ]
    },
    {
      "cell_type": "code",
      "metadata": {
        "id": "z1NQPAUOdzWI"
      },
      "source": [
        "#Tarea completar programa\n",
        "# identificar cuál num aleatorio es el menor\n",
        "# cuál es el valor más grande\n",
        "# promedio de los valores\n"
      ],
      "execution_count": null,
      "outputs": []
    },
    {
      "cell_type": "markdown",
      "metadata": {
        "id": "EMhX--1E6Bbs"
      },
      "source": [
        "#While\n",
        "Estructura de control while nos permite ejecutar repetidamente bloques de programación mientras una condición se siga cumpliendo.\n",
        "\n",
        "##Sintaxis\n",
        "```\n",
        "while <condicion>:\n",
        "    <Bloque de sentencias a ejecutar repetidamente>\n",
        "<siguiente sentencia posterior a while\n",
        "```\n",
        "La diferencia principal en comparación con la estructura 'for' es que con 'while' no conoces el número de ciclos a ejecutar (ya que lo ingresa el usuario); en 'for' sí se conoce (porque lo ingresa el rpogramador).\n",
        "###Como ejemplo iniciemos el siguiente enunciado.\n",
        "Hacer un programa que solicite un valor entero positivo y calcule repetidamente la mitad, se reasignará a ese valor a la misma variable. El ciclo se debe detener cuando el resultado sea menor a 1. Mostar en pantalla el cálculo de todos los resultados y al final el número de iteraciones que realizó."
      ]
    },
    {
      "cell_type": "code",
      "metadata": {
        "colab": {
          "base_uri": "https://localhost:8080/"
        },
        "id": "DfmEQ-wV71JL",
        "outputId": "c3823dc7-6998-4ff1-cfcd-f048e12b4000"
      },
      "source": [
        "valor = int(input(\"Dame un valor: \"))\n",
        "contador = 0\n",
        "if valor > 0:\n",
        "    while valor > 1.0:\n",
        "        valor = valor / 2\n",
        "        print( round(valor , 2) )\n",
        "        contador +=1\n",
        "else: \n",
        "    print(\"El número es negativo, intenta de nuevo\")\n",
        "print(\"Total de iteraciones\", contador)"
      ],
      "execution_count": 1,
      "outputs": [
        {
          "output_type": "stream",
          "name": "stdout",
          "text": [
            "Dame un valor: 4\n",
            "2.0\n",
            "1.0\n",
            "Total de iteraciones 2\n"
          ]
        }
      ]
    },
    {
      "cell_type": "code",
      "metadata": {
        "colab": {
          "base_uri": "https://localhost:8080/"
        },
        "id": "-wa83VcI8obC",
        "outputId": "5548604d-2c6a-4eae-f8bb-937310fcb80e"
      },
      "source": [
        "valor = int(input(\"Dame un valor entero:\"))\n",
        "\n",
        "while valor != 0:\n",
        "    print(valor)\n",
        "    valor = int(input(\"Dame un valor entero:\"))\n",
        "    \n",
        "print(\"----Fin del prigrama----\")\n"
      ],
      "execution_count": 9,
      "outputs": [
        {
          "output_type": "stream",
          "name": "stdout",
          "text": [
            "Dame un valor entero:4\n",
            "4\n",
            "Dame un valor entero:0\n",
            "----Fin del prigrama----\n"
          ]
        }
      ]
    },
    {
      "cell_type": "code",
      "metadata": {
        "id": "0Apynt2J9J68"
      },
      "source": [
        "#Es importante que la variable dada sea modificada dentro de while\n",
        "#si no se vuelve infinito:\n",
        "\n",
        "valor = int(input(\"Dame un valor entero:\"))\n",
        "\n",
        "''' DANGER!! O.O\n",
        "while valor != 0:\n",
        "    print(valor)\n",
        "    print(\"Otras cosas\")\n",
        "\n",
        "print(\"---Fin del programa---\")\n",
        "'''"
      ],
      "execution_count": null,
      "outputs": []
    },
    {
      "cell_type": "markdown",
      "metadata": {
        "id": "VzU8NG4Y_riY"
      },
      "source": [
        "Escribe un programa que permita generar la tabla de multiplicar de un num entero positivo n, comenzando en 1. Si el usuario escribe un num incorrecto, el programa no se ejecuta. En cambio se pregunta de nuevo por la info hatsa que el dato sea correcto."
      ]
    },
    {
      "cell_type": "code",
      "metadata": {
        "colab": {
          "base_uri": "https://localhost:8080/"
        },
        "id": "c8HLiMUN_b86",
        "outputId": "391a3b73-30cb-4a8f-e234-133a268ea548"
      },
      "source": [
        "n = int(input(\"Ingresa un número entero positivo: \"))\n",
        "if n > 0:\n",
        "    print(\"Es correcto\")\n",
        "\n",
        "    for i in range(10):  # i+1 = range(1,11)\n",
        "        print(n, \"x\", i+1, \"= \", n * (i+1))\n",
        "\n",
        "else:\n",
        "    print(\"El número ingresado no es correcto\")"
      ],
      "execution_count": 11,
      "outputs": [
        {
          "output_type": "stream",
          "name": "stdout",
          "text": [
            "Ingresa un número entero positivo: 9\n",
            "Es correcto\n",
            "9 x 1 =  9\n",
            "9 x 2 =  18\n",
            "9 x 3 =  27\n",
            "9 x 4 =  36\n",
            "9 x 5 =  45\n",
            "9 x 6 =  54\n",
            "9 x 7 =  63\n",
            "9 x 8 =  72\n",
            "9 x 9 =  81\n",
            "9 x 10 =  90\n"
          ]
        }
      ]
    },
    {
      "cell_type": "code",
      "metadata": {
        "colab": {
          "base_uri": "https://localhost:8080/"
        },
        "id": "YIdhLxkgCMrl",
        "outputId": "6a6deac1-cb9e-4932-c1f0-fa0816fb43b9"
      },
      "source": [
        "comprobar = True\n",
        "while comprobar == True:\n",
        "    n = int(input(\"Ingresa un número entero positivo: \"))\n",
        "\n",
        "    if n > 0:\n",
        "\n",
        "        for i in range(10):  # i+1 = range(1,11)\n",
        "            print(n, \"x\", i+1, \"= \", n * (i+1))\n",
        "            comprobar = False\n",
        "\n",
        "    else:\n",
        "        print(\"El número ingresado no es correcto\")"
      ],
      "execution_count": 15,
      "outputs": [
        {
          "output_type": "stream",
          "name": "stdout",
          "text": [
            "Ingresa un número entero positivo: -6\n",
            "El número ingresado no es correcto\n",
            "Ingresa un número entero positivo: 0\n",
            "El número ingresado no es correcto\n",
            "Ingresa un número entero positivo: 9\n",
            "9 x 1 =  9\n",
            "9 x 2 =  18\n",
            "9 x 3 =  27\n",
            "9 x 4 =  36\n",
            "9 x 5 =  45\n",
            "9 x 6 =  54\n",
            "9 x 7 =  63\n",
            "9 x 8 =  72\n",
            "9 x 9 =  81\n",
            "9 x 10 =  90\n"
          ]
        }
      ]
    },
    {
      "cell_type": "code",
      "metadata": {
        "colab": {
          "base_uri": "https://localhost:8080/"
        },
        "id": "HMb13ZORHa-A",
        "outputId": "8a2b213c-9e52-45ef-c0ec-da5e5b3cb654"
      },
      "source": [
        "comprobar = True\n",
        "\n",
        "while comprobar == True:\n",
        "    n = int(input(\"Ingresa un número entero positivo: \"))\n",
        "\n",
        "    if n > 0:\n",
        "        i = 1 #Se inicializa el valor en 1\n",
        "\n",
        "        while i < 11:\n",
        "           print(n, \"x\", i, \"=\", n * i)\n",
        "           i+=1\n",
        "           comprobar = False\n",
        "    else:\n",
        "        print(\"El número es incorrecto. Intenta de nuevo: \")\n"
      ],
      "execution_count": 26,
      "outputs": [
        {
          "output_type": "stream",
          "name": "stdout",
          "text": [
            "Ingresa un número entero positivo: 6\n",
            "6 x 1 = 6\n",
            "6 x 2 = 12\n",
            "6 x 3 = 18\n",
            "6 x 4 = 24\n",
            "6 x 5 = 30\n",
            "6 x 6 = 36\n",
            "6 x 7 = 42\n",
            "6 x 8 = 48\n",
            "6 x 9 = 54\n",
            "6 x 10 = 60\n"
          ]
        }
      ]
    },
    {
      "cell_type": "markdown",
      "metadata": {
        "id": "5G-lFcyRKRMf"
      },
      "source": [
        "Escribe un programa que al recibir como dato un número entero positivo N, calcule el resultado de: \n",
        "1+(1/2)+(1/3)+(1/4)+...+(1/n)\n",
        "si escribe número incorrecto el programa no se ejecuta y pide num hasta que sea correcto"
      ]
    },
    {
      "cell_type": "code",
      "metadata": {
        "colab": {
          "base_uri": "https://localhost:8080/"
        },
        "id": "DgOWo80mKjim",
        "outputId": "6e6759fb-d7d0-4d87-bc89-dfd6f4161491"
      },
      "source": [
        "comprobar = True\n",
        "\n",
        "while comprobar == True:\n",
        "    n = int(input(\"Ingresa núm: \"))\n",
        "\n",
        "    if n > 0:\n",
        "        resultado = 0\n",
        "        for i in range(1, n+1):\n",
        "            resultado += (n/i)\n",
        "            print(\"Resultado: \", resultado)\n",
        "        comprobar = False   \n",
        "    else:\n",
        "        print(\"Número incorrecto. Try again\")\n"
      ],
      "execution_count": 33,
      "outputs": [
        {
          "output_type": "stream",
          "name": "stdout",
          "text": [
            "Ingresa núm: 7\n",
            "Resultado:  7.0\n",
            "Resultado:  10.5\n",
            "Resultado:  12.833333333333334\n",
            "Resultado:  14.583333333333334\n",
            "Resultado:  15.983333333333334\n",
            "Resultado:  17.150000000000002\n",
            "Resultado:  18.150000000000002\n"
          ]
        }
      ]
    }
  ]
}