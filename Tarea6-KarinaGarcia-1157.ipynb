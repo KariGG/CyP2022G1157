{
  "nbformat": 4,
  "nbformat_minor": 0,
  "metadata": {
    "colab": {
      "name": "Untitled0.ipynb",
      "provenance": [],
      "collapsed_sections": [],
      "authorship_tag": "ABX9TyOyNrJDRHq48VzcUBcYGDkq",
      "include_colab_link": true
    },
    "kernelspec": {
      "name": "python3",
      "display_name": "Python 3"
    },
    "language_info": {
      "name": "python"
    }
  },
  "cells": [
    {
      "cell_type": "markdown",
      "metadata": {
        "id": "view-in-github",
        "colab_type": "text"
      },
      "source": [
        "<a href=\"https://colab.research.google.com/github/KariGG/CyP2022G1157/blob/Homework/Tarea6-KarinaGarcia-1157.ipynb\" target=\"_parent\"><img src=\"https://colab.research.google.com/assets/colab-badge.svg\" alt=\"Open In Colab\"/></a>"
      ]
    },
    {
      "cell_type": "markdown",
      "metadata": {
        "id": "SLtUnpECJ_Pe"
      },
      "source": [
        "#2.1\n",
        "El número de sonidos emitidos por un grillo en un minuto, es una función de la temperatura. Como resultado de esto, es posible determinar el nivel de la tempe\u0002ratura haciendo uso de un grillito como termómetro.\n",
        "La fórmula para la función es:\n",
        "T = N / 4 + 40\n"
      ]
    },
    {
      "cell_type": "code",
      "metadata": {
        "colab": {
          "base_uri": "https://localhost:8080/"
        },
        "id": "-_NhnbG0KVYF",
        "outputId": "9cdf2916-6040-43c8-d022-8bbcfba202f1"
      },
      "source": [
        "N = int(input(\"¿Cuántos sonidos emite por minuto?: \"))\n",
        "\n",
        "if N > 0:\n",
        "    T = N / 4 + 40\n",
        "    print(\"Temperatura\",T,\"°F\") \n",
        "else: \n",
        "    print(\"Nope\")\n",
        "\n",
        "print (\"----- Fin del Programa -----\")"
      ],
      "execution_count": null,
      "outputs": [
        {
          "output_type": "stream",
          "name": "stdout",
          "text": [
            "¿Cuántos sonidos emite por minuto?: 50\n",
            "Temperatura 52.5 °F\n",
            "----- Fin del Programa -----\n"
          ]
        }
      ]
    },
    {
      "cell_type": "markdown",
      "metadata": {
        "id": "XvrMFzeVm3yv"
      },
      "source": [
        "#2.2\n",
        "Dado como datos los valores enteros P y Q, determine si los mismos satisfacen la siguiente expresión: P^3 + Q^4- 2*P^2 < 680.\n",
        "En caso afirmativo debe imprimir los valores P y Q."
      ]
    },
    {
      "cell_type": "code",
      "metadata": {
        "colab": {
          "base_uri": "https://localhost:8080/"
        },
        "id": "_6qIUxNjnNtO",
        "outputId": "e8dfc6ae-4943-4e53-aa84-436320e12807"
      },
      "source": [
        "P = int(input(\"Dame un valor: \"))\n",
        "Q = int(input(\"Dame otro valor: \"))\n",
        "\n",
        "if P**3+Q**4-2*P**2 < 680:\n",
        "    print(P,Q)\n",
        "else: \n",
        "    print(\"What\")\n",
        "print (\"----- Fin del Programa -----\")"
      ],
      "execution_count": null,
      "outputs": [
        {
          "output_type": "stream",
          "name": "stdout",
          "text": [
            "Dame un valor: 3\n",
            "Dame otro valor: 5\n",
            "3 5\n",
            "----- Fin del Programa -----\n"
          ]
        }
      ]
    },
    {
      "cell_type": "markdown",
      "metadata": {
        "id": "JBeXXOECoSCg"
      },
      "source": [
        "#2.3\n",
        "Calcular las raíces reales, de ser posible, de una ecuación de segundo grado.\n",
        "Datos: A, B, C con A dif 0"
      ]
    },
    {
      "cell_type": "code",
      "metadata": {
        "colab": {
          "base_uri": "https://localhost:8080/"
        },
        "id": "kAA3gSeioyAW",
        "outputId": "d4ba0076-7af9-48b3-9c3b-daff754abe07"
      },
      "source": [
        "a = float(input(\"¿Cuál es el valor de a: \"))\n",
        "b = float(input(\"¿Cuál es el valor de b: \"))\n",
        "c = float(input(\"¿Cuál es el valor de c: \"))\n",
        "DIS = b**2-4*a*c\n",
        "\n",
        "if DIS >= 0:\n",
        "    x1 = ((-b)+DIS**0.5)/(2*a)\n",
        "    x2 = ((-b)-DIS**0.5)/(2*a)\n",
        "    print(f\"Raíces reales: x1={x1}, x2={x2}\")\n",
        "else:\n",
        "    print(\"Tenk U Next\")\n",
        "print (\"----- Fin del Programa -----\")"
      ],
      "execution_count": null,
      "outputs": [
        {
          "output_type": "stream",
          "name": "stdout",
          "text": [
            "¿Cuál es el valor de a: 8\n",
            "¿Cuál es el valor de b: 4\n",
            "¿Cuál es el valor de c: 5\n",
            "Skip\n",
            "----- Fin del Programa -----\n"
          ]
        }
      ]
    },
    {
      "cell_type": "markdown",
      "metadata": {
        "id": "IvW2Oe8z1Fbv"
      },
      "source": [
        "#2.4\n",
        "Dado como datos la matrícula y 5  calificaciones de un alumno; imprima la matrícula, el promedio y la palabra “aprobado” \n",
        "si el alumno tiene un promedio mayor o igual que 6, y la palabra “no aprobado” \n",
        "en caso contrario."
      ]
    },
    {
      "cell_type": "code",
      "metadata": {
        "colab": {
          "base_uri": "https://localhost:8080/"
        },
        "id": "3oRBipLs1dPe",
        "outputId": "f879a86f-0f12-4e11-9c4e-7f3cb9094a1c"
      },
      "source": [
        "MAT = int(input(\"Ingresa la matrícula: \"))\n",
        "CAL = [0 for x in range(5)]\n",
        "suma = 0\n",
        "\n",
        "for x in range(5):\n",
        "    CAL[x] = float(input(\"Dame la calificación: \"))\n",
        "    suma = suma + CAL[x]\n",
        "\n",
        "PROM = suma/5\n",
        "\n",
        "if PROM > 6:\n",
        "    print(\"Aprobado\")\n",
        "else:\n",
        "    print(\"No Aprobado\")\n",
        "\n",
        "print(\"Matrícula: \", MAT)\n",
        "print(\"Promedio: \",PROM)\n",
        "print (\"----- Fin del Programa -----\")"
      ],
      "execution_count": 16,
      "outputs": [
        {
          "output_type": "stream",
          "name": "stdout",
          "text": [
            "Ingresa la matrícula: 17246\n",
            "Dame la calificación: 8\n",
            "Dame la calificación: 8.5\n",
            "Dame la calificación: 8.3\n",
            "Dame la calificación: 9.2\n",
            "Dame la calificación: 9.3\n",
            "Aprobado\n",
            "Matrícula:  17246\n",
            "Promedio:  8.66\n"
          ]
        }
      ]
    },
    {
      "cell_type": "markdown",
      "metadata": {
        "id": "V5ezenmT6gUl"
      },
      "source": [
        "#2.5\n",
        "Dado como dato un número entero, determine e imprima si el mismo es positivo, negativo o nulo.\n"
      ]
    },
    {
      "cell_type": "code",
      "metadata": {
        "colab": {
          "base_uri": "https://localhost:8080/"
        },
        "id": "KRgf87tM6lu1",
        "outputId": "033f2918-87a3-4671-d89a-e132de5db5da"
      },
      "source": [
        "num = int(input(\"Dame un entero: \"))\n",
        "if num > 0:\n",
        "    print(num, \" positivo\")\n",
        "elif num == 0:\n",
        "    print(num, \" nulo\")\n",
        "else:\n",
        "    print(num, \" negativo\")\n",
        "print (\"----- Fin del Programa -----\")"
      ],
      "execution_count": 19,
      "outputs": [
        {
          "output_type": "stream",
          "name": "stdout",
          "text": [
            "Dame un entero: 0\n",
            "0  nulo\n"
          ]
        }
      ]
    },
    {
      "cell_type": "markdown",
      "metadata": {
        "id": "FfdnmsKX7aEs"
      },
      "source": [
        "#2.6\n",
        "Dado un número entero A, determinar si el mismo es par, impar o nulo."
      ]
    },
    {
      "cell_type": "code",
      "metadata": {
        "colab": {
          "base_uri": "https://localhost:8080/"
        },
        "id": "roH0jCep7GBt",
        "outputId": "e9793791-a519-4210-db7b-53536283eead"
      },
      "source": [
        "A = int(input(\"Dame un entero: \"))\n",
        "\n",
        "if A == 0:\n",
        "    print(\"Nulo\")\n",
        "elif (-1)**A > 0:\n",
        "    print(\"Par\")\n",
        "else: \n",
        "    print(\"Impar\")\n",
        "print (\"----- Fin del Programa -----\")"
      ],
      "execution_count": 34,
      "outputs": [
        {
          "output_type": "stream",
          "name": "stdout",
          "text": [
            "Dame un entero: 7\n",
            "Impar\n"
          ]
        }
      ]
    },
    {
      "cell_type": "markdown",
      "metadata": {
        "id": "1GDzkn5n9lHx"
      },
      "source": [
        "#2.7\n",
        "Dado como datos de entrada tres números enteros, determine si los mismos están en orden creciente."
      ]
    },
    {
      "cell_type": "code",
      "metadata": {
        "colab": {
          "base_uri": "https://localhost:8080/"
        },
        "id": "er9K5bI-9rn1",
        "outputId": "fc575290-3ab7-46ee-f85c-104aeccecd0b"
      },
      "source": [
        "a = int(input(\"Dame un entero: \"))\n",
        "b = int(input(\"Dame otro entero: \"))\n",
        "c = int(input(\"Dame otro más: \"))\n",
        "\n",
        "if a < b < c:\n",
        "    print(\"Están en orden creciente\")\n",
        "else:\n",
        "    print(\"No están en orden creciente\")\n",
        "print (\"----- Fin del Programa -----\")"
      ],
      "execution_count": 39,
      "outputs": [
        {
          "output_type": "stream",
          "name": "stdout",
          "text": [
            "Dame un entero: 594\n",
            "Dame otro entero: 654\n",
            "Dame otro más: 7984\n",
            "Están en orden creciente\n"
          ]
        }
      ]
    },
    {
      "cell_type": "markdown",
      "metadata": {
        "id": "-jjDsy9G-iAO"
      },
      "source": [
        "#2.8\n",
        "En una tienda efectúan un descuento a los clientes dependiendo del monto de la compra. El descuento se efectúa con base en el siguiente criterio:\n",
        "- Si el monto es menor que \\$500 —> no hay descuento.\n",
        "- Si el monto está comprendido entre \\$500 y \\$1000 inclusive —> 5% de descuento.\n",
        "- Si el monto está comprendido entre \\$1000 y \\$7000 inclusive —> 11% de descuento.\n",
        "- Si el monto está comprendido entre \\$7000 y \\$15000 inclusive —> 18% de descuento.\n",
        "- Si el monto es mayor a \\$15000 —> 25% de descuento.\n",
        "\n",
        "Ddado el monto de la compra de un cliente, determine lo que el mismo debe pagar."
      ]
    },
    {
      "cell_type": "code",
      "metadata": {
        "colab": {
          "base_uri": "https://localhost:8080/"
        },
        "id": "k8csrzH0_WMM",
        "outputId": "79d32183-7817-4a7a-8876-8bd5c75bef0a"
      },
      "source": [
        "COMPRA = float(input(\"Ingrese el monto de compra: \"))\n",
        "PAGO = 0\n",
        "if COMPRA < 500:\n",
        "    PAGO = COMPRA\n",
        "    print(\"No hay descuento\")\n",
        "elif 1000 > COMPRA >= 500:\n",
        "    PAGO = COMPRA - (COMPRA * .05)\n",
        "elif 7000 > COMPRA >= 1000:\n",
        "    PAGO = COMPRA - (COMPRA * .11)\n",
        "elif 15000 >= COMPRA >= 7000:\n",
        "    PAGO = COMPRA - (COMPRA * .18)\n",
        "else:\n",
        "    PAGO = COMPRA - (COMPRA * .25)\n",
        "print(\"El cliente debe pagar: \", PAGO)\n",
        "print (\"----- Fin del Programa -----\")"
      ],
      "execution_count": 56,
      "outputs": [
        {
          "output_type": "stream",
          "name": "stdout",
          "text": [
            "Ingrese el monto de compra: 9\n",
            "No hay descuento\n",
            "El cliente debe pagar:  9.0\n"
          ]
        }
      ]
    },
    {
      "cell_type": "markdown",
      "metadata": {
        "id": "0-KBT4vdBYMe"
      },
      "source": [
        "#2.9\n",
        "En un cierto país el impuesto que se debe pagar por los artículos se calcula mediante la siguiente regla: los primeros \\$20 no causan impuesto, los siguientes \\$20 \n",
        "tienen el 30% de impuesto y el resto el 40% de impuesto, pero si el costo del producto es mayor a \\$500, entonces en lugar del 40% se cobra el 50%.\n",
        "Lea el costo básico de un artículo y calcule su precio total (precio total = precio básico + impuesto)."
      ]
    },
    {
      "cell_type": "code",
      "metadata": {
        "colab": {
          "base_uri": "https://localhost:8080/"
        },
        "id": "QaFNZA1bBX60",
        "outputId": "802c954b-189b-4504-c2aa-92f410064b19"
      },
      "source": [
        "PREBAS = float(input(\"Dame un número: \"))\n",
        "if PREBAS > 500:\n",
        "    IMP = (20 * .30) + (PREBAS-40) * .50\n",
        "elif PREBAS > 40:\n",
        "    IMP = (20 * .30) + (PREBAS-40) * .40\n",
        "elif PREBAS > 20:\n",
        "    IMP = 0 * .30 + (PREBAS-20) * .30\n",
        "else:\n",
        "    IMP = 0\n",
        "PRETOT = PREBAS + IMP\n",
        "print(PREBAS, PRETOT)\n",
        "print (\"----- Fin del Programa -----\")"
      ],
      "execution_count": 7,
      "outputs": [
        {
          "output_type": "stream",
          "name": "stdout",
          "text": [
            "Dame un número: 128.40\n",
            "128.4 169.76000000000002\n"
          ]
        }
      ]
    },
    {
      "cell_type": "markdown",
      "metadata": {
        "id": "G_IDT41nt8CK"
      },
      "source": [
        "#2.10\n",
        "Dado como datos tres números reales, identifique cuál es el mayor. Considere \n",
        "que los números pueden ser iguales. Desarrolle el diagrama de flujo correspon\u0002diente."
      ]
    },
    {
      "cell_type": "code",
      "metadata": {
        "colab": {
          "base_uri": "https://localhost:8080/"
        },
        "id": "zyWPX73fuDxx",
        "outputId": "2ae6c694-8333-4841-e8d7-47c0e5f76fdb"
      },
      "source": [
        "a = float(input(\"Ingresa un número: \"))\n",
        "b = float(input(\"Ingresa un número: \"))\n",
        "c = float(input(\"Ingresa un número: \"))\n",
        "\n",
        "if a > b and a > c:\n",
        "    mayor = a\n",
        "    print(\"a es el mayor\")\n",
        "elif c > a and c > b:\n",
        "    mayor = c\n",
        "    print(\"c es el mayor\")\n",
        "elif a == b == c:\n",
        "    print(\"a, b y c son iguales\")\n",
        "elif a == b:\n",
        "    print(\"a y b son los mayores\")\n",
        "elif c == b:\n",
        "    print(\"b y c son los mayores\")\n",
        "elif a == c:\n",
        "    print(\"a y c son los mayores\")\n",
        "elif a == b == c:\n",
        "    print(\"a, b y c son iguales\")\n",
        "else: \n",
        "    print(\"b es el mayor\")\n",
        "    mayor = b\n",
        "print (\"----- Fin del Programa -----\")"
      ],
      "execution_count": 58,
      "outputs": [
        {
          "output_type": "stream",
          "name": "stdout",
          "text": [
            "Ingresa un número: 1\n",
            "Ingresa un número: 1\n",
            "Ingresa un número: 1\n",
            "a, b y c son iguales\n",
            "----- Fin del Programa -----\n"
          ]
        }
      ]
    },
    {
      "cell_type": "markdown",
      "metadata": {
        "id": "YdvrlrKX7pL2"
      },
      "source": [
        "#2.11\n",
        "El costo de las llamadas telefónicas internacionales depende de la zona geográfica en la que se encuentre el país destino y del número de minutos hablados. \n",
        "calcular e imprimir el costo total de una llamada."
      ]
    },
    {
      "cell_type": "code",
      "metadata": {
        "colab": {
          "base_uri": "https://localhost:8080/"
        },
        "id": "sXF6f4Ay4oTy",
        "outputId": "31322d9d-b0d3-4ba0-aec8-5e6e0886c583"
      },
      "source": [
        "CLAVE = int(input(\"Ingresa la zona geográfica: \"))\n",
        "NUMIN =int(input(\"Minutos de la llamada: \"))\n",
        "zonas = {12 : 2, \n",
        "        15 : 2.2,\n",
        "        18 : 4.5,\n",
        "        19 : 3.5,\n",
        "        23 : 6,\n",
        "        25 : 6,\n",
        "        29 : 5}\n",
        "\n",
        "COSTO = NUMIN*zonas[CLAVE]\n",
        "print(COSTO)\n",
        "print (\"----- Fin del Programa -----\")"
      ],
      "execution_count": 93,
      "outputs": [
        {
          "output_type": "stream",
          "name": "stdout",
          "text": [
            "Ingresa la zona geográfica: 23\n",
            "Minutos de la llamada: 45\n",
            "270\n"
          ]
        }
      ]
    },
    {
      "cell_type": "code",
      "metadata": {
        "colab": {
          "base_uri": "https://localhost:8080/"
        },
        "id": "8qN3CP39Kadl",
        "outputId": "347b4870-577c-4cbe-bf5d-766ae05817aa"
      },
      "source": [
        "CLAVE = int(input(\"Ingresa la zona geográfica: \"))\n",
        "NUMIN =int(input(\"Minutos de la llamada: \"))\n",
        "if CLAVE == 12:\n",
        "    COSTO = NUMIN*2\n",
        "elif CLAVE == 15:\n",
        "    COSTO = NUMIN*2.2\n",
        "elif CLAVE == 18:\n",
        "    COSTO = NUMIN*4.5\n",
        "elif CLAVE == 19:\n",
        "    COSTO = NUMIN*3.5\n",
        "elif CLAVE == 23 or 25:\n",
        "    COSTO = NUMIN*6\n",
        "elif CLAVE == 29:\n",
        "    COSTO = NUMIN*5\n",
        "print(COSTO)\n",
        "\n",
        "print (\"----- Fin del Programa -----\")"
      ],
      "execution_count": 89,
      "outputs": [
        {
          "output_type": "stream",
          "name": "stdout",
          "text": [
            "Ingresa la zona geográfica: 25\n",
            "Minutos de la llamada: 45\n",
            "270\n"
          ]
        }
      ]
    },
    {
      "cell_type": "markdown",
      "metadata": {
        "id": "Ac6gKcVwNayj"
      },
      "source": [
        "#2.12\n",
        "Calcular lo que hay que pagarle a un trabajador  teniendo en cuenta su sueldo y las horas extras trabajadas. Para el pago de horas extras se toma en cuenta la categoría del trabajador. \n",
        "Calcular lo que hay que pagarle a un trabajador  teniendo en cuenta su sueldo y las horas extras trabajadas. Para el pago de horas extras se toma en cuenta la categoría del trabajador. "
      ]
    },
    {
      "cell_type": "code",
      "metadata": {
        "colab": {
          "base_uri": "https://localhost:8080/"
        },
        "id": "sJvnAPY2Ni66",
        "outputId": "6cb7775b-cfd9-4e10-85ab-c7818a13afb7"
      },
      "source": [
        "SUE = float(input(\"¿Cuál es el sueldo?: \"))\n",
        "CATE = int(input(\"¿Cuál es la categoría?: \"))\n",
        "HE = int(input(\"¿Cuántas horas extra?: \"))\n",
        "\n",
        "if 1 <= CATE <= 4:\n",
        "    if HE >= 30:\n",
        "        HE = 30\n",
        "    if CATE == 1:\n",
        "        NSUE = SUE + HE*30\n",
        "    elif CATE == 2:\n",
        "        NSUE = SUE + HE*38\n",
        "    elif CATE == 3:\n",
        "        NSUE = SUE + HE*50\n",
        "    elif CATE == 4:\n",
        "        NSUE = SUE + HE*70\n",
        "else:\n",
        "    print(\"Esta categoría no paga horas extra\")\n",
        "\n",
        "print(NSUE)\n",
        "\n",
        "print (\"----- Fin del Programa -----\")"
      ],
      "execution_count": 99,
      "outputs": [
        {
          "output_type": "stream",
          "name": "stdout",
          "text": [
            "¿Cuál es el sueldo?: 3350\n",
            "¿Cuál es la categoría?: 3\n",
            "¿Cuántas horas extra?: 49\n",
            "4850.0\n"
          ]
        }
      ]
    },
    {
      "cell_type": "code",
      "metadata": {
        "colab": {
          "base_uri": "https://localhost:8080/"
        },
        "id": "5Je3vzRYPwzV",
        "outputId": "1806efbf-1248-4675-f5ba-f145caf85dd4"
      },
      "source": [
        "SUE = float(input(\"¿Cuál es el sueldo?: \"))\n",
        "CATE = int(input(\"¿Cuál es la categoría?: \"))\n",
        "HE = int(input(\"¿Cuántas horas extra?: \"))\n",
        "\n",
        "if CATE == 1 : \n",
        "    PHE = 30\n",
        "elif CATE == 2:\n",
        "    PHE = 38\n",
        "elif CATE == 3:\n",
        "    PHE = 50\n",
        "elif CATE == 4:\n",
        "    PHE = 70\n",
        "if HE > 30:\n",
        "    NSUE = SUE + 30 * PHE\n",
        "else:\n",
        "    NSUE = SUE + HE * PHE\n",
        "print(NSUE)\n",
        "\n",
        "print (\"----- Fin del Programa -----\")"
      ],
      "execution_count": 107,
      "outputs": [
        {
          "output_type": "stream",
          "name": "stdout",
          "text": [
            "¿Cuál es el sueldo?: 3350\n",
            "¿Cuál es la categoría?: 3\n",
            "¿Cuántas horas extra?: 49\n",
            "4850.0\n"
          ]
        }
      ]
    },
    {
      "cell_type": "markdown",
      "metadata": {
        "id": "lqSK-W7dRcno"
      },
      "source": [
        "#2.13\n",
        "Dado como datos la matricula de un \n",
        "alumno, la carrera en la que está inscrito, su semestre y su promedio; determine si el mismo es apto para pertenecer a alguna de las facultades menores que tiene la universidad. Si el alumno es aceptado teniendo en cuenta las especificaciones que se listan abajo, se debe imprimir su matrícula, carrera y la palabra “aceptado”.\n",
        "- Economía: Semestre > 6 y promedio > 8.8\n",
        "- Computación: Semestre > 6 y promedio > 8.5\n",
        "- Administración: Semestre > 5 y promedio > 8.5\n",
        "- Contabilidad: Semestre > 5 y promedio > 8.5"
      ]
    },
    {
      "cell_type": "code",
      "metadata": {
        "colab": {
          "base_uri": "https://localhost:8080/"
        },
        "id": "HBICjPpNRaba",
        "outputId": "8db03360-af44-4ed8-f002-20d0309d1e63"
      },
      "source": [
        "MAT = int(input(\"Matrícula: \"))\n",
        "CARR = str(input(\"Carrera: \"))\n",
        "SEM = int(input(\"Semestre: \"))\n",
        "PROM = float(input(\"Promedio: \"))\n",
        "\n",
        "if CARR.isnumeric():\n",
        "    print(\"Ingresa una carrera válida\")\n",
        "else:\n",
        "    if CARR == \"Economía\" or \"Economia\":\n",
        "        if 9 > SEM >= 6 and 10 > PROM >= 8.8:\n",
        "            STAT = \"Aceptado\"\n",
        "        else:\n",
        "            STAT = \"No Aceptado\"\n",
        "    elif CARR == \"Computación\" or \"Computacion\":\n",
        "        if 9 > SEM > 6 and 10 > PROM > 8.5:\n",
        "            STAT = \"Aceptado\"\n",
        "        else:\n",
        "            STAT = \"No Aceptado\"\n",
        "    elif CARR == \"Administración\" or \"Administracion\" or \"Contabilidad\":\n",
        "        if 9 > SEM > 5 and 10 > PROM > 8.5:\n",
        "            STAT = \"Aceptado\"\n",
        "        else:\n",
        "            STAT = \"No Aceptado\"\n",
        "    else:\n",
        "        STAT = \"No Aceptado\"\n",
        "\n",
        "    print(f\"Matrícula: {MAT} \\nCarrera: {CARR} \\nEstatus: {STAT}\")\n",
        "\n",
        "print (\"----- Fin del Programa -----\")"
      ],
      "execution_count": 195,
      "outputs": [
        {
          "output_type": "stream",
          "name": "stdout",
          "text": [
            "Matrícula: 145\n",
            "Carrera: computacion\n",
            "Semestre: 8\n",
            "Promedio: 9\n",
            "Matrícula: 145 \n",
            "Carrera: computacion \n",
            "Estatus: Aceptado\n",
            "----- Fin del Programa -----\n"
          ]
        }
      ]
    }
  ]
}