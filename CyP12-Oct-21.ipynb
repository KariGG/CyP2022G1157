{
  "nbformat": 4,
  "nbformat_minor": 0,
  "metadata": {
    "colab": {
      "name": "CyP2022",
      "provenance": [],
      "collapsed_sections": [],
      "authorship_tag": "ABX9TyNLJUT9Vd9Qe0NIAUza+iLJ",
      "include_colab_link": true
    },
    "kernelspec": {
      "name": "python3",
      "display_name": "Python 3"
    },
    "language_info": {
      "name": "python"
    }
  },
  "cells": [
    {
      "cell_type": "markdown",
      "metadata": {
        "id": "view-in-github",
        "colab_type": "text"
      },
      "source": [
        "<a href=\"https://colab.research.google.com/github/KariGG/CyP2022G1157/blob/main/CyP12-Oct-21.ipynb\" target=\"_parent\"><img src=\"https://colab.research.google.com/assets/colab-badge.svg\" alt=\"Open In Colab\"/></a>"
      ]
    },
    {
      "cell_type": "code",
      "metadata": {
        "colab": {
          "base_uri": "https://localhost:8080/"
        },
        "id": "X4zrWcbw0qLh",
        "outputId": "7165821f-930b-42fb-d1d5-0243e95268d3"
      },
      "source": [
        "a = 0\n",
        "b = 0\n",
        "c = 0\n",
        "print(\"Dame un valor numérico\")\n",
        "a = int(input(\"Dame un valor numérico\")) #input regresa una cadena de caracteres\n",
        "b = int(input(\"Dame otro numérico\"))\n",
        "c = a+b\n",
        "print(c)\n",
        "c = a+a\n",
        "print(c)\n",
        "c = b+b\n",
        "print(c)\n"
      ],
      "execution_count": null,
      "outputs": [
        {
          "output_type": "stream",
          "name": "stdout",
          "text": [
            "Dame un valor numérico\n",
            "Dame un valor numérico5\n",
            "Dame otro numérico18\n",
            "23\n",
            "10\n",
            "36\n"
          ]
        }
      ]
    },
    {
      "cell_type": "code",
      "metadata": {
        "colab": {
          "base_uri": "https://localhost:8080/"
        },
        "id": "oH1nofdcXWP2",
        "outputId": "f32e788d-01e1-40fa-bb2f-d1576329b620"
      },
      "source": [
        "#String\n",
        "nombre = 'Kari'\n",
        "print(nombre)"
      ],
      "execution_count": null,
      "outputs": [
        {
          "output_type": "stream",
          "name": "stdout",
          "text": [
            "Kari\n"
          ]
        }
      ]
    },
    {
      "cell_type": "markdown",
      "metadata": {
        "id": "NHRD4BqgXZ31"
      },
      "source": [
        "#Tipo de dato en Python\n",
        "\n",
        "### Tipos Simples\n",
        "\n",
        "- str -----> String, cadena decaracteres\n",
        "- int -----> Numeros enteros + -\n",
        "- float ---> Numeros con notacion de punto flotante 3.1416\n",
        "- complex -> Numeros complejos\n",
        "- bool ----> Booleano (true / false)\n",
        "- byte ----> 8 bits\n",
        "\n",
        "### Tipos Estructurados / Compuestos\n",
        "\n",
        "- list --> Listas (Arreglos en otros lenguajes)\n",
        "- dict --> Diccionarios\n",
        "- set y frozenset --> Conjuntos\n",
        "- tuple -> Listas no mutables"
      ]
    },
    {
      "cell_type": "code",
      "metadata": {
        "colab": {
          "base_uri": "https://localhost:8080/"
        },
        "id": "6X63nPJDaEoE",
        "outputId": "65522a88-d67c-4136-c794-4d408999fb3c"
      },
      "source": [
        "import sys\n",
        "edad = 19\n",
        "print (\"Tu edad es:\", edad);\n",
        "# Comentario línea simple\n",
        "\n",
        "'''\n",
        "Comentario múltiple línea\n",
        "'''\n",
        "# TIPOS DE DATOS NUMÉRICOS\n",
        "\n",
        "sys.getsizeof(edad)\n",
        "\n",
        "#El tipo de dato INt utiliza diferente cantidad de bits según el lenguaje de porg.\n",
        "\n",
        "edad = edad +1\n",
        "print(edad)\n",
        "\n",
        "estatura = 1.56 #es un flotante\n",
        "print(estatura)\n",
        "print(sys.getsizeof(estatura))\n",
        "estatura = estatura + 0.1\n",
        "print(estatura)\n",
        "print(\"Tu estat.redondeada es:\", round(estatura,2)) #porque da un 1 al final que puede interferir en el cálculo\n",
        "\n",
        "edad +=1\n",
        "print(\"Tu nueva edad es:\", edad)\n",
        "\n",
        "edad = 21\n",
        "edad /= 2\n",
        "print(\"La mitad de edad es:\",edad)\n",
        "edad = 21\n",
        "edad = edad // 2\n",
        "print(\"(división entera)la mitad de edad sin decimal:\", edad)\n",
        "\n",
        "numero = edad / 2.0\n",
        "print (numero)\n",
        "numero *= 3\n",
        "print(numero)\n",
        "\n",
        "numero = 5\n",
        "numero **= 2 #En otros lenguajes es: 'numero = numero ** 2'\n",
        "print(numero)\n",
        "\n",
        "print(\"El tipo de dato de la variable numero es:\", type (numero))\n",
        "print(\"El tipo de dato de la variable numero es:\", type (numero/2.0))"
      ],
      "execution_count": null,
      "outputs": [
        {
          "output_type": "stream",
          "name": "stdout",
          "text": [
            "Tu edad es: 19\n",
            "20\n",
            "1.56\n",
            "24\n",
            "1.6600000000000001\n",
            "Tu estat.redondeada es: 1.66\n",
            "Tu nueva edad es: 21\n",
            "La mitad de edad es: 10.5\n",
            "(división entera)la mitad de edad sin decimal: 10\n",
            "5.0\n",
            "15.0\n",
            "25\n",
            "El tipo de dato de la variable numero es: <class 'int'>\n",
            "El tipo de dato de la variable numero es: <class 'float'>\n"
          ]
        }
      ]
    },
    {
      "cell_type": "code",
      "metadata": {
        "colab": {
          "base_uri": "https://localhost:8080/"
        },
        "id": "3xYDe4JvlvqR",
        "outputId": "7ec33960-a801-459b-d727-6542334f3f6a"
      },
      "source": [
        "numero = 21\n",
        "print(numero/2)\n",
        "print(numero//2)\n",
        "#El módulo da el residuo de la división\n",
        "print(numero%2)\n"
      ],
      "execution_count": null,
      "outputs": [
        {
          "output_type": "stream",
          "name": "stdout",
          "text": [
            "10.5\n",
            "10\n",
            "1\n"
          ]
        }
      ]
    },
    {
      "cell_type": "markdown",
      "metadata": {
        "id": "UNEHiiWjp-D6"
      },
      "source": [
        "#Tipo de dato String\n",
        "\n",
        "- Se maneja como un arreglo (tipo de dato compuesto)\n",
        "- Se puede acceder a los elementos del string por medio del índice del caracter\n",
        "- Mutable\n",
        "- Tiene métodos útiles (potentes)\n",
        "- slicing"
      ]
    },
    {
      "cell_type": "code",
      "metadata": {
        "colab": {
          "base_uri": "https://localhost:8080/"
        },
        "id": "FKq3rbV2qNbM",
        "outputId": "6beeeab7-a346-4929-d0ad-3a2a7fcfd81d"
      },
      "source": [
        "nombre = \"Kari\"\n",
        "carrera = \"Ingeniería en Computación\"\n",
        "frase = \"\"\"\n",
        "Je suis l'étoil\n",
        "qui vous manquait\n",
        "\"\"\"\n",
        "print (nombre)\n",
        "print (carrera)\n",
        "print (frase)\n",
        "\n",
        "#La función type de Python te devuelve el tipo de dato de una variable o entero\n",
        "print (type (frase))"
      ],
      "execution_count": null,
      "outputs": [
        {
          "output_type": "stream",
          "name": "stdout",
          "text": [
            "Kari\n",
            "Ingeniería en Computación\n",
            "\n",
            "Je suis l'étoil\n",
            "qui vous manquait\n",
            "\n",
            "<class 'str'>\n"
          ]
        }
      ]
    }
  ]
}