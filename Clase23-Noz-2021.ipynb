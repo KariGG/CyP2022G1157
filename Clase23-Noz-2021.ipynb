{
  "nbformat": 4,
  "nbformat_minor": 0,
  "metadata": {
    "colab": {
      "name": "Fundamentos3_CyP_1157.ipynb",
      "provenance": [],
      "authorship_tag": "ABX9TyPj19adL6Y5YtOUsmFg2ACv",
      "include_colab_link": true
    },
    "kernelspec": {
      "name": "python3",
      "display_name": "Python 3"
    },
    "language_info": {
      "name": "python"
    }
  },
  "cells": [
    {
      "cell_type": "markdown",
      "metadata": {
        "id": "view-in-github",
        "colab_type": "text"
      },
      "source": [
        "<a href=\"https://colab.research.google.com/github/KariGG/CyP2022G1157/blob/main/Clase23-Noz-2021.ipynb\" target=\"_parent\"><img src=\"https://colab.research.google.com/assets/colab-badge.svg\" alt=\"Open In Colab\"/></a>"
      ]
    },
    {
      "cell_type": "code",
      "metadata": {
        "id": "_0ZrkvbFFPbB"
      },
      "source": [
        ""
      ],
      "execution_count": null,
      "outputs": []
    },
    {
      "cell_type": "markdown",
      "metadata": {
        "id": "QbIvAz_VFnY4"
      },
      "source": [
        "#Repetición:\n",
        "\n",
        "Este tipo de estructura nos permite automatizar, la ejecución repetitiva de código mientras ciertas condiciones se cumplan. Tenemos 3 variantes de esta estructura en TODOS los lenguajes de programación:\n",
        "   - **for** (desde ... hasta)\n",
        "   - **while** (haz mientras...)\n",
        "   - **do - while** (haz y luego validas mientras... )\n",
        "\n",
        "##For con Python\n",
        "\n",
        "```\n",
        "for j in range(10):\n",
        "    print(f\"Hola {j }\")\n",
        "\n",
        "\n",
        "```\n",
        "\n",
        "##For con C y/o Java\n",
        "```\n",
        "for( int j=0 ; j>10 ; j=j+1 ){\n",
        "    printf(\"Hola %i \\n\", j );\n",
        "\n",
        "```\n",
        "\n",
        "En todos los lenguajes de programación existe un tipo especial de for conocido como **for-each**\n",
        "\n",
        "## For-each\n",
        "```\n",
        "for color in colores\n",
        "    print(f\"Este es el color {color}\")\n",
        "```"
      ]
    },
    {
      "cell_type": "code",
      "metadata": {
        "colab": {
          "base_uri": "https://localhost:8080/"
        },
        "id": "uxUUjrhFH06F",
        "outputId": "b916d501-3d0b-4d73-f8f2-cfe8d9c9ef60"
      },
      "source": [
        "#fncion range()\n",
        "# range(<inicio>,<stop>,<incremento>) \n",
        "'''\n",
        "x = range(0,10,2)\n",
        "print(x)\n",
        "\n",
        "for j in range(10): # range(1,10) -->iterador de 0 a 10 --> 0,1,2,3,4,5,6,7,8,9\n",
        "    print(f\"Hola {j}\")\n",
        "print(\"-.-.-.-.-.-.-.-.-.-.-.-.\")\n",
        "for j in range(0,10,2): # range(1,10) -->iterador de 0 a 10 --> 0,2,4,6,8\n",
        "    print(f\"Hola {j}\")'''\n",
        "\n",
        "\n",
        "frutas = [\"Uva\",\"Manzana\",\"Pera\",\"Piña\",\"Sandía\"]\n",
        "\n",
        "for index in range(5):\n",
        "    print(frutas[index])\n",
        "\n",
        "'''\n",
        "imprimir:\n",
        "+++++\n",
        "+++++\n",
        "+++++\n",
        "+++++\n",
        "+++++\n",
        "\n",
        "+\n",
        "++\n",
        "+++\n",
        "++++\n",
        "+++++\n",
        "'''\n",
        "\n",
        "for x in range(5):\n",
        "    print(\"+++++\")\n",
        "\n",
        "for i in range(6):\n",
        "    i= \"+\"\n",
        "    print(i)\n",
        "\n"
      ],
      "execution_count": 20,
      "outputs": [
        {
          "output_type": "stream",
          "name": "stdout",
          "text": [
            "Uva\n",
            "Manzana\n",
            "Pera\n",
            "Piña\n",
            "Sandía\n",
            "+++++\n",
            "+++++\n",
            "+++++\n",
            "+++++\n",
            "+++++\n",
            "0\n",
            "+\n",
            "+\n",
            "+\n",
            "+\n",
            "+\n"
          ]
        }
      ]
    }
  ]
}