{
  "nbformat": 4,
  "nbformat_minor": 0,
  "metadata": {
    "colab": {
      "name": "Fundamentos3_CyP_1157.ipynb",
      "provenance": [],
      "authorship_tag": "ABX9TyNbqgqicUBAUUkmFj/K7xHw",
      "include_colab_link": true
    },
    "kernelspec": {
      "name": "python3",
      "display_name": "Python 3"
    },
    "language_info": {
      "name": "python"
    }
  },
  "cells": [
    {
      "cell_type": "markdown",
      "metadata": {
        "id": "view-in-github",
        "colab_type": "text"
      },
      "source": [
        "<a href=\"https://colab.research.google.com/github/KariGG/CyP2022G1157/blob/main/Clase25-Nov-2021.ipynb\" target=\"_parent\"><img src=\"https://colab.research.google.com/assets/colab-badge.svg\" alt=\"Open In Colab\"/></a>"
      ]
    },
    {
      "cell_type": "code",
      "metadata": {
        "id": "_0ZrkvbFFPbB"
      },
      "source": [
        ""
      ],
      "execution_count": null,
      "outputs": []
    },
    {
      "cell_type": "markdown",
      "metadata": {
        "id": "QbIvAz_VFnY4"
      },
      "source": [
        "#Repetición:\n",
        "\n",
        "Este tipo de estructura nos permite automatizar, la ejecución repetitiva de código mientras ciertas condiciones se cumplan. Tenemos 3 variantes de esta estructura en TODOS los lenguajes de programación:\n",
        "   - **for** (desde ... hasta)\n",
        "   - **while** (haz mientras...)\n",
        "   - **do - while** (haz y luego validas mientras... )\n",
        "\n",
        "##For con Python\n",
        "\n",
        "```\n",
        "for j in range(10):\n",
        "    print(f\"Hola {j }\")\n",
        "\n",
        "\n",
        "```\n",
        "\n",
        "##For con C y/o Java\n",
        "```\n",
        "for( int j=0 ; j>10 ; j=j+1 ){\n",
        "    printf(\"Hola %i \\n\", j );\n",
        "\n",
        "```\n",
        "\n",
        "En todos los lenguajes de programación existe un tipo especial de for conocido como **for-each**\n",
        "\n",
        "## For-each\n",
        "```\n",
        "for color in colores\n",
        "    print(f\"Este es el color {color}\")\n",
        "```"
      ]
    },
    {
      "cell_type": "code",
      "metadata": {
        "colab": {
          "base_uri": "https://localhost:8080/"
        },
        "id": "uxUUjrhFH06F",
        "outputId": "1b1d2c88-019e-4f03-8b1a-32edb9364678"
      },
      "source": [
        "#fncion range()\n",
        "# range(<inicio>,<stop>,<incremento>) \n",
        "'''\n",
        "x = range(0,10,2)\n",
        "print(x)\n",
        "\n",
        "for j in range(10): # range(1,10) -->iterador de 0 a 10 --> 0,1,2,3,4,5,6,7,8,9\n",
        "    print(f\"Hola {j}\")\n",
        "print(\"-.-.-.-.-.-.-.-.-.-.-.-.\")\n",
        "for j in range(0,10,2): # range(1,10) -->iterador de 0 a 10 --> 0,2,4,6,8\n",
        "    print(f\"Hola {j}\")'''\n",
        "\n",
        "\n",
        "frutas = [\"Uva\",\"Manzana\",\"Pera\",\"Piña\",\"Sandía\"]\n",
        "\n",
        "for index in range(5):\n",
        "    print(frutas[index])\n",
        "\n",
        "'''\n",
        "imprimir:\n",
        "+++++\n",
        "+++++\n",
        "+++++\n",
        "+++++\n",
        "+++++\n",
        "\n",
        "+\n",
        "++\n",
        "+++\n",
        "++++\n",
        "+++++\n",
        "'''\n",
        "\n",
        "\n",
        "for x in range(5):\n",
        "    print(\"+++++\")\n",
        "\n",
        "\n",
        "for i in range(6):\n",
        "    for j in range(i):\n",
        "        print(\"+\",end=\"\")\n",
        "    \n",
        "    print()\n",
        "\n"
      ],
      "execution_count": null,
      "outputs": [
        {
          "output_type": "stream",
          "name": "stdout",
          "text": [
            "Uva\n",
            "Manzana\n",
            "Pera\n",
            "Piña\n",
            "Sandía\n",
            "\n",
            "+\n",
            "++\n",
            "+++\n",
            "++++\n",
            "+++++\n"
          ]
        }
      ]
    },
    {
      "cell_type": "code",
      "metadata": {
        "colab": {
          "base_uri": "https://localhost:8080/"
        },
        "id": "gwgYXmwOPCQF",
        "outputId": "b0c4fbd1-d0be-494e-b5f4-33a543880ec2"
      },
      "source": [
        "#ejemplo 3.3\n",
        "CUECER = 0\n",
        "NUM = 0\n",
        "N = int(input(\"valor mayor que 1: \")) #Va a capturar la cantidad de valores \n",
        "for I in range( 1, N+1, 1):           #del num. ingresado\n",
        "    N = int(input(\"valor mayor numérico: \"))\n",
        "    if N == 0:\n",
        "            CUECER += 1\n",
        "\n",
        "print(\"CUECER= \", CUECER)"
      ],
      "execution_count": 5,
      "outputs": [
        {
          "output_type": "stream",
          "name": "stdout",
          "text": [
            "valor mayor que 1: 1\n",
            "valor mayor numérico: 0\n",
            "CUECER=  1\n"
          ]
        }
      ]
    },
    {
      "cell_type": "code",
      "metadata": {
        "colab": {
          "base_uri": "https://localhost:8080/"
        },
        "id": "CKoPOL6fQtuN",
        "outputId": "4e9106c9-0c64-4456-81ce-f0c88daab385"
      },
      "source": [
        "'''Estructura for que pinte la tabla del 7\n",
        "7 x 1 = 7\n",
        "7 x 2 = 14\n",
        "'''\n",
        "n = 7\n",
        "for i in range(2):\n",
        "    x = n * i\n",
        "    print(f\"{n} x {i} = {x}\")\n"
      ],
      "execution_count": 9,
      "outputs": [
        {
          "output_type": "stream",
          "name": "stdout",
          "text": [
            "7 x 0 = 0\n",
            "7 x 1 = 7\n"
          ]
        }
      ]
    },
    {
      "cell_type": "code",
      "metadata": {
        "id": "496DhnFPR4M7"
      },
      "source": [
        "''' Mande msj: dame un num entre 1 y 5\n",
        "'''\n",
        "n = int(input(\"Dame un num entre 1 y 5: \"))\n",
        "if n > 0 and n <= 5:\n",
        "    f = int(input(f\"Dame un valor entre {n} y 10: \"))\n",
        "    if f >= n and n <=10:\n",
        "        for i in range(n, f+1): #+1 porque el stop no se incluye el stop ()llegaría a un núm anterior\n",
        "            for j in range(1, 11):\n",
        "                print(f\"{i} x {j} = \", i*j)\n",
        "            print(\"-.-.-.-.-.-.-\")\n",
        "    else:\n",
        "    print(\"Valor fuera de rango\")\n",
        "else:\n",
        "    print(\"Valor fuera de rango\")"
      ],
      "execution_count": null,
      "outputs": []
    },
    {
      "cell_type": "markdown",
      "metadata": {
        "id": "AS0CTEQeWneZ"
      },
      "source": [
        "#Generadores de listas\n",
        "Notación especial de Python que permite crear una lista de tamaño específico con valores iniciales\n"
      ]
    },
    {
      "cell_type": "code",
      "metadata": {
        "colab": {
          "base_uri": "https://localhost:8080/"
        },
        "id": "ZMsv-lA8VmcB",
        "outputId": "ab0dc6e3-8c9d-4b87-c387-581622359421"
      },
      "source": [
        "numeros = [ 0 for x in range(5) ]\n",
        "print(numeros)\n",
        "#Empleando la variable de control x para el valor inicial\n",
        "numeros = [ x for x in range(5) ]\n",
        "print(numeros)\n",
        "numeros = [ x for x in range(0,101,10) ]\n",
        "print(numeros)\n",
        "print(\"-.-.-.-.-\") \n",
        "#compañero X\n",
        "numeros = [ (x+1)*10 for x in range(10) ]\n",
        "print(numeros)\n",
        "print(\"-.-.-.-.-\")\n",
        "#Prof\n",
        "numeros = [ x*10 for x in range(1,11) ]\n",
        "print(numeros)"
      ],
      "execution_count": 36,
      "outputs": [
        {
          "output_type": "stream",
          "name": "stdout",
          "text": [
            "[0, 0, 0, 0, 0]\n",
            "[0, 1, 2, 3, 4]\n",
            "[0, 10, 20, 30, 40, 50, 60, 70, 80, 90, 100]\n",
            "-.-.-.-.-\n",
            "[10, 20, 30, 40, 50, 60, 70, 80, 90, 100]\n",
            "-.-.-.-.-\n",
            "[10, 20, 30, 40, 50, 60, 70, 80, 90, 100]\n"
          ]
        }
      ]
    },
    {
      "cell_type": "code",
      "metadata": {
        "colab": {
          "base_uri": "https://localhost:8080/"
        },
        "id": "DcJ9VNN_YRoJ",
        "outputId": "8821574e-223e-469d-c549-035d8781ab2e"
      },
      "source": [
        "''' Calcular promedio de edades'''\n",
        "\n",
        "edades = [0 for x in range(5)]\n",
        "suma=0\n",
        "\n",
        "for x in range(5):\n",
        "    edades[x] = int(input(\"Dame la edad: \"))\n",
        "    suma= suma+edades[x]\n",
        "print(edades)\n",
        "print(\"Promedio: \", suma/5)"
      ],
      "execution_count": 57,
      "outputs": [
        {
          "output_type": "stream",
          "name": "stdout",
          "text": [
            "Dame la edad: 45\n",
            "Dame la edad: 13\n",
            "Dame la edad: 51\n",
            "Dame la edad: 65\n",
            "Dame la edad: 45\n",
            "[45, 13, 51, 65, 45]\n",
            "Promedio:  43.8\n",
            "[45, 13, 51, 65, 45]\n"
          ]
        }
      ]
    },
    {
      "cell_type": "code",
      "metadata": {
        "colab": {
          "base_uri": "https://localhost:8080/"
        },
        "id": "r0bGSRj8cRMw",
        "outputId": "e7ea00ed-9912-4fe7-c35b-6993fba0b993"
      },
      "source": [
        "import random\n",
        "print(random.random())\n",
        "print(random.uniform(5,11))\n",
        "val = round(random.uniform(5,11) , 2)\n",
        "print(val)\n",
        "\n",
        "valores = [round(random.uniform(5,11), 2) for x in range(20)]\n",
        "print(valores)"
      ],
      "execution_count": 64,
      "outputs": [
        {
          "output_type": "stream",
          "name": "stdout",
          "text": [
            "0.26422332596457765\n",
            "5.783625145761498\n",
            "6.24\n",
            "[8.59, 9.03, 9.9, 9.8, 8.06, 9.44, 9.22, 10.85, 7.77, 9.66, 6.18, 6.31, 10.18, 7.26, 6.09, 10.91, 8.37, 10.07, 5.04, 10.72]\n"
          ]
        }
      ]
    },
    {
      "cell_type": "code",
      "metadata": {
        "id": "z1NQPAUOdzWI"
      },
      "source": [
        "#Tarea completar programa\n",
        "# identificar cuál num aleatorio es el menor\n",
        "# cuál es el valor más grande\n",
        "# promedio de los valores\n"
      ],
      "execution_count": null,
      "outputs": []
    }
  ]
}