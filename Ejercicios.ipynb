{
  "nbformat": 4,
  "nbformat_minor": 0,
  "metadata": {
    "colab": {
      "name": "Ejercicios.ipynb",
      "provenance": [],
      "authorship_tag": "ABX9TyNy+1+lv374OhxyEWDCwZpA",
      "include_colab_link": true
    },
    "kernelspec": {
      "name": "python3",
      "display_name": "Python 3"
    },
    "language_info": {
      "name": "python"
    }
  },
  "cells": [
    {
      "cell_type": "markdown",
      "metadata": {
        "id": "view-in-github",
        "colab_type": "text"
      },
      "source": [
        "<a href=\"https://colab.research.google.com/github/KariGG/CyP2022G1157/blob/main/Ejercicios.ipynb\" target=\"_parent\"><img src=\"https://colab.research.google.com/assets/colab-badge.svg\" alt=\"Open In Colab\"/></a>"
      ]
    },
    {
      "cell_type": "markdown",
      "metadata": {
        "id": "BDiMUkUki-IP"
      },
      "source": [
        "#2.1\n",
        "Dada la calificación, el programa escribe aprobado si es mayor a 8"
      ]
    },
    {
      "cell_type": "code",
      "metadata": {
        "colab": {
          "base_uri": "https://localhost:8080/"
        },
        "id": "vhcGr6zmZP8-",
        "outputId": "ca6e1e36-4d5d-487f-911f-5cab3c34cc91"
      },
      "source": [
        "CAL = float(input(\"Dame una calificación: \"))\n",
        "if CAL >= 8:\n",
        "    print(\"Aprobado\")\n",
        "else:\n",
        "    print(\"No aprobado\")\n",
        "print(\"Fin del programa\")"
      ],
      "execution_count": 9,
      "outputs": [
        {
          "output_type": "stream",
          "name": "stdout",
          "text": [
            "Dame una calificación: 6.3\n",
            "No aprobado\n",
            "Fin del programa\n"
          ]
        }
      ]
    },
    {
      "cell_type": "markdown",
      "metadata": {
        "id": "kyvEWWROjLsr"
      },
      "source": [
        "#2.2\n",
        "Dado como dato el sueldo de un trabajador, aplíquele un aumento del 15% si su sueldo es inferior a $1000. Imprima en este caso el nuevo sueldo del trabajador."
      ]
    },
    {
      "cell_type": "code",
      "metadata": {
        "colab": {
          "base_uri": "https://localhost:8080/"
        },
        "id": "0n6Qo-0ejlfe",
        "outputId": "5c5c2f03-eb0c-486c-a04c-cc1cd543bcac"
      },
      "source": [
        "SUE = float(input(\"Dame un sueldo: \"))\n",
        "if SUE < 1000:\n",
        "    NSUE = SUE + SUE*.15\n",
        "print(NSUE)\n",
        "print(\"Fin del programa\")"
      ],
      "execution_count": 18,
      "outputs": [
        {
          "output_type": "stream",
          "name": "stdout",
          "text": [
            "Dame un sueldo: 875.50\n",
            "1006.825\n"
          ]
        }
      ]
    },
    {
      "cell_type": "markdown",
      "metadata": {
        "id": "76DSDZDQk73d"
      },
      "source": [
        "#2.3\n",
        "Dada la calificación, el programa escribe 'aprobado' si es mayor a 8 y 'reprobado' en caso contrario"
      ]
    },
    {
      "cell_type": "code",
      "metadata": {
        "colab": {
          "base_uri": "https://localhost:8080/"
        },
        "id": "_742OJm0lYFt",
        "outputId": "004991e1-b198-4613-b4b7-af433f14969b"
      },
      "source": [
        "CAL = float(input(\"Dame una calificación: \"))\n",
        "if 10 >= CAL >= 8:\n",
        "    print(\"Aprobado\")\n",
        "elif 10 >= CAL >= .1:\n",
        "    print(\"No aprobado\")\n",
        "else:\n",
        "    print(\"Error\")\n",
        "print(\"Fin del programa\")"
      ],
      "execution_count": 24,
      "outputs": [
        {
          "output_type": "stream",
          "name": "stdout",
          "text": [
            "Dame una calificación: 11\n",
            "Error\n",
            "Fin del programa\n"
          ]
        }
      ]
    },
    {
      "cell_type": "markdown",
      "metadata": {
        "id": "2xLTSTBVl8TV"
      },
      "source": [
        "#2.4\n",
        "Dado como dato el sueldo de un trabaja\u0002dor, le aplique un aumento del 15% si su sueldo es inferior a $1000 y 12% en caso contrario. Imprima el nuevo sueldo del trabajador."
      ]
    },
    {
      "cell_type": "code",
      "metadata": {
        "colab": {
          "base_uri": "https://localhost:8080/"
        },
        "id": "nrF2snm6lygX",
        "outputId": "8fa99c2e-823c-4a7d-c39b-cb164727f716"
      },
      "source": [
        "SUE = float(input(\"Dame un sueldo: \"))\n",
        "if SUE < 1000:\n",
        "    AUM = SUE*.15\n",
        "else:\n",
        "    AUM = SUE*.12\n",
        "NSUE = SUE + AUM\n",
        "print(\"El nuevo sueldo es:\", NSUE)\n",
        "print(\"** Fin del programa **\")"
      ],
      "execution_count": 29,
      "outputs": [
        {
          "output_type": "stream",
          "name": "stdout",
          "text": [
            "Dame un sueldo: 930.80\n",
            "El nuevo sueldo es: 1070.4199999999998\n",
            "** Fin del programa **\n"
          ]
        }
      ]
    },
    {
      "cell_type": "markdown",
      "metadata": {
        "id": "zYq5jHKfmsf_"
      },
      "source": [
        "#2.7\n",
        "Como datos dos variables de tipo entero, obtenga el resultado de la función:"
      ]
    },
    {
      "cell_type": "code",
      "metadata": {
        "colab": {
          "base_uri": "https://localhost:8080/"
        },
        "id": "ttcrqVYZnUue",
        "outputId": "ad7b2093-c1d6-4311-8722-73bbdd9c8d48"
      },
      "source": [
        "V = int(input(\"Dame un valor: \"))\n",
        "NUM = int(input(\"Dame un número: \"))\n",
        "\n",
        "if NUM == 1: \n",
        "    VAL = 100*V\n",
        "elif NUM == 2:\n",
        "    VAL = 100**V\n",
        "elif NUM == 3:\n",
        "    VAL = 100/V\n",
        "else:\n",
        "    VAL = 0\n",
        "print(VAL)\n",
        "print(\"--- Fin del programa ---\")"
      ],
      "execution_count": 36,
      "outputs": [
        {
          "output_type": "stream",
          "name": "stdout",
          "text": [
            "Dame un valor: 3\n",
            "Dame un número: 2\n",
            "1000000\n",
            "--- Fin del programa ---\n"
          ]
        }
      ]
    },
    {
      "cell_type": "markdown",
      "metadata": {
        "id": "a8SGjZoZqF10"
      },
      "source": [
        "#2.8\n",
        "Dado como datos la categoría y el sueldo de un trabajador, calcule el aumento correspondiente teniendo en cuenta la tabla. Imprima la categoría del trabajador y su nuevo sueldo.\n",
        "- 1 - 15\n",
        "- 2 - 10\n",
        "- 3 - 8\n",
        "- 4 - 7"
      ]
    },
    {
      "cell_type": "code",
      "metadata": {
        "colab": {
          "base_uri": "https://localhost:8080/"
        },
        "id": "PmUbvp0BqQw1",
        "outputId": "3caa4e6c-b3e3-4f78-f781-a2c6e4dab2fa"
      },
      "source": [
        "CAT = int(input(\"Introduzca la categoría (del 1 al 4): \"))\n",
        "SUE = int(input(\"¿Cuál es el sueldo?: \"))\n",
        "\n",
        "if CAT == 1:\n",
        "    AUM = SUE * .15\n",
        "elif CAT == 2:\n",
        "    AUM = SUE * .10\n",
        "elif CAT == 3:\n",
        "    AUM = SUE * .08\n",
        "elif CAT == 4:\n",
        "    AUM = SUE * .07\n",
        "else:\n",
        "    print(\"Error\")\n",
        "NSUE = SUE + AUM\n",
        "print(\"El nuevo sueldo es: \", NSUE)"
      ],
      "execution_count": 42,
      "outputs": [
        {
          "output_type": "stream",
          "name": "stdout",
          "text": [
            "Introduzca la categoría (del 1 al 4): 3\n",
            "¿Cuál es el sueldo?: 3800\n",
            "El nuevo sueldo es:  4104.0\n"
          ]
        }
      ]
    },
    {
      "cell_type": "markdown",
      "metadata": {
        "id": "aXCw-i4mr_fU"
      },
      "source": [
        "#2.12\n",
        "Dados los datos A, B y C que representan números enteros diferentes, construya un diagrama de flujo para escribir estos números en forma descendente."
      ]
    },
    {
      "cell_type": "code",
      "metadata": {
        "colab": {
          "base_uri": "https://localhost:8080/"
        },
        "id": "O_YwX6CYsEt8",
        "outputId": "88bc10a7-0b11-478a-f6a2-58ace2190404"
      },
      "source": [
        "A = int(input(\"Dame un número: \"))\n",
        "B = int(input(\"Dame otro número: \"))\n",
        "C = int(input(\"Dame un número más: \"))\n",
        "\n",
        "if A > B:\n",
        "    if A > C:\n",
        "        if B > C:\n",
        "            M = A\n",
        "            mm = B\n",
        "            m = C\n",
        "        else:\n",
        "            M = A\n",
        "            mm = C\n",
        "            m = B\n",
        "    else:\n",
        "        mm = A\n",
        "        M = C\n",
        "        m = B\n",
        "else:\n",
        "    if B > C:\n",
        "        if A > C:      \n",
        "          M = B\n",
        "          mm = A\n",
        "          m = C\n",
        "        else:\n",
        "            M = B\n",
        "            m = A\n",
        "            mm = C\n",
        "    else:\n",
        "        mm = B\n",
        "        M = C\n",
        "        m = A\n",
        "print(M,mm,m)\n"
      ],
      "execution_count": 62,
      "outputs": [
        {
          "output_type": "stream",
          "name": "stdout",
          "text": [
            "Dame un número: 1\n",
            "Dame otro número: 5\n",
            "Dame un número más: 0\n",
            "5 1 0\n"
          ]
        }
      ]
    },
    {
      "cell_type": "code",
      "metadata": {
        "colab": {
          "base_uri": "https://localhost:8080/"
        },
        "id": "b5D8RuLgu707",
        "outputId": "62684944-ab21-43a4-ee70-0becab6f1405"
      },
      "source": [
        "A = int(input(\"Dame un número: \"))\n",
        "B = int(input(\"Dame otro número: \"))\n",
        "C = int(input(\"Dame un número más: \"))\n",
        "\n",
        "if A > B and A > C:\n",
        "    M = A\n",
        "    if B > C:\n",
        "        mm = B\n",
        "        m = C\n",
        "    else:\n",
        "        mm = C\n",
        "        m = B\n",
        "elif B > C:\n",
        "    M = B\n",
        "    if C > A:\n",
        "        mm = C\n",
        "        m = A\n",
        "    else:\n",
        "        mm = A\n",
        "        m = C\n",
        "elif C > B and B > A:\n",
        "    M = C\n",
        "    mm = B\n",
        "    m = A\n",
        "else:\n",
        "    M = C\n",
        "    mm =A\n",
        "    m = B\n",
        "print(M,mm,m)"
      ],
      "execution_count": 124,
      "outputs": [
        {
          "output_type": "stream",
          "name": "stdout",
          "text": [
            "Dame un número: 1\n",
            "Dame otro número: 6921\n",
            "Dame un número más: 321\n",
            "6921 321 1\n"
          ]
        }
      ]
    },
    {
      "cell_type": "markdown",
      "metadata": {
        "id": "osIGlxdwJdxG"
      },
      "source": [
        ""
      ]
    }
  ]
}